{
  "cells": [
    {
      "cell_type": "markdown",
      "metadata": {
        "id": "view-in-github",
        "colab_type": "text"
      },
      "source": [
        "<a href=\"https://colab.research.google.com/github/ivianrr/curso-big-data/blob/main/Sesi%C3%B3n%202/M4_09_Series.ipynb\" target=\"_parent\"><img src=\"https://colab.research.google.com/assets/colab-badge.svg\" alt=\"Open In Colab\"/></a>"
      ]
    },
    {
      "cell_type": "code",
      "execution_count": 80,
      "metadata": {
        "id": "maK0D7gRnzEb"
      },
      "outputs": [],
      "source": [
        "import pandas as pd"
      ]
    },
    {
      "cell_type": "markdown",
      "metadata": {
        "id": "eVgc05genzEP"
      },
      "source": [
        "# Ejercicio 1\n",
        "\n",
        "Obtener la versión de la librería pandas."
      ]
    },
    {
      "cell_type": "code",
      "source": [
        "pd.__version__\n"
      ],
      "metadata": {
        "id": "U0YIN7Hln3f_",
        "outputId": "0a0d8409-d719-42a6-dc0e-355cda518612",
        "colab": {
          "base_uri": "https://localhost:8080/",
          "height": 35
        }
      },
      "execution_count": 81,
      "outputs": [
        {
          "output_type": "execute_result",
          "data": {
            "text/plain": [
              "'1.3.5'"
            ],
            "application/vnd.google.colaboratory.intrinsic+json": {
              "type": "string"
            }
          },
          "metadata": {},
          "execution_count": 81
        }
      ]
    },
    {
      "cell_type": "markdown",
      "metadata": {
        "id": "E-sKD9dYnzEf"
      },
      "source": [
        "# Ejercicio 2\n",
        "\n",
        "\n",
        "\n",
        "*   Convertir la lista dada en una estructura pandas Series. \n",
        "*   Comprueba su tamaño.\n",
        "* Utiliza el comando describe() y mira para qué sirve."
      ]
    },
    {
      "cell_type": "code",
      "source": [
        "datos = [2, 3, 5, 7, 11]\n",
        "\n",
        "sr=pd.Series(datos)"
      ],
      "metadata": {
        "id": "HWIzBJP0n4kP"
      },
      "execution_count": 82,
      "outputs": []
    },
    {
      "cell_type": "markdown",
      "metadata": {
        "id": "krqmjekUnzEo"
      },
      "source": [
        "# Ejercicio 3\n",
        "\n",
        "* Ahora vuelve a convertir la pandas series de antes a una lista Python.\n",
        "* Comprueba su tipo con la función type()\n",
        "\n"
      ]
    },
    {
      "cell_type": "code",
      "source": [
        "l1=list(sr)\n",
        "print(l1)\n",
        "type(l1)"
      ],
      "metadata": {
        "id": "UfLFUKoro6KX",
        "outputId": "3f5a6e0b-d583-4bd7-d62a-e9a8611d3e6c",
        "colab": {
          "base_uri": "https://localhost:8080/"
        }
      },
      "execution_count": 83,
      "outputs": [
        {
          "output_type": "stream",
          "name": "stdout",
          "text": [
            "[2, 3, 5, 7, 11]\n"
          ]
        },
        {
          "output_type": "execute_result",
          "data": {
            "text/plain": [
              "list"
            ]
          },
          "metadata": {},
          "execution_count": 83
        }
      ]
    },
    {
      "cell_type": "code",
      "source": [
        "l2=sr.to_list()\n",
        "print(l2)\n",
        "type(l2)"
      ],
      "metadata": {
        "id": "hQdOG4W2WfpQ",
        "outputId": "455c1b4c-3f4e-497d-e051-62dd1964b057",
        "colab": {
          "base_uri": "https://localhost:8080/"
        }
      },
      "execution_count": 84,
      "outputs": [
        {
          "output_type": "stream",
          "name": "stdout",
          "text": [
            "[2, 3, 5, 7, 11]\n"
          ]
        },
        {
          "output_type": "execute_result",
          "data": {
            "text/plain": [
              "list"
            ]
          },
          "metadata": {},
          "execution_count": 84
        }
      ]
    },
    {
      "cell_type": "markdown",
      "metadata": {
        "id": "8utv2EKSnzEt"
      },
      "source": [
        "# Ejercicio 4\n",
        "\n",
        "Aplicar las operaciones aritméticas básicas sobre los objetos Series dados.\n",
        "\n",
        "Prueba a:\n",
        "* Sumar\n",
        "* Restar\n",
        "* Multiplicar\n",
        "* Dividir"
      ]
    },
    {
      "cell_type": "code",
      "source": [
        "serie1 = pd.Series([1, 2, 3, 4, 5])\n",
        "serie2 = pd.Series([9, 8, 7, 6, 5])"
      ],
      "metadata": {
        "id": "JNmHYi1PpVjm"
      },
      "execution_count": 85,
      "outputs": []
    },
    {
      "cell_type": "code",
      "source": [
        "print(serie1 + serie2)\n",
        "print(serie1 - serie2)\n",
        "print(serie1 * serie2)\n",
        "print(serie1 / serie2)"
      ],
      "metadata": {
        "id": "o-X9CbZWppZ2",
        "outputId": "d43419bf-5773-46ad-cdaa-a54048027d0f",
        "colab": {
          "base_uri": "https://localhost:8080/"
        }
      },
      "execution_count": 86,
      "outputs": [
        {
          "output_type": "stream",
          "name": "stdout",
          "text": [
            "0    10\n",
            "1    10\n",
            "2    10\n",
            "3    10\n",
            "4    10\n",
            "dtype: int64\n",
            "0   -8\n",
            "1   -6\n",
            "2   -4\n",
            "3   -2\n",
            "4    0\n",
            "dtype: int64\n",
            "0     9\n",
            "1    16\n",
            "2    21\n",
            "3    24\n",
            "4    25\n",
            "dtype: int64\n",
            "0    0.111111\n",
            "1    0.250000\n",
            "2    0.428571\n",
            "3    0.666667\n",
            "4    1.000000\n",
            "dtype: float64\n"
          ]
        }
      ]
    },
    {
      "cell_type": "markdown",
      "metadata": {
        "id": "40W856j3nzEw"
      },
      "source": [
        "# Ejercicio 5\n",
        "\n",
        "Usar operadores relacionales para comparar los objetos Series dados.\n",
        "\n"
      ]
    },
    {
      "cell_type": "code",
      "execution_count": 87,
      "metadata": {
        "id": "ZfnLx8YQnzEx"
      },
      "outputs": [],
      "source": [
        "serie1 = pd.Series([1, 2, 3, 5, 7])\n",
        "serie2 = pd.Series([13, 17, 11, 5, 3])"
      ]
    },
    {
      "cell_type": "code",
      "source": [
        "serie1>serie2"
      ],
      "metadata": {
        "id": "AeP1fbBqpvry",
        "outputId": "924bfbaf-771d-4898-95f8-5a3c97c092ff",
        "colab": {
          "base_uri": "https://localhost:8080/"
        }
      },
      "execution_count": 88,
      "outputs": [
        {
          "output_type": "execute_result",
          "data": {
            "text/plain": [
              "0    False\n",
              "1    False\n",
              "2    False\n",
              "3    False\n",
              "4     True\n",
              "dtype: bool"
            ]
          },
          "metadata": {},
          "execution_count": 88
        }
      ]
    },
    {
      "cell_type": "code",
      "source": [
        "serie1==serie2"
      ],
      "metadata": {
        "id": "-npsbOEHXVVD",
        "outputId": "13d2aa00-1a15-4c38-d32a-4375977f8b44",
        "colab": {
          "base_uri": "https://localhost:8080/"
        }
      },
      "execution_count": 89,
      "outputs": [
        {
          "output_type": "execute_result",
          "data": {
            "text/plain": [
              "0    False\n",
              "1    False\n",
              "2    False\n",
              "3     True\n",
              "4    False\n",
              "dtype: bool"
            ]
          },
          "metadata": {},
          "execution_count": 89
        }
      ]
    },
    {
      "cell_type": "markdown",
      "source": [
        "¿Qué ocurre? ¿Se comparan todos los elementos? ¿Se compara el objeto únicamente...?"
      ],
      "metadata": {
        "id": "uinEf0dbqhTg"
      }
    },
    {
      "cell_type": "markdown",
      "source": [
        "\n",
        "\n",
        "```\n",
        "Se comparan elemento a elemento.\n",
        "```\n",
        "\n"
      ],
      "metadata": {
        "id": "IyYj00koq0Iu"
      }
    },
    {
      "cell_type": "markdown",
      "metadata": {
        "id": "Mu9fMnItnzE0"
      },
      "source": [
        "# Ejercicio 6\n",
        "\n",
        "\n",
        "\n",
        "*   Convertir el diccionario Python en un objeto Series.\n",
        "*   Intenta imprimir un pantalla algún valor de la serie.\n",
        "\n",
        "PD: Fíjate como accedemos al valor.\n",
        "\n",
        "\n",
        "\n"
      ]
    },
    {
      "cell_type": "code",
      "source": [
        "datos = {'a': 10, 'b': 20, 'c': 30, 'd': 40}\n",
        "\n",
        "serie=pd.Series(datos)\n",
        "print(serie['b'],\"\\n\")\n",
        "serie"
      ],
      "metadata": {
        "id": "QuUYkJE3rIwU",
        "outputId": "b6620183-7a63-4b50-afe5-31ba477ec14a",
        "colab": {
          "base_uri": "https://localhost:8080/"
        }
      },
      "execution_count": 90,
      "outputs": [
        {
          "output_type": "stream",
          "name": "stdout",
          "text": [
            "20 \n",
            "\n"
          ]
        },
        {
          "output_type": "execute_result",
          "data": {
            "text/plain": [
              "a    10\n",
              "b    20\n",
              "c    30\n",
              "d    40\n",
              "dtype: int64"
            ]
          },
          "metadata": {},
          "execution_count": 90
        }
      ]
    },
    {
      "cell_type": "markdown",
      "metadata": {
        "id": "9emLAfs2nzE1"
      },
      "source": [
        "# Ejercicio 7\n",
        "\n",
        "Crea un array NumPy y conviertelo en un objeto Series.\n",
        "\n"
      ]
    },
    {
      "cell_type": "code",
      "execution_count": 91,
      "metadata": {
        "id": "HUgxTZ7gnzE2",
        "outputId": "299e641d-34ee-499a-ad63-1cdcafb1e00c",
        "colab": {
          "base_uri": "https://localhost:8080/"
        }
      },
      "outputs": [
        {
          "output_type": "execute_result",
          "data": {
            "text/plain": [
              "array([0.43602989, 0.96614868, 0.62744008, 0.28294923, 0.739641  ,\n",
              "       0.42624991, 0.24442453, 0.87341176, 0.23801799, 0.86583558])"
            ]
          },
          "metadata": {},
          "execution_count": 91
        }
      ],
      "source": [
        "#Crea un array NumPy \n",
        "import numpy as np\n",
        "vector = np.random.random(10)\n",
        "vector"
      ]
    },
    {
      "cell_type": "code",
      "source": [
        "#Conviertelo en un objeto Series.\n",
        "pd.Series(vector)"
      ],
      "metadata": {
        "id": "murDJSj5smcO",
        "outputId": "d07d0fc0-c29f-47aa-abc4-b91dbad0d645",
        "colab": {
          "base_uri": "https://localhost:8080/"
        }
      },
      "execution_count": 92,
      "outputs": [
        {
          "output_type": "execute_result",
          "data": {
            "text/plain": [
              "0    0.436030\n",
              "1    0.966149\n",
              "2    0.627440\n",
              "3    0.282949\n",
              "4    0.739641\n",
              "5    0.426250\n",
              "6    0.244425\n",
              "7    0.873412\n",
              "8    0.238018\n",
              "9    0.865836\n",
              "dtype: float64"
            ]
          },
          "metadata": {},
          "execution_count": 92
        }
      ]
    },
    {
      "cell_type": "markdown",
      "metadata": {
        "id": "RqLH1mb5nzE4"
      },
      "source": [
        "# Ejercicio 8\n",
        "\n",
        "Cambiar el tipo de datos de un objeto Series.\n",
        "\n",
        "\n",
        "\n",
        "*   Cambiar la siguiente serie de Strings en númerica\n",
        "\n"
      ]
    },
    {
      "cell_type": "code",
      "source": [
        "datos = pd.Series(['100', '200', '', '300.15', '500.8'])\n",
        "pd.to_numeric(datos)"
      ],
      "metadata": {
        "id": "wsIJSY4vv5XC",
        "colab": {
          "base_uri": "https://localhost:8080/"
        },
        "outputId": "f584137d-0e7e-4698-d45d-11df15174c5c"
      },
      "execution_count": 93,
      "outputs": [
        {
          "output_type": "execute_result",
          "data": {
            "text/plain": [
              "0    100.00\n",
              "1    200.00\n",
              "2       NaN\n",
              "3    300.15\n",
              "4    500.80\n",
              "dtype: float64"
            ]
          },
          "metadata": {},
          "execution_count": 93
        }
      ]
    },
    {
      "cell_type": "markdown",
      "metadata": {
        "id": "y-hphByznzE6"
      },
      "source": [
        "# Ejercicio 9\n",
        "\n",
        "Obtener una columna de un objeto DataFrame como un objeto Series.\n",
        "\n"
      ]
    },
    {
      "cell_type": "code",
      "execution_count": 94,
      "metadata": {
        "id": "X_HrMF_BnzE7",
        "colab": {
          "base_uri": "https://localhost:8080/",
          "height": 0
        },
        "outputId": "31c3d1cf-ed84-4689-9c8d-7e183df7dc1e"
      },
      "outputs": [
        {
          "output_type": "execute_result",
          "data": {
            "text/plain": [
              "   A  B   C\n",
              "0  1  9   2\n",
              "1  2  8   3\n",
              "2  3  7   5\n",
              "3  4  6   7\n",
              "4  5  5  11"
            ],
            "text/html": [
              "\n",
              "  <div id=\"df-52f6627a-27cb-49ff-bf64-b0dfa19b4639\">\n",
              "    <div class=\"colab-df-container\">\n",
              "      <div>\n",
              "<style scoped>\n",
              "    .dataframe tbody tr th:only-of-type {\n",
              "        vertical-align: middle;\n",
              "    }\n",
              "\n",
              "    .dataframe tbody tr th {\n",
              "        vertical-align: top;\n",
              "    }\n",
              "\n",
              "    .dataframe thead th {\n",
              "        text-align: right;\n",
              "    }\n",
              "</style>\n",
              "<table border=\"1\" class=\"dataframe\">\n",
              "  <thead>\n",
              "    <tr style=\"text-align: right;\">\n",
              "      <th></th>\n",
              "      <th>A</th>\n",
              "      <th>B</th>\n",
              "      <th>C</th>\n",
              "    </tr>\n",
              "  </thead>\n",
              "  <tbody>\n",
              "    <tr>\n",
              "      <th>0</th>\n",
              "      <td>1</td>\n",
              "      <td>9</td>\n",
              "      <td>2</td>\n",
              "    </tr>\n",
              "    <tr>\n",
              "      <th>1</th>\n",
              "      <td>2</td>\n",
              "      <td>8</td>\n",
              "      <td>3</td>\n",
              "    </tr>\n",
              "    <tr>\n",
              "      <th>2</th>\n",
              "      <td>3</td>\n",
              "      <td>7</td>\n",
              "      <td>5</td>\n",
              "    </tr>\n",
              "    <tr>\n",
              "      <th>3</th>\n",
              "      <td>4</td>\n",
              "      <td>6</td>\n",
              "      <td>7</td>\n",
              "    </tr>\n",
              "    <tr>\n",
              "      <th>4</th>\n",
              "      <td>5</td>\n",
              "      <td>5</td>\n",
              "      <td>11</td>\n",
              "    </tr>\n",
              "  </tbody>\n",
              "</table>\n",
              "</div>\n",
              "      <button class=\"colab-df-convert\" onclick=\"convertToInteractive('df-52f6627a-27cb-49ff-bf64-b0dfa19b4639')\"\n",
              "              title=\"Convert this dataframe to an interactive table.\"\n",
              "              style=\"display:none;\">\n",
              "        \n",
              "  <svg xmlns=\"http://www.w3.org/2000/svg\" height=\"24px\"viewBox=\"0 0 24 24\"\n",
              "       width=\"24px\">\n",
              "    <path d=\"M0 0h24v24H0V0z\" fill=\"none\"/>\n",
              "    <path d=\"M18.56 5.44l.94 2.06.94-2.06 2.06-.94-2.06-.94-.94-2.06-.94 2.06-2.06.94zm-11 1L8.5 8.5l.94-2.06 2.06-.94-2.06-.94L8.5 2.5l-.94 2.06-2.06.94zm10 10l.94 2.06.94-2.06 2.06-.94-2.06-.94-.94-2.06-.94 2.06-2.06.94z\"/><path d=\"M17.41 7.96l-1.37-1.37c-.4-.4-.92-.59-1.43-.59-.52 0-1.04.2-1.43.59L10.3 9.45l-7.72 7.72c-.78.78-.78 2.05 0 2.83L4 21.41c.39.39.9.59 1.41.59.51 0 1.02-.2 1.41-.59l7.78-7.78 2.81-2.81c.8-.78.8-2.07 0-2.86zM5.41 20L4 18.59l7.72-7.72 1.47 1.35L5.41 20z\"/>\n",
              "  </svg>\n",
              "      </button>\n",
              "      \n",
              "  <style>\n",
              "    .colab-df-container {\n",
              "      display:flex;\n",
              "      flex-wrap:wrap;\n",
              "      gap: 12px;\n",
              "    }\n",
              "\n",
              "    .colab-df-convert {\n",
              "      background-color: #E8F0FE;\n",
              "      border: none;\n",
              "      border-radius: 50%;\n",
              "      cursor: pointer;\n",
              "      display: none;\n",
              "      fill: #1967D2;\n",
              "      height: 32px;\n",
              "      padding: 0 0 0 0;\n",
              "      width: 32px;\n",
              "    }\n",
              "\n",
              "    .colab-df-convert:hover {\n",
              "      background-color: #E2EBFA;\n",
              "      box-shadow: 0px 1px 2px rgba(60, 64, 67, 0.3), 0px 1px 3px 1px rgba(60, 64, 67, 0.15);\n",
              "      fill: #174EA6;\n",
              "    }\n",
              "\n",
              "    [theme=dark] .colab-df-convert {\n",
              "      background-color: #3B4455;\n",
              "      fill: #D2E3FC;\n",
              "    }\n",
              "\n",
              "    [theme=dark] .colab-df-convert:hover {\n",
              "      background-color: #434B5C;\n",
              "      box-shadow: 0px 1px 3px 1px rgba(0, 0, 0, 0.15);\n",
              "      filter: drop-shadow(0px 1px 2px rgba(0, 0, 0, 0.3));\n",
              "      fill: #FFFFFF;\n",
              "    }\n",
              "  </style>\n",
              "\n",
              "      <script>\n",
              "        const buttonEl =\n",
              "          document.querySelector('#df-52f6627a-27cb-49ff-bf64-b0dfa19b4639 button.colab-df-convert');\n",
              "        buttonEl.style.display =\n",
              "          google.colab.kernel.accessAllowed ? 'block' : 'none';\n",
              "\n",
              "        async function convertToInteractive(key) {\n",
              "          const element = document.querySelector('#df-52f6627a-27cb-49ff-bf64-b0dfa19b4639');\n",
              "          const dataTable =\n",
              "            await google.colab.kernel.invokeFunction('convertToInteractive',\n",
              "                                                     [key], {});\n",
              "          if (!dataTable) return;\n",
              "\n",
              "          const docLinkHtml = 'Like what you see? Visit the ' +\n",
              "            '<a target=\"_blank\" href=https://colab.research.google.com/notebooks/data_table.ipynb>data table notebook</a>'\n",
              "            + ' to learn more about interactive tables.';\n",
              "          element.innerHTML = '';\n",
              "          dataTable['output_type'] = 'display_data';\n",
              "          await google.colab.output.renderOutput(dataTable, element);\n",
              "          const docLink = document.createElement('div');\n",
              "          docLink.innerHTML = docLinkHtml;\n",
              "          element.appendChild(docLink);\n",
              "        }\n",
              "      </script>\n",
              "    </div>\n",
              "  </div>\n",
              "  "
            ]
          },
          "metadata": {},
          "execution_count": 94
        }
      ],
      "source": [
        "datos = {'A': [1, 2, 3, 4, 5], 'B': [9, 8, 7, 6, 5], 'C': [2, 3, 5, 7, 11]}\n",
        "\n",
        "df = pd.DataFrame(data=datos)\n",
        "\n",
        "df"
      ]
    },
    {
      "cell_type": "code",
      "source": [
        "serie=df['A']\n",
        "serie"
      ],
      "metadata": {
        "id": "5REjKk-p20Tn",
        "colab": {
          "base_uri": "https://localhost:8080/"
        },
        "outputId": "aabdc09c-462a-47a9-89ec-88f8d67de726"
      },
      "execution_count": 95,
      "outputs": [
        {
          "output_type": "execute_result",
          "data": {
            "text/plain": [
              "0    1\n",
              "1    2\n",
              "2    3\n",
              "3    4\n",
              "4    5\n",
              "Name: A, dtype: int64"
            ]
          },
          "metadata": {},
          "execution_count": 95
        }
      ]
    },
    {
      "cell_type": "markdown",
      "metadata": {
        "id": "Vj68yTbFnzE_"
      },
      "source": [
        "# Ejercicio 10 (Opcional)\n",
        "\n",
        "Convertir un objeto Series con múltiples listas en un único objeto Series.\n",
        "\n"
      ]
    },
    {
      "cell_type": "code",
      "execution_count": 131,
      "metadata": {
        "id": "xmbacHLSnzE_",
        "outputId": "ca3c33df-a817-4ae4-b542-711e2675324a",
        "colab": {
          "base_uri": "https://localhost:8080/"
        }
      },
      "outputs": [
        {
          "output_type": "execute_result",
          "data": {
            "text/plain": [
              "0    [Colombia, Perú, Argentina]\n",
              "1             [Bolivia, Uruguay]\n",
              "2                        [Chile]\n",
              "dtype: object"
            ]
          },
          "metadata": {},
          "execution_count": 131
        }
      ],
      "source": [
        "datos = [['Colombia', 'Perú', 'Argentina'], ['Bolivia', 'Uruguay'], ['Chile']]\n",
        "\n",
        "serie = pd.Series(datos)\n",
        "\n",
        "serie"
      ]
    },
    {
      "cell_type": "code",
      "source": [
        "serie2=serie.explode()\n",
        "serie2=serie2.reset_index(drop=True)\n",
        "serie2"
      ],
      "metadata": {
        "id": "hsSmIGvZ2-qg",
        "colab": {
          "base_uri": "https://localhost:8080/"
        },
        "outputId": "96ae75f5-b659-453e-aef4-f1dd7fc89f45"
      },
      "execution_count": 135,
      "outputs": [
        {
          "output_type": "execute_result",
          "data": {
            "text/plain": [
              "0     Colombia\n",
              "1         Perú\n",
              "2    Argentina\n",
              "3      Bolivia\n",
              "4      Uruguay\n",
              "5        Chile\n",
              "dtype: object"
            ]
          },
          "metadata": {},
          "execution_count": 135
        }
      ]
    },
    {
      "cell_type": "markdown",
      "metadata": {
        "id": "vK92e8xpnzFB"
      },
      "source": [
        "# Ejercicio 11\n",
        "\n",
        "Ordenar los valores de un objeto Series con el método sort_values.\n",
        "\n"
      ]
    },
    {
      "cell_type": "code",
      "execution_count": 98,
      "metadata": {
        "id": "TVDm-BdjnzFC"
      },
      "outputs": [],
      "source": [
        "datos = ['1.1', 'Python', '0.5', 'pandas', '2.8']\n",
        "\n",
        "serie = pd.Series(datos)\n"
      ]
    },
    {
      "cell_type": "code",
      "source": [
        "serie.sort_values()"
      ],
      "metadata": {
        "id": "AJakP7yq3bQH",
        "colab": {
          "base_uri": "https://localhost:8080/"
        },
        "outputId": "aec2dfcd-4f26-4371-fd62-157727d3ceb8"
      },
      "execution_count": 99,
      "outputs": [
        {
          "output_type": "execute_result",
          "data": {
            "text/plain": [
              "2       0.5\n",
              "0       1.1\n",
              "4       2.8\n",
              "1    Python\n",
              "3    pandas\n",
              "dtype: object"
            ]
          },
          "metadata": {},
          "execution_count": 99
        }
      ]
    },
    {
      "cell_type": "markdown",
      "metadata": {
        "id": "QiWBj_XEnzFE"
      },
      "source": [
        "# Ejercicio 12\n",
        "\n",
        "Agregar datos a un objeto Series existente.\n",
        "\n",
        "* Usa el método append()\n",
        "* IMPORTANTE: Si estamos trabajando con pandas series y aplicamos el método append(), espera recibir como argumento una pandas series. "
      ]
    },
    {
      "cell_type": "code",
      "execution_count": 100,
      "metadata": {
        "id": "skbUWSiMnzFF",
        "outputId": "cb815537-bbe7-46fe-9666-4041c67c31de",
        "colab": {
          "base_uri": "https://localhost:8080/"
        }
      },
      "outputs": [
        {
          "output_type": "execute_result",
          "data": {
            "text/plain": [
              "0    Python\n",
              "1        C#\n",
              "2       C++\n",
              "3      Java\n",
              "4       PHP\n",
              "dtype: object"
            ]
          },
          "metadata": {},
          "execution_count": 100
        }
      ],
      "source": [
        "datos = ['Python', 'C#', 'C++', 'Java', 'PHP']\n",
        "\n",
        "serie = pd.Series(datos)\n",
        "\n",
        "serie"
      ]
    },
    {
      "cell_type": "code",
      "source": [
        "serie.append(pd.Series(['C','Rust','Javascript']))"
      ],
      "metadata": {
        "id": "ujhC2f9P4OtZ",
        "colab": {
          "base_uri": "https://localhost:8080/"
        },
        "outputId": "6029d5bf-456e-4ea4-b78e-4806055b35c4"
      },
      "execution_count": 101,
      "outputs": [
        {
          "output_type": "execute_result",
          "data": {
            "text/plain": [
              "0        Python\n",
              "1            C#\n",
              "2           C++\n",
              "3          Java\n",
              "4           PHP\n",
              "0             C\n",
              "1          Rust\n",
              "2    Javascript\n",
              "dtype: object"
            ]
          },
          "metadata": {},
          "execution_count": 101
        }
      ]
    },
    {
      "cell_type": "markdown",
      "metadata": {
        "id": "IXS4BdYJnzFG"
      },
      "source": [
        "# Ejercicio 13\n",
        "\n",
        "Crear un objeto Series a partir de un filtro aplicado a otro objeto Series.\n",
        "\n",
        "Quédate con los datos que sean menores de 6."
      ]
    },
    {
      "cell_type": "code",
      "execution_count": 102,
      "metadata": {
        "id": "ZC9oOInCnzFG",
        "outputId": "dcc0d1af-185d-4a53-8754-a6a309ff4b55",
        "colab": {
          "base_uri": "https://localhost:8080/"
        }
      },
      "outputs": [
        {
          "output_type": "execute_result",
          "data": {
            "text/plain": [
              "0    0\n",
              "1    1\n",
              "2    7\n",
              "3    3\n",
              "4    4\n",
              "5    5\n",
              "6    6\n",
              "7    7\n",
              "8    8\n",
              "9    9\n",
              "dtype: int64"
            ]
          },
          "metadata": {},
          "execution_count": 102
        }
      ],
      "source": [
        "datos = [0, 1, 7, 3, 4, 5, 6, 7, 8, 9]\n",
        "\n",
        "serie = pd.Series(datos)\n",
        "\n",
        "serie"
      ]
    },
    {
      "cell_type": "code",
      "source": [
        "serie[serie<6]"
      ],
      "metadata": {
        "id": "vyC4TQgK5or4",
        "colab": {
          "base_uri": "https://localhost:8080/"
        },
        "outputId": "8b50ccf9-56fb-4fe6-9e97-d8feed83d861"
      },
      "execution_count": 103,
      "outputs": [
        {
          "output_type": "execute_result",
          "data": {
            "text/plain": [
              "0    0\n",
              "1    1\n",
              "3    3\n",
              "4    4\n",
              "5    5\n",
              "dtype: int64"
            ]
          },
          "metadata": {},
          "execution_count": 103
        }
      ]
    },
    {
      "cell_type": "markdown",
      "metadata": {
        "id": "QOdb-mqRnzFH"
      },
      "source": [
        "# Ejercicio 14\n",
        "\n",
        "* Tenemos un objeto series con letras como Indices y números como valores\n",
        "* Cambiar el orden del índice de un objeto Series.\n",
        "* El orden tiene que ser: ['B', 'A', 'C', 'D', 'E']\n",
        "\n",
        "PISTA: Podrías buscar en internet how to change index order series python\n",
        "\n"
      ]
    },
    {
      "cell_type": "code",
      "execution_count": 104,
      "metadata": {
        "id": "UcXjfbsznzFI",
        "outputId": "83f4646a-5a8f-4e57-8f6b-a9a8b6b123bc",
        "colab": {
          "base_uri": "https://localhost:8080/"
        }
      },
      "outputs": [
        {
          "output_type": "execute_result",
          "data": {
            "text/plain": [
              "A    1\n",
              "B    2\n",
              "C    3\n",
              "D    4\n",
              "E    5\n",
              "dtype: int64"
            ]
          },
          "metadata": {},
          "execution_count": 104
        }
      ],
      "source": [
        "datos = [1, 2, 3, 4, 5]\n",
        "\n",
        "indices = ['A', 'B', 'C', 'D', 'E']\n",
        "\n",
        "serie = pd.Series(data=datos, index=indices)\n",
        "\n",
        "serie"
      ]
    },
    {
      "cell_type": "code",
      "source": [
        "serie.reindex(index=['B', 'A', 'C', 'D', 'E'])"
      ],
      "metadata": {
        "id": "kMG4TMbl6LdA",
        "colab": {
          "base_uri": "https://localhost:8080/"
        },
        "outputId": "1006f7d9-de49-4d4a-ced4-1f724d6884e7"
      },
      "execution_count": 105,
      "outputs": [
        {
          "output_type": "execute_result",
          "data": {
            "text/plain": [
              "B    2\n",
              "A    1\n",
              "C    3\n",
              "D    4\n",
              "E    5\n",
              "dtype: int64"
            ]
          },
          "metadata": {},
          "execution_count": 105
        }
      ]
    },
    {
      "cell_type": "markdown",
      "metadata": {
        "id": "nSxpankfnzFJ"
      },
      "source": [
        "# Ejercicio 15\n",
        "\n",
        "Obtener la desviación estándar y el promedio de un conjunto de datos de una serie.\n",
        "\n"
      ]
    },
    {
      "cell_type": "code",
      "execution_count": 106,
      "metadata": {
        "id": "qMIzjyE1nzFJ",
        "outputId": "b12156ac-35e4-45ce-8e73-ae56bff51e46",
        "colab": {
          "base_uri": "https://localhost:8080/"
        }
      },
      "outputs": [
        {
          "output_type": "execute_result",
          "data": {
            "text/plain": [
              "0     2\n",
              "1     3\n",
              "2     5\n",
              "3     7\n",
              "4    11\n",
              "5    13\n",
              "6    17\n",
              "7    19\n",
              "8    23\n",
              "9    29\n",
              "dtype: int64"
            ]
          },
          "metadata": {},
          "execution_count": 106
        }
      ],
      "source": [
        "datos = [2, 3, 5, 7, 11, 13, 17, 19, 23, 29]\n",
        "\n",
        "serie = pd.Series(datos)\n",
        "\n",
        "serie"
      ]
    },
    {
      "cell_type": "code",
      "source": [
        "serie.mean()"
      ],
      "metadata": {
        "id": "2qxYp0Y4Dc61",
        "colab": {
          "base_uri": "https://localhost:8080/"
        },
        "outputId": "98a61e58-9746-423a-d778-3c0615457cab"
      },
      "execution_count": 107,
      "outputs": [
        {
          "output_type": "execute_result",
          "data": {
            "text/plain": [
              "12.9"
            ]
          },
          "metadata": {},
          "execution_count": 107
        }
      ]
    },
    {
      "cell_type": "code",
      "source": [
        "serie.std()"
      ],
      "metadata": {
        "id": "yIpNTlVayF50",
        "outputId": "22707a87-0739-49d5-f435-feb7ff59a75d",
        "colab": {
          "base_uri": "https://localhost:8080/"
        }
      },
      "execution_count": 108,
      "outputs": [
        {
          "output_type": "execute_result",
          "data": {
            "text/plain": [
              "9.024041962077378"
            ]
          },
          "metadata": {},
          "execution_count": 108
        }
      ]
    },
    {
      "cell_type": "markdown",
      "metadata": {
        "id": "ViV7yVFsnzFL"
      },
      "source": [
        "# Ejercicio 16\n",
        "\n",
        "Calcular los valores mínimo y máximo de un objeto Series.\n",
        "\n"
      ]
    },
    {
      "cell_type": "code",
      "execution_count": 109,
      "metadata": {
        "id": "8K3lPRR_nzFL",
        "outputId": "547f1a73-ee61-4f5e-ca37-627cfc001a0c",
        "colab": {
          "base_uri": "https://localhost:8080/"
        }
      },
      "outputs": [
        {
          "output_type": "execute_result",
          "data": {
            "text/plain": [
              "0    19\n",
              "1     2\n",
              "2    13\n",
              "3     0\n",
              "4    23\n",
              "5    29\n",
              "6    11\n",
              "7     7\n",
              "dtype: int64"
            ]
          },
          "metadata": {},
          "execution_count": 109
        }
      ],
      "source": [
        "datos = [19, 2, 13, 0, 23, 29, 11, 7]\n",
        "\n",
        "serie = pd.Series(datos)\n",
        "\n",
        "serie"
      ]
    },
    {
      "cell_type": "code",
      "source": [
        "serie.min()"
      ],
      "metadata": {
        "id": "F4z_CX8xEFKb",
        "colab": {
          "base_uri": "https://localhost:8080/"
        },
        "outputId": "cc9292aa-b9b9-4f8a-b2a3-c60d743646aa"
      },
      "execution_count": 110,
      "outputs": [
        {
          "output_type": "execute_result",
          "data": {
            "text/plain": [
              "0"
            ]
          },
          "metadata": {},
          "execution_count": 110
        }
      ]
    },
    {
      "cell_type": "code",
      "source": [
        "serie.max()"
      ],
      "metadata": {
        "id": "jByqZNymyRn5",
        "outputId": "bd456626-c5a3-42be-ba94-db2e9e5c3325",
        "colab": {
          "base_uri": "https://localhost:8080/"
        }
      },
      "execution_count": 111,
      "outputs": [
        {
          "output_type": "execute_result",
          "data": {
            "text/plain": [
              "29"
            ]
          },
          "metadata": {},
          "execution_count": 111
        }
      ]
    },
    {
      "cell_type": "markdown",
      "metadata": {
        "id": "86x1lE1mnzFM"
      },
      "source": [
        "# Ejercicio 17 (Opcional)\n",
        "\n",
        "Obtener estádisticas básicas de un objeto Series con el método `describe`.\n",
        "\n"
      ]
    },
    {
      "cell_type": "code",
      "source": [
        "serie.describe()"
      ],
      "metadata": {
        "id": "4-FYPzMVES97",
        "colab": {
          "base_uri": "https://localhost:8080/"
        },
        "outputId": "7120b02e-c432-409d-e0ea-eebdb5f5b369"
      },
      "execution_count": 112,
      "outputs": [
        {
          "output_type": "execute_result",
          "data": {
            "text/plain": [
              "count     8.000000\n",
              "mean     13.000000\n",
              "std      10.155927\n",
              "min       0.000000\n",
              "25%       5.750000\n",
              "50%      12.000000\n",
              "75%      20.000000\n",
              "max      29.000000\n",
              "dtype: float64"
            ]
          },
          "metadata": {},
          "execution_count": 112
        }
      ]
    },
    {
      "cell_type": "markdown",
      "metadata": {
        "id": "wmch2ixmnzFO"
      },
      "source": [
        "## Ejercicio 18\n",
        "\n",
        "Obtener los elementos impares de un objeto Series numérico.\n",
        "\n"
      ]
    },
    {
      "cell_type": "code",
      "execution_count": 113,
      "metadata": {
        "id": "mPQedUAunzFP",
        "outputId": "de3f9d12-fe2d-4578-d83e-d3af10f3e6e7",
        "colab": {
          "base_uri": "https://localhost:8080/"
        }
      },
      "outputs": [
        {
          "output_type": "execute_result",
          "data": {
            "text/plain": [
              "0    19\n",
              "1     2\n",
              "2    13\n",
              "3     0\n",
              "4    23\n",
              "5    29\n",
              "6    11\n",
              "7     7\n",
              "dtype: int64"
            ]
          },
          "metadata": {},
          "execution_count": 113
        }
      ],
      "source": [
        "datos = [19, 2, 13, 0, 23, 29, 11, 7]\n",
        "\n",
        "serie = pd.Series(datos)\n",
        "\n",
        "serie"
      ]
    },
    {
      "cell_type": "code",
      "source": [
        "serie[serie%2==1]"
      ],
      "metadata": {
        "id": "HWKLpdFfFZ2J",
        "colab": {
          "base_uri": "https://localhost:8080/"
        },
        "outputId": "6b9435a8-699b-4d70-d978-7bb50f2cf1b1"
      },
      "execution_count": 114,
      "outputs": [
        {
          "output_type": "execute_result",
          "data": {
            "text/plain": [
              "0    19\n",
              "2    13\n",
              "4    23\n",
              "5    29\n",
              "6    11\n",
              "7     7\n",
              "dtype: int64"
            ]
          },
          "metadata": {},
          "execution_count": 114
        }
      ]
    },
    {
      "cell_type": "markdown",
      "metadata": {
        "id": "ipTFhcALnzFQ"
      },
      "source": [
        "# Ejercicio 19 (Opcional)\n",
        "\n",
        "Extraer los datos de un objeto Series como un objeto NumPy.\n",
        "\n"
      ]
    },
    {
      "cell_type": "code",
      "source": [
        "serie.to_numpy()"
      ],
      "metadata": {
        "id": "6_3Nvd22HDwz",
        "colab": {
          "base_uri": "https://localhost:8080/"
        },
        "outputId": "d4927fd1-a6b6-4f62-dbad-197bb59eac21"
      },
      "execution_count": 115,
      "outputs": [
        {
          "output_type": "execute_result",
          "data": {
            "text/plain": [
              "array([19,  2, 13,  0, 23, 29, 11,  7])"
            ]
          },
          "metadata": {},
          "execution_count": 115
        }
      ]
    },
    {
      "cell_type": "markdown",
      "metadata": {
        "id": "l6hnL8xlnzFU"
      },
      "source": [
        "# Ejercicio 20\n",
        "\n",
        "Comprobar si una serie contiene valores NaN. Ya existe una función que lo comprueba.\n",
        "\n"
      ]
    },
    {
      "cell_type": "code",
      "execution_count": 116,
      "metadata": {
        "id": "_XRfmsGonzFV",
        "colab": {
          "base_uri": "https://localhost:8080/"
        },
        "outputId": "9faeb63d-8e65-4603-d52a-138f735e000f"
      },
      "outputs": [
        {
          "output_type": "execute_result",
          "data": {
            "text/plain": [
              "0     20.0\n",
              "1     30.0\n",
              "2      NaN\n",
              "3     50.0\n",
              "4    100.0\n",
              "dtype: float64"
            ]
          },
          "metadata": {},
          "execution_count": 116
        }
      ],
      "source": [
        "datos = ['20', '30', '', '50', 100]\n",
        "\n",
        "serie = pd.Series(datos)\n",
        "serie = pd.to_numeric(serie)\n",
        "\n",
        "serie"
      ]
    },
    {
      "cell_type": "code",
      "source": [
        "serie.isnull()"
      ],
      "metadata": {
        "id": "a9qwzdxvLtcy",
        "colab": {
          "base_uri": "https://localhost:8080/"
        },
        "outputId": "1d318296-fd2b-4e1d-c14d-a2f11efa3d27"
      },
      "execution_count": 117,
      "outputs": [
        {
          "output_type": "execute_result",
          "data": {
            "text/plain": [
              "0    False\n",
              "1    False\n",
              "2     True\n",
              "3    False\n",
              "4    False\n",
              "dtype: bool"
            ]
          },
          "metadata": {},
          "execution_count": 117
        }
      ]
    },
    {
      "cell_type": "markdown",
      "metadata": {
        "id": "qlpoTR4DnzFY"
      },
      "source": [
        "# Ejercicio 21 (Opcional)\n",
        "\n",
        "Operaciones aritméticas con métodos de la clase Series: `add`, `subtract`, `multiply`, y `divide`.\n",
        "\n"
      ]
    },
    {
      "cell_type": "code",
      "execution_count": 118,
      "metadata": {
        "id": "_EE4fBVUnzFZ",
        "outputId": "443059d5-096f-404a-e7f9-29f15ceb6991",
        "colab": {
          "base_uri": "https://localhost:8080/"
        }
      },
      "outputs": [
        {
          "output_type": "execute_result",
          "data": {
            "text/plain": [
              "0     1\n",
              "1     2\n",
              "2     3\n",
              "3     4\n",
              "4     5\n",
              "5     6\n",
              "6     7\n",
              "7     8\n",
              "8     9\n",
              "9    10\n",
              "dtype: int64"
            ]
          },
          "metadata": {},
          "execution_count": 118
        }
      ],
      "source": [
        "serie1 = pd.Series(list(range(1, 11)))\n",
        "\n",
        "serie1"
      ]
    },
    {
      "cell_type": "code",
      "execution_count": 119,
      "metadata": {
        "id": "bOnodcASnzFZ",
        "outputId": "8a808ee8-b937-4c3f-c252-0d1d295f4c4c",
        "colab": {
          "base_uri": "https://localhost:8080/"
        }
      },
      "outputs": [
        {
          "output_type": "execute_result",
          "data": {
            "text/plain": [
              "0    10\n",
              "1     9\n",
              "2     8\n",
              "3     7\n",
              "4     6\n",
              "5     5\n",
              "6     4\n",
              "7     3\n",
              "8     2\n",
              "9     1\n",
              "dtype: int64"
            ]
          },
          "metadata": {},
          "execution_count": 119
        }
      ],
      "source": [
        "serie2 = pd.Series(list(range(10, 0, -1)))\n",
        "\n",
        "serie2"
      ]
    },
    {
      "cell_type": "code",
      "source": [
        "serie1.add(serie2)"
      ],
      "metadata": {
        "id": "xMLPxRhFN53b",
        "colab": {
          "base_uri": "https://localhost:8080/"
        },
        "outputId": "580a1436-8da6-4584-bb57-0e5c182dce3f"
      },
      "execution_count": 120,
      "outputs": [
        {
          "output_type": "execute_result",
          "data": {
            "text/plain": [
              "0    11\n",
              "1    11\n",
              "2    11\n",
              "3    11\n",
              "4    11\n",
              "5    11\n",
              "6    11\n",
              "7    11\n",
              "8    11\n",
              "9    11\n",
              "dtype: int64"
            ]
          },
          "metadata": {},
          "execution_count": 120
        }
      ]
    },
    {
      "cell_type": "code",
      "source": [
        "serie1.subtract(serie2)"
      ],
      "metadata": {
        "id": "ZPyxmfQczKRH",
        "outputId": "7a777e1e-082c-46b6-e9aa-7f7bd53fadf8",
        "colab": {
          "base_uri": "https://localhost:8080/"
        }
      },
      "execution_count": 121,
      "outputs": [
        {
          "output_type": "execute_result",
          "data": {
            "text/plain": [
              "0   -9\n",
              "1   -7\n",
              "2   -5\n",
              "3   -3\n",
              "4   -1\n",
              "5    1\n",
              "6    3\n",
              "7    5\n",
              "8    7\n",
              "9    9\n",
              "dtype: int64"
            ]
          },
          "metadata": {},
          "execution_count": 121
        }
      ]
    },
    {
      "cell_type": "code",
      "source": [
        "serie1.multiply(serie2)"
      ],
      "metadata": {
        "id": "pyDbrLH4zPJ6",
        "outputId": "2d7f2487-b122-4ad1-b880-001218b57887",
        "colab": {
          "base_uri": "https://localhost:8080/"
        }
      },
      "execution_count": 122,
      "outputs": [
        {
          "output_type": "execute_result",
          "data": {
            "text/plain": [
              "0    10\n",
              "1    18\n",
              "2    24\n",
              "3    28\n",
              "4    30\n",
              "5    30\n",
              "6    28\n",
              "7    24\n",
              "8    18\n",
              "9    10\n",
              "dtype: int64"
            ]
          },
          "metadata": {},
          "execution_count": 122
        }
      ]
    },
    {
      "cell_type": "code",
      "source": [
        "serie1.divide(serie2)"
      ],
      "metadata": {
        "id": "EsXVQ8rCzO9j",
        "outputId": "260024de-28ff-4162-f99f-e7b99f0c3d80",
        "colab": {
          "base_uri": "https://localhost:8080/"
        }
      },
      "execution_count": 123,
      "outputs": [
        {
          "output_type": "execute_result",
          "data": {
            "text/plain": [
              "0     0.100000\n",
              "1     0.222222\n",
              "2     0.375000\n",
              "3     0.571429\n",
              "4     0.833333\n",
              "5     1.200000\n",
              "6     1.750000\n",
              "7     2.666667\n",
              "8     4.500000\n",
              "9    10.000000\n",
              "dtype: float64"
            ]
          },
          "metadata": {},
          "execution_count": 123
        }
      ]
    },
    {
      "cell_type": "markdown",
      "metadata": {
        "id": "MCZDXXNynzFb"
      },
      "source": [
        "# Ejercicio 22\n",
        "\n",
        "Eliminar los valores NaN de una serie con el método dropna.\n",
        "\n"
      ]
    },
    {
      "cell_type": "code",
      "execution_count": 124,
      "metadata": {
        "id": "5S6OVgDunzFb",
        "outputId": "9f5a36bb-1301-4fef-cc16-88c2a9421801",
        "colab": {
          "base_uri": "https://localhost:8080/"
        }
      },
      "outputs": [
        {
          "output_type": "execute_result",
          "data": {
            "text/plain": [
              "0    2.3\n",
              "1     90\n",
              "2    100\n",
              "3    NaN\n",
              "4    0.5\n",
              "5     .9\n",
              "dtype: object"
            ]
          },
          "metadata": {},
          "execution_count": 124
        }
      ],
      "source": [
        "datos = ['2.3', '90', '100', np.nan, '0.5', '.9']\n",
        "\n",
        "serie = pd.Series(datos)\n",
        "\n",
        "serie"
      ]
    },
    {
      "cell_type": "code",
      "source": [
        "serie.dropna()"
      ],
      "metadata": {
        "id": "HzeThDH9OW5O",
        "colab": {
          "base_uri": "https://localhost:8080/"
        },
        "outputId": "93eb5761-9141-45d7-d5c4-53fa21f4da50"
      },
      "execution_count": 125,
      "outputs": [
        {
          "output_type": "execute_result",
          "data": {
            "text/plain": [
              "0    2.3\n",
              "1     90\n",
              "2    100\n",
              "4    0.5\n",
              "5     .9\n",
              "dtype: object"
            ]
          },
          "metadata": {},
          "execution_count": 125
        }
      ]
    },
    {
      "cell_type": "markdown",
      "metadata": {
        "id": "w9Cn3Z9enzFl"
      },
      "source": [
        "# Ejercicio 23\n",
        "\n",
        "Reemplazar los valores NaN (null) de una serie con un valor arbitrario.\n",
        "\n"
      ]
    },
    {
      "cell_type": "code",
      "execution_count": 126,
      "metadata": {
        "id": "o_yHg59VnzFm",
        "outputId": "a7d8b643-f974-4438-b67c-f88eaba68fec",
        "colab": {
          "base_uri": "https://localhost:8080/"
        }
      },
      "outputs": [
        {
          "output_type": "execute_result",
          "data": {
            "text/plain": [
              "0         1\n",
              "1         3\n",
              "2       NaN\n",
              "3        11\n",
              "4    Python\n",
              "5      -0.5\n",
              "6       NaN\n",
              "dtype: object"
            ]
          },
          "metadata": {},
          "execution_count": 126
        }
      ],
      "source": [
        "datos = [1, 3, np.nan, 11, 'Python', '-0.5', np.nan]\n",
        "\n",
        "serie = pd.Series(datos)\n",
        "\n",
        "serie"
      ]
    },
    {
      "cell_type": "code",
      "source": [
        "serie[serie.isnull()]=0\n",
        "serie"
      ],
      "metadata": {
        "id": "zAOFwAPuznBP",
        "outputId": "327f3610-d4b5-4b1d-f1f7-64ea95a324ce",
        "colab": {
          "base_uri": "https://localhost:8080/"
        }
      },
      "execution_count": 127,
      "outputs": [
        {
          "output_type": "execute_result",
          "data": {
            "text/plain": [
              "0         1\n",
              "1         3\n",
              "2         0\n",
              "3        11\n",
              "4    Python\n",
              "5      -0.5\n",
              "6         0\n",
              "dtype: object"
            ]
          },
          "metadata": {},
          "execution_count": 127
        }
      ]
    }
  ],
  "metadata": {
    "kernelspec": {
      "display_name": "Python 3",
      "language": "python",
      "name": "python3"
    },
    "language_info": {
      "codemirror_mode": {
        "name": "ipython",
        "version": 3
      },
      "file_extension": ".py",
      "mimetype": "text/x-python",
      "name": "python",
      "nbconvert_exporter": "python",
      "pygments_lexer": "ipython3",
      "version": "3.7.3"
    },
    "colab": {
      "provenance": [],
      "include_colab_link": true
    }
  },
  "nbformat": 4,
  "nbformat_minor": 0
}