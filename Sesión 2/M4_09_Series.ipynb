{
  "cells": [
    {
      "cell_type": "markdown",
      "metadata": {
        "id": "view-in-github",
        "colab_type": "text"
      },
      "source": [
        "<a href=\"https://colab.research.google.com/github/ivianrr/curso-big-data/blob/main/Sesi%C3%B3n%202/M4_09_Series.ipynb\" target=\"_parent\"><img src=\"https://colab.research.google.com/assets/colab-badge.svg\" alt=\"Open In Colab\"/></a>"
      ]
    },
    {
      "cell_type": "code",
      "execution_count": 1,
      "metadata": {
        "id": "maK0D7gRnzEb"
      },
      "outputs": [],
      "source": [
        "import pandas as pd"
      ]
    },
    {
      "cell_type": "markdown",
      "metadata": {
        "id": "eVgc05genzEP"
      },
      "source": [
        "# Ejercicio 1\n",
        "\n",
        "Obtener la versión de la librería pandas."
      ]
    },
    {
      "cell_type": "code",
      "source": [
        "pd.__version__\n"
      ],
      "metadata": {
        "id": "U0YIN7Hln3f_",
        "outputId": "1a215feb-2e63-460a-d471-27d4ec552f85",
        "colab": {
          "base_uri": "https://localhost:8080/",
          "height": 35
        }
      },
      "execution_count": 2,
      "outputs": [
        {
          "output_type": "execute_result",
          "data": {
            "text/plain": [
              "'1.3.5'"
            ],
            "application/vnd.google.colaboratory.intrinsic+json": {
              "type": "string"
            }
          },
          "metadata": {},
          "execution_count": 2
        }
      ]
    },
    {
      "cell_type": "markdown",
      "metadata": {
        "id": "E-sKD9dYnzEf"
      },
      "source": [
        "# Ejercicio 2\n",
        "\n",
        "\n",
        "\n",
        "*   Convertir la lista dada en una estructura pandas Series. \n",
        "*   Comprueba su tamaño.\n",
        "* Utiliza el comando describe() y mira para qué sirve."
      ]
    },
    {
      "cell_type": "code",
      "source": [
        "datos = [2, 3, 5, 7, 11]\n",
        "\n",
        "sr=pd.Series(datos)"
      ],
      "metadata": {
        "id": "HWIzBJP0n4kP"
      },
      "execution_count": null,
      "outputs": []
    },
    {
      "cell_type": "markdown",
      "metadata": {
        "id": "krqmjekUnzEo"
      },
      "source": [
        "# Ejercicio 3\n",
        "\n",
        "* Ahora vuelve a convertir la pandas series de antes a una lista Python.\n",
        "* Comprueba su tipo con la función type()\n",
        "\n"
      ]
    },
    {
      "cell_type": "code",
      "source": [
        "l1=list(sr)\n",
        "print(l1)\n",
        "type(l1)"
      ],
      "metadata": {
        "id": "UfLFUKoro6KX",
        "outputId": "8aa75467-6c88-419f-f0ab-4969250a548f",
        "colab": {
          "base_uri": "https://localhost:8080/"
        }
      },
      "execution_count": null,
      "outputs": [
        {
          "output_type": "stream",
          "name": "stdout",
          "text": [
            "[2, 3, 5, 7, 11]\n"
          ]
        },
        {
          "output_type": "execute_result",
          "data": {
            "text/plain": [
              "list"
            ]
          },
          "metadata": {},
          "execution_count": 12
        }
      ]
    },
    {
      "cell_type": "code",
      "source": [
        "l2=sr.to_list()\n",
        "print(l2)\n",
        "type(l2)"
      ],
      "metadata": {
        "id": "hQdOG4W2WfpQ",
        "outputId": "7d3c9ccb-1f96-4775-e96e-2cff9c8e4f39",
        "colab": {
          "base_uri": "https://localhost:8080/"
        }
      },
      "execution_count": null,
      "outputs": [
        {
          "output_type": "stream",
          "name": "stdout",
          "text": [
            "[2, 3, 5, 7, 11]\n"
          ]
        },
        {
          "output_type": "execute_result",
          "data": {
            "text/plain": [
              "list"
            ]
          },
          "metadata": {},
          "execution_count": 11
        }
      ]
    },
    {
      "cell_type": "markdown",
      "metadata": {
        "id": "8utv2EKSnzEt"
      },
      "source": [
        "# Ejercicio 4\n",
        "\n",
        "Aplicar las operaciones aritméticas básicas sobre los objetos Series dados.\n",
        "\n",
        "Prueba a:\n",
        "* Sumar\n",
        "* Restar\n",
        "* Multiplicar\n",
        "* Dividir"
      ]
    },
    {
      "cell_type": "code",
      "source": [
        "serie1 = pd.Series([1, 2, 3, 4, 5])\n",
        "serie2 = pd.Series([9, 8, 7, 6, 5])"
      ],
      "metadata": {
        "id": "JNmHYi1PpVjm"
      },
      "execution_count": 3,
      "outputs": []
    },
    {
      "cell_type": "code",
      "source": [
        "print(serie1 + serie2)\n",
        "print(serie1 - serie2)\n",
        "print(serie1 * serie2)\n",
        "print(serie1 / serie2)"
      ],
      "metadata": {
        "id": "o-X9CbZWppZ2",
        "outputId": "f47108d6-913b-4289-8717-0294801ae981",
        "colab": {
          "base_uri": "https://localhost:8080/"
        }
      },
      "execution_count": 4,
      "outputs": [
        {
          "output_type": "stream",
          "name": "stdout",
          "text": [
            "0    10\n",
            "1    10\n",
            "2    10\n",
            "3    10\n",
            "4    10\n",
            "dtype: int64\n",
            "0   -8\n",
            "1   -6\n",
            "2   -4\n",
            "3   -2\n",
            "4    0\n",
            "dtype: int64\n",
            "0     9\n",
            "1    16\n",
            "2    21\n",
            "3    24\n",
            "4    25\n",
            "dtype: int64\n",
            "0    0.111111\n",
            "1    0.250000\n",
            "2    0.428571\n",
            "3    0.666667\n",
            "4    1.000000\n",
            "dtype: float64\n"
          ]
        }
      ]
    },
    {
      "cell_type": "markdown",
      "metadata": {
        "id": "40W856j3nzEw"
      },
      "source": [
        "# Ejercicio 5\n",
        "\n",
        "Usar operadores relacionales para comparar los objetos Series dados.\n",
        "\n"
      ]
    },
    {
      "cell_type": "code",
      "execution_count": 7,
      "metadata": {
        "id": "ZfnLx8YQnzEx"
      },
      "outputs": [],
      "source": [
        "serie1 = pd.Series([1, 2, 3, 5, 7])\n",
        "serie2 = pd.Series([13, 17, 11, 5, 3])"
      ]
    },
    {
      "cell_type": "code",
      "source": [
        "serie1>serie2"
      ],
      "metadata": {
        "id": "AeP1fbBqpvry",
        "outputId": "74465aa7-8773-4aeb-ebb4-f1a1d631d49f",
        "colab": {
          "base_uri": "https://localhost:8080/"
        }
      },
      "execution_count": 8,
      "outputs": [
        {
          "output_type": "execute_result",
          "data": {
            "text/plain": [
              "0    False\n",
              "1    False\n",
              "2    False\n",
              "3    False\n",
              "4     True\n",
              "dtype: bool"
            ]
          },
          "metadata": {},
          "execution_count": 8
        }
      ]
    },
    {
      "cell_type": "code",
      "source": [
        "serie1==serie2"
      ],
      "metadata": {
        "id": "-npsbOEHXVVD",
        "outputId": "629625bd-c504-45f8-f799-5d923d38624a",
        "colab": {
          "base_uri": "https://localhost:8080/"
        }
      },
      "execution_count": 9,
      "outputs": [
        {
          "output_type": "execute_result",
          "data": {
            "text/plain": [
              "0    False\n",
              "1    False\n",
              "2    False\n",
              "3     True\n",
              "4    False\n",
              "dtype: bool"
            ]
          },
          "metadata": {},
          "execution_count": 9
        }
      ]
    },
    {
      "cell_type": "markdown",
      "source": [
        "¿Qué ocurre? ¿Se comparan todos los elementos? ¿Se compara el objeto únicamente...?"
      ],
      "metadata": {
        "id": "uinEf0dbqhTg"
      }
    },
    {
      "cell_type": "markdown",
      "source": [
        "\n",
        "\n",
        "```\n",
        "Se comparan elemento a elemento.\n",
        "```\n",
        "\n"
      ],
      "metadata": {
        "id": "IyYj00koq0Iu"
      }
    },
    {
      "cell_type": "markdown",
      "metadata": {
        "id": "Mu9fMnItnzE0"
      },
      "source": [
        "# Ejercicio 6\n",
        "\n",
        "\n",
        "\n",
        "*   Convertir el diccionario Python en un objeto Series.\n",
        "*   Intenta imprimir un pantalla algún valor de la serie.\n",
        "\n",
        "PD: Fíjate como accedemos al valor.\n",
        "\n",
        "\n",
        "\n"
      ]
    },
    {
      "cell_type": "code",
      "source": [
        "datos = {'a': 10, 'b': 20, 'c': 30, 'd': 40}\n",
        "\n",
        "serie=pd.Series(datos)\n",
        "print(serie['b'],\"\\n\")\n",
        "serie"
      ],
      "metadata": {
        "id": "QuUYkJE3rIwU",
        "outputId": "1b4cc99a-d005-42dc-c3f7-f12c83276d00",
        "colab": {
          "base_uri": "https://localhost:8080/"
        }
      },
      "execution_count": 14,
      "outputs": [
        {
          "output_type": "stream",
          "name": "stdout",
          "text": [
            "20 \n",
            "\n"
          ]
        },
        {
          "output_type": "execute_result",
          "data": {
            "text/plain": [
              "a    10\n",
              "b    20\n",
              "c    30\n",
              "d    40\n",
              "dtype: int64"
            ]
          },
          "metadata": {},
          "execution_count": 14
        }
      ]
    },
    {
      "cell_type": "markdown",
      "metadata": {
        "id": "9emLAfs2nzE1"
      },
      "source": [
        "# Ejercicio 7\n",
        "\n",
        "Crea un array NumPy y conviertelo en un objeto Series.\n",
        "\n"
      ]
    },
    {
      "cell_type": "code",
      "execution_count": 22,
      "metadata": {
        "id": "HUgxTZ7gnzE2",
        "outputId": "3bf81228-278b-45e1-9494-fdfc9ccd48e9",
        "colab": {
          "base_uri": "https://localhost:8080/"
        }
      },
      "outputs": [
        {
          "output_type": "execute_result",
          "data": {
            "text/plain": [
              "array([0.43051516, 0.18435784, 0.43816907, 0.87469312, 0.06155832,\n",
              "       0.42172521, 0.82737892, 0.76187126, 0.35345572, 0.89455406])"
            ]
          },
          "metadata": {},
          "execution_count": 22
        }
      ],
      "source": [
        "#Crea un array NumPy \n",
        "import numpy as np\n",
        "vector = np.random.random(10)\n",
        "vector"
      ]
    },
    {
      "cell_type": "code",
      "source": [
        "#Conviertelo en un objeto Series.\n",
        "pd.Series(vector)"
      ],
      "metadata": {
        "id": "murDJSj5smcO",
        "outputId": "c710f697-1c81-4e39-c18b-437941d67a01",
        "colab": {
          "base_uri": "https://localhost:8080/"
        }
      },
      "execution_count": 23,
      "outputs": [
        {
          "output_type": "execute_result",
          "data": {
            "text/plain": [
              "0    0.430515\n",
              "1    0.184358\n",
              "2    0.438169\n",
              "3    0.874693\n",
              "4    0.061558\n",
              "5    0.421725\n",
              "6    0.827379\n",
              "7    0.761871\n",
              "8    0.353456\n",
              "9    0.894554\n",
              "dtype: float64"
            ]
          },
          "metadata": {},
          "execution_count": 23
        }
      ]
    },
    {
      "cell_type": "markdown",
      "metadata": {
        "id": "RqLH1mb5nzE4"
      },
      "source": [
        "# Ejercicio 8\n",
        "\n",
        "Cambiar el tipo de datos de un objeto Series.\n",
        "\n",
        "\n",
        "\n",
        "*   Cambiar la siguiente serie de Strings en númerica\n",
        "\n"
      ]
    },
    {
      "cell_type": "code",
      "source": [
        "datos = pd.Series(['100', '200', '', '300.15', '500.8'])\n"
      ],
      "metadata": {
        "id": "wsIJSY4vv5XC"
      },
      "execution_count": null,
      "outputs": []
    },
    {
      "cell_type": "markdown",
      "metadata": {
        "id": "y-hphByznzE6"
      },
      "source": [
        "# Ejercicio 9\n",
        "\n",
        "Obtener una columna de un objeto DataFrame como un objeto Series.\n",
        "\n"
      ]
    },
    {
      "cell_type": "code",
      "execution_count": null,
      "metadata": {
        "id": "X_HrMF_BnzE7"
      },
      "outputs": [],
      "source": [
        "datos = {'A': [1, 2, 3, 4, 5], 'B': [9, 8, 7, 6, 5], 'C': [2, 3, 5, 7, 11]}\n",
        "\n",
        "df = pd.DataFrame(data=datos)\n",
        "\n",
        "df"
      ]
    },
    {
      "cell_type": "code",
      "source": [],
      "metadata": {
        "id": "5REjKk-p20Tn"
      },
      "execution_count": null,
      "outputs": []
    },
    {
      "cell_type": "markdown",
      "metadata": {
        "id": "Vj68yTbFnzE_"
      },
      "source": [
        "# Ejercicio 10 (Opcional)\n",
        "\n",
        "Convertir un objeto Series con múltiples listas en un único objeto Series.\n",
        "\n"
      ]
    },
    {
      "cell_type": "code",
      "execution_count": null,
      "metadata": {
        "id": "xmbacHLSnzE_",
        "outputId": "08381222-ca30-4941-a0cd-51b492776bf3"
      },
      "outputs": [
        {
          "data": {
            "text/plain": [
              "0    [Colombia, Perú, Argentina]\n",
              "1             [Bolivia, Uruguay]\n",
              "2                        [Chile]\n",
              "dtype: object"
            ]
          },
          "execution_count": 50,
          "metadata": {},
          "output_type": "execute_result"
        }
      ],
      "source": [
        "datos = [['Colombia', 'Perú', 'Argentina'], ['Bolivia', 'Uruguay'], ['Chile']]\n",
        "\n",
        "serie = pd.Series(datos)\n",
        "\n",
        "serie"
      ]
    },
    {
      "cell_type": "code",
      "source": [],
      "metadata": {
        "id": "hsSmIGvZ2-qg"
      },
      "execution_count": null,
      "outputs": []
    },
    {
      "cell_type": "markdown",
      "metadata": {
        "id": "vK92e8xpnzFB"
      },
      "source": [
        "# Ejercicio 11\n",
        "\n",
        "Ordenar los valores de un objeto Series con el método sort_values.\n",
        "\n"
      ]
    },
    {
      "cell_type": "code",
      "execution_count": null,
      "metadata": {
        "id": "TVDm-BdjnzFC",
        "outputId": "fb5347ab-491b-4deb-af02-13f396c798c2"
      },
      "outputs": [
        {
          "data": {
            "text/plain": [
              "0       1.1\n",
              "1    Python\n",
              "2       0.5\n",
              "3    pandas\n",
              "4       2.8\n",
              "dtype: object"
            ]
          },
          "execution_count": 55,
          "metadata": {},
          "output_type": "execute_result"
        }
      ],
      "source": [
        "datos = ['1.1', 'Python', '0.5', 'pandas', '2.8']\n",
        "\n",
        "serie = pd.Series(datos)\n",
        "\n",
        "serie"
      ]
    },
    {
      "cell_type": "code",
      "source": [],
      "metadata": {
        "id": "AJakP7yq3bQH"
      },
      "execution_count": null,
      "outputs": []
    },
    {
      "cell_type": "markdown",
      "metadata": {
        "id": "QiWBj_XEnzFE"
      },
      "source": [
        "# Ejercicio 12\n",
        "\n",
        "Agregar datos a un objeto Series existente.\n",
        "\n",
        "* Usa el método append()\n",
        "* IMPORTANTE: Si estamos trabajando con pandas series y aplicamos el método append(), espera recibir como argumento una pandas series. "
      ]
    },
    {
      "cell_type": "code",
      "execution_count": null,
      "metadata": {
        "id": "skbUWSiMnzFF",
        "outputId": "cf031e01-f72e-450c-ffb6-ed66a6260e76"
      },
      "outputs": [
        {
          "data": {
            "text/plain": [
              "0    Python\n",
              "1        C#\n",
              "2       C++\n",
              "3      Java\n",
              "4       PHP\n",
              "dtype: object"
            ]
          },
          "execution_count": 59,
          "metadata": {},
          "output_type": "execute_result"
        }
      ],
      "source": [
        "datos = ['Python', 'C#', 'C++', 'Java', 'PHP']\n",
        "\n",
        "serie = pd.Series(datos)\n",
        "\n",
        "serie"
      ]
    },
    {
      "cell_type": "code",
      "source": [],
      "metadata": {
        "id": "ujhC2f9P4OtZ"
      },
      "execution_count": null,
      "outputs": []
    },
    {
      "cell_type": "markdown",
      "metadata": {
        "id": "IXS4BdYJnzFG"
      },
      "source": [
        "# Ejercicio 13\n",
        "\n",
        "Crear un objeto Series a partir de un filtro aplicado a otro objeto Series.\n",
        "\n",
        "Quédate con los datos que sean menores de 6."
      ]
    },
    {
      "cell_type": "code",
      "execution_count": null,
      "metadata": {
        "id": "ZC9oOInCnzFG",
        "outputId": "5a67b8d1-f30d-412c-ec9b-1c208283758d"
      },
      "outputs": [
        {
          "data": {
            "text/plain": [
              "0    0\n",
              "1    1\n",
              "2    2\n",
              "3    3\n",
              "4    4\n",
              "5    5\n",
              "6    6\n",
              "7    7\n",
              "8    8\n",
              "9    9\n",
              "dtype: int64"
            ]
          },
          "execution_count": 62,
          "metadata": {},
          "output_type": "execute_result"
        }
      ],
      "source": [
        "datos = [0, 1, 7, 3, 4, 5, 6, 7, 8, 9]\n",
        "\n",
        "serie = pd.Series(datos)\n",
        "\n",
        "serie"
      ]
    },
    {
      "cell_type": "code",
      "source": [],
      "metadata": {
        "id": "vyC4TQgK5or4"
      },
      "execution_count": null,
      "outputs": []
    },
    {
      "cell_type": "markdown",
      "metadata": {
        "id": "QOdb-mqRnzFH"
      },
      "source": [
        "# Ejercicio 14\n",
        "\n",
        "* Tenemos un objeto series con letras como Indices y números como valores\n",
        "* Cambiar el orden del índice de un objeto Series.\n",
        "* El orden tiene que ser: ['B', 'A', 'C', 'D', 'E']\n",
        "\n",
        "PISTA: Podrías buscar en internet how to change index order series python\n",
        "\n"
      ]
    },
    {
      "cell_type": "code",
      "execution_count": null,
      "metadata": {
        "id": "UcXjfbsznzFI",
        "outputId": "19d4a32c-5930-47bd-dc9d-cfbd0279bd2e"
      },
      "outputs": [
        {
          "data": {
            "text/plain": [
              "A    1\n",
              "B    2\n",
              "C    3\n",
              "D    4\n",
              "E    5\n",
              "dtype: int64"
            ]
          },
          "execution_count": 65,
          "metadata": {},
          "output_type": "execute_result"
        }
      ],
      "source": [
        "datos = [1, 2, 3, 4, 5]\n",
        "\n",
        "indices = ['A', 'B', 'C', 'D', 'E']\n",
        "\n",
        "serie = pd.Series(data=datos, index=indices)\n",
        "\n",
        "serie"
      ]
    },
    {
      "cell_type": "code",
      "source": [],
      "metadata": {
        "id": "kMG4TMbl6LdA"
      },
      "execution_count": null,
      "outputs": []
    },
    {
      "cell_type": "markdown",
      "metadata": {
        "id": "nSxpankfnzFJ"
      },
      "source": [
        "# Ejercicio 15\n",
        "\n",
        "Obtener la desviación estándar y el promedio de un conjunto de datos de una serie.\n",
        "\n"
      ]
    },
    {
      "cell_type": "code",
      "execution_count": null,
      "metadata": {
        "id": "qMIzjyE1nzFJ",
        "outputId": "d1e6f9b8-3b33-4796-f3be-6b2de2da950f"
      },
      "outputs": [
        {
          "data": {
            "text/plain": [
              "0     2\n",
              "1     3\n",
              "2     5\n",
              "3     7\n",
              "4    11\n",
              "5    13\n",
              "6    17\n",
              "7    19\n",
              "8    23\n",
              "9    29\n",
              "dtype: int64"
            ]
          },
          "execution_count": 68,
          "metadata": {},
          "output_type": "execute_result"
        }
      ],
      "source": [
        "datos = [2, 3, 5, 7, 11, 13, 17, 19, 23, 29]\n",
        "\n",
        "serie = pd.Series(datos)\n",
        "\n",
        "serie"
      ]
    },
    {
      "cell_type": "code",
      "source": [],
      "metadata": {
        "id": "2qxYp0Y4Dc61"
      },
      "execution_count": null,
      "outputs": []
    },
    {
      "cell_type": "markdown",
      "metadata": {
        "id": "ViV7yVFsnzFL"
      },
      "source": [
        "# Ejercicio 16\n",
        "\n",
        "Calcular los valores mínimo y máximo de un objeto Series.\n",
        "\n"
      ]
    },
    {
      "cell_type": "code",
      "execution_count": null,
      "metadata": {
        "id": "8K3lPRR_nzFL",
        "outputId": "6e54d040-d802-434a-f5d9-2c3c30337a6e"
      },
      "outputs": [
        {
          "data": {
            "text/plain": [
              "0    19\n",
              "1     2\n",
              "2    13\n",
              "3     0\n",
              "4    23\n",
              "5    29\n",
              "6    11\n",
              "7     7\n",
              "dtype: int64"
            ]
          },
          "execution_count": 72,
          "metadata": {},
          "output_type": "execute_result"
        }
      ],
      "source": [
        "datos = [19, 2, 13, 0, 23, 29, 11, 7]\n",
        "\n",
        "serie = pd.Series(datos)\n",
        "\n",
        "serie"
      ]
    },
    {
      "cell_type": "code",
      "source": [],
      "metadata": {
        "id": "F4z_CX8xEFKb"
      },
      "execution_count": null,
      "outputs": []
    },
    {
      "cell_type": "markdown",
      "metadata": {
        "id": "86x1lE1mnzFM"
      },
      "source": [
        "# Ejercicio 17 (Opcional)\n",
        "\n",
        "Obtener estádisticas básicas de un objeto Series con el método `describe`.\n",
        "\n"
      ]
    },
    {
      "cell_type": "code",
      "source": [],
      "metadata": {
        "id": "4-FYPzMVES97"
      },
      "execution_count": null,
      "outputs": []
    },
    {
      "cell_type": "markdown",
      "metadata": {
        "id": "wmch2ixmnzFO"
      },
      "source": [
        "## Ejercicio 18\n",
        "\n",
        "Obtener los elementos impares de un objeto Series numérico.\n",
        "\n"
      ]
    },
    {
      "cell_type": "code",
      "execution_count": null,
      "metadata": {
        "id": "mPQedUAunzFP",
        "outputId": "3e16a10c-f28c-448d-913f-1161722e7a7d"
      },
      "outputs": [
        {
          "data": {
            "text/plain": [
              "[0, 1, 2, 3, 4, 5, 6, 7, 8, 9]"
            ]
          },
          "execution_count": 80,
          "metadata": {},
          "output_type": "execute_result"
        }
      ],
      "source": [
        "datos = [19, 2, 13, 0, 23, 29, 11, 7]\n",
        "\n",
        "serie = pd.Series(datos)\n",
        "\n",
        "serie"
      ]
    },
    {
      "cell_type": "code",
      "source": [],
      "metadata": {
        "id": "HWKLpdFfFZ2J"
      },
      "execution_count": null,
      "outputs": []
    },
    {
      "cell_type": "markdown",
      "metadata": {
        "id": "ipTFhcALnzFQ"
      },
      "source": [
        "# Ejercicio 19 (Opcional)\n",
        "\n",
        "Extraer los datos de un objeto Series como un objeto NumPy.\n",
        "\n"
      ]
    },
    {
      "cell_type": "code",
      "source": [],
      "metadata": {
        "id": "6_3Nvd22HDwz"
      },
      "execution_count": null,
      "outputs": []
    },
    {
      "cell_type": "markdown",
      "metadata": {
        "id": "l6hnL8xlnzFU"
      },
      "source": [
        "# Ejercicio 20\n",
        "\n",
        "Comprobar si una serie contiene valores NaN. Ya existe una función que lo comprueba.\n",
        "\n"
      ]
    },
    {
      "cell_type": "code",
      "execution_count": null,
      "metadata": {
        "id": "_XRfmsGonzFV"
      },
      "outputs": [],
      "source": [
        "datos = ['20', '30', '', '50', 100]\n",
        "\n",
        "serie = pd.Series(datos)\n",
        "serie = pd.to_numeric(serie)\n",
        "\n",
        "serie"
      ]
    },
    {
      "cell_type": "code",
      "source": [],
      "metadata": {
        "id": "a9qwzdxvLtcy"
      },
      "execution_count": null,
      "outputs": []
    },
    {
      "cell_type": "markdown",
      "metadata": {
        "id": "qlpoTR4DnzFY"
      },
      "source": [
        "# Ejercicio 21 (Opcional)\n",
        "\n",
        "Operaciones aritméticas con métodos de la clase Series: `add`, `subtract`, `multiply`, y `divide`.\n",
        "\n"
      ]
    },
    {
      "cell_type": "code",
      "execution_count": null,
      "metadata": {
        "id": "_EE4fBVUnzFZ",
        "outputId": "c9e4ac30-4d04-445a-9db1-9fd522c027fc"
      },
      "outputs": [
        {
          "data": {
            "text/plain": [
              "0     1\n",
              "1     2\n",
              "2     3\n",
              "3     4\n",
              "4     5\n",
              "5     6\n",
              "6     7\n",
              "7     8\n",
              "8     9\n",
              "9    10\n",
              "dtype: int64"
            ]
          },
          "execution_count": 99,
          "metadata": {},
          "output_type": "execute_result"
        }
      ],
      "source": [
        "serie1 = pd.Series(list(range(1, 11)))\n",
        "\n",
        "serie1"
      ]
    },
    {
      "cell_type": "code",
      "execution_count": null,
      "metadata": {
        "id": "bOnodcASnzFZ",
        "outputId": "70a2c3d0-9273-4164-bc89-8b093e890889"
      },
      "outputs": [
        {
          "data": {
            "text/plain": [
              "0    10\n",
              "1     9\n",
              "2     8\n",
              "3     7\n",
              "4     6\n",
              "5     5\n",
              "6     4\n",
              "7     3\n",
              "8     2\n",
              "9     1\n",
              "dtype: int64"
            ]
          },
          "execution_count": 100,
          "metadata": {},
          "output_type": "execute_result"
        }
      ],
      "source": [
        "serie2 = pd.Series(list(range(10, 0, -1)))\n",
        "\n",
        "serie2"
      ]
    },
    {
      "cell_type": "code",
      "source": [],
      "metadata": {
        "id": "xMLPxRhFN53b"
      },
      "execution_count": null,
      "outputs": []
    },
    {
      "cell_type": "markdown",
      "metadata": {
        "id": "MCZDXXNynzFb"
      },
      "source": [
        "# Ejercicio 22\n",
        "\n",
        "Eliminar los valores NaN de una serie con el método dropna.\n",
        "\n"
      ]
    },
    {
      "cell_type": "code",
      "execution_count": null,
      "metadata": {
        "id": "5S6OVgDunzFb",
        "outputId": "db7e1e19-5601-4f9f-eae2-456b256cd4a4"
      },
      "outputs": [
        {
          "data": {
            "text/plain": [
              "0       2.3\n",
              "1    Python\n",
              "2        90\n",
              "3       100\n",
              "4       NaN\n",
              "5       0.5\n",
              "6        .9\n",
              "dtype: object"
            ]
          },
          "execution_count": 106,
          "metadata": {},
          "output_type": "execute_result"
        }
      ],
      "source": [
        "datos = ['2.3', '90', '100', np.nan, '0.5', '.9']\n",
        "\n",
        "serie = pd.Series(datos)\n",
        "\n",
        "serie"
      ]
    },
    {
      "cell_type": "code",
      "source": [],
      "metadata": {
        "id": "HzeThDH9OW5O"
      },
      "execution_count": null,
      "outputs": []
    },
    {
      "cell_type": "markdown",
      "metadata": {
        "id": "w9Cn3Z9enzFl"
      },
      "source": [
        "# Ejercicio 23\n",
        "\n",
        "Reemplazar los valores NaN (null) de una serie con un valor arbitrario.\n",
        "\n"
      ]
    },
    {
      "cell_type": "code",
      "execution_count": null,
      "metadata": {
        "id": "o_yHg59VnzFm",
        "outputId": "62e64ee1-ba16-42df-873e-c73e8da84f02",
        "colab": {
          "base_uri": "https://localhost:8080/"
        }
      },
      "outputs": [
        {
          "output_type": "execute_result",
          "data": {
            "text/plain": [
              "0         1\n",
              "1         3\n",
              "2         7\n",
              "3        11\n",
              "4    Python\n",
              "5      -0.5\n",
              "6       NaN\n",
              "dtype: object"
            ]
          },
          "metadata": {},
          "execution_count": 5
        }
      ],
      "source": [
        "datos = [1, 3, np.nan, 11, 'Python', '-0.5', np.nan]\n",
        "\n",
        "serie = pd.Series(datos)\n",
        "\n",
        "serie"
      ]
    }
  ],
  "metadata": {
    "kernelspec": {
      "display_name": "Python 3",
      "language": "python",
      "name": "python3"
    },
    "language_info": {
      "codemirror_mode": {
        "name": "ipython",
        "version": 3
      },
      "file_extension": ".py",
      "mimetype": "text/x-python",
      "name": "python",
      "nbconvert_exporter": "python",
      "pygments_lexer": "ipython3",
      "version": "3.7.3"
    },
    "colab": {
      "provenance": [],
      "include_colab_link": true
    }
  },
  "nbformat": 4,
  "nbformat_minor": 0
}