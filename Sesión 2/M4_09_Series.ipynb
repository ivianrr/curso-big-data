{
  "cells": [
    {
      "cell_type": "markdown",
      "metadata": {
        "id": "view-in-github",
        "colab_type": "text"
      },
      "source": [
        "<a href=\"https://colab.research.google.com/github/ivianrr/curso-big-data/blob/main/Sesi%C3%B3n%202/M4_09_Series.ipynb\" target=\"_parent\"><img src=\"https://colab.research.google.com/assets/colab-badge.svg\" alt=\"Open In Colab\"/></a>"
      ]
    },
    {
      "cell_type": "code",
      "execution_count": 1,
      "metadata": {
        "id": "maK0D7gRnzEb"
      },
      "outputs": [],
      "source": [
        "import pandas as pd"
      ]
    },
    {
      "cell_type": "markdown",
      "metadata": {
        "id": "eVgc05genzEP"
      },
      "source": [
        "# Ejercicio 1\n",
        "\n",
        "Obtener la versión de la librería pandas."
      ]
    },
    {
      "cell_type": "code",
      "source": [
        "pd.__version__\n"
      ],
      "metadata": {
        "id": "U0YIN7Hln3f_",
        "outputId": "8b5e41ff-92a9-46f4-f76e-eaef38b0b484",
        "colab": {
          "base_uri": "https://localhost:8080/",
          "height": 35
        }
      },
      "execution_count": 2,
      "outputs": [
        {
          "output_type": "execute_result",
          "data": {
            "text/plain": [
              "'1.3.5'"
            ],
            "application/vnd.google.colaboratory.intrinsic+json": {
              "type": "string"
            }
          },
          "metadata": {},
          "execution_count": 2
        }
      ]
    },
    {
      "cell_type": "markdown",
      "metadata": {
        "id": "E-sKD9dYnzEf"
      },
      "source": [
        "# Ejercicio 2\n",
        "\n",
        "\n",
        "\n",
        "*   Convertir la lista dada en una estructura pandas Series. \n",
        "*   Comprueba su tamaño.\n",
        "* Utiliza el comando describe() y mira para qué sirve."
      ]
    },
    {
      "cell_type": "code",
      "source": [
        "datos = [2, 3, 5, 7, 11]\n",
        "\n",
        "sr=pd.Series(datos)"
      ],
      "metadata": {
        "id": "HWIzBJP0n4kP"
      },
      "execution_count": 3,
      "outputs": []
    },
    {
      "cell_type": "markdown",
      "metadata": {
        "id": "krqmjekUnzEo"
      },
      "source": [
        "# Ejercicio 3\n",
        "\n",
        "* Ahora vuelve a convertir la pandas series de antes a una lista Python.\n",
        "* Comprueba su tipo con la función type()\n",
        "\n"
      ]
    },
    {
      "cell_type": "code",
      "source": [
        "l1=list(sr)\n",
        "print(l1)\n",
        "type(l1)"
      ],
      "metadata": {
        "id": "UfLFUKoro6KX",
        "outputId": "b7e902c7-09cd-4bed-a494-5c0a374cb893",
        "colab": {
          "base_uri": "https://localhost:8080/"
        }
      },
      "execution_count": 4,
      "outputs": [
        {
          "output_type": "stream",
          "name": "stdout",
          "text": [
            "[2, 3, 5, 7, 11]\n"
          ]
        },
        {
          "output_type": "execute_result",
          "data": {
            "text/plain": [
              "list"
            ]
          },
          "metadata": {},
          "execution_count": 4
        }
      ]
    },
    {
      "cell_type": "code",
      "source": [
        "l2=sr.to_list()\n",
        "print(l2)\n",
        "type(l2)"
      ],
      "metadata": {
        "id": "hQdOG4W2WfpQ",
        "outputId": "2dace611-fcec-4ba2-b54a-29bdebc9264b",
        "colab": {
          "base_uri": "https://localhost:8080/"
        }
      },
      "execution_count": 5,
      "outputs": [
        {
          "output_type": "stream",
          "name": "stdout",
          "text": [
            "[2, 3, 5, 7, 11]\n"
          ]
        },
        {
          "output_type": "execute_result",
          "data": {
            "text/plain": [
              "list"
            ]
          },
          "metadata": {},
          "execution_count": 5
        }
      ]
    },
    {
      "cell_type": "markdown",
      "metadata": {
        "id": "8utv2EKSnzEt"
      },
      "source": [
        "# Ejercicio 4\n",
        "\n",
        "Aplicar las operaciones aritméticas básicas sobre los objetos Series dados.\n",
        "\n",
        "Prueba a:\n",
        "* Sumar\n",
        "* Restar\n",
        "* Multiplicar\n",
        "* Dividir"
      ]
    },
    {
      "cell_type": "code",
      "source": [
        "serie1 = pd.Series([1, 2, 3, 4, 5])\n",
        "serie2 = pd.Series([9, 8, 7, 6, 5])"
      ],
      "metadata": {
        "id": "JNmHYi1PpVjm"
      },
      "execution_count": 6,
      "outputs": []
    },
    {
      "cell_type": "code",
      "source": [
        "print(serie1 + serie2)\n",
        "print(serie1 - serie2)\n",
        "print(serie1 * serie2)\n",
        "print(serie1 / serie2)"
      ],
      "metadata": {
        "id": "o-X9CbZWppZ2",
        "outputId": "715cda8d-6da5-46c1-a801-f48cf9b20ad6",
        "colab": {
          "base_uri": "https://localhost:8080/"
        }
      },
      "execution_count": 7,
      "outputs": [
        {
          "output_type": "stream",
          "name": "stdout",
          "text": [
            "0    10\n",
            "1    10\n",
            "2    10\n",
            "3    10\n",
            "4    10\n",
            "dtype: int64\n",
            "0   -8\n",
            "1   -6\n",
            "2   -4\n",
            "3   -2\n",
            "4    0\n",
            "dtype: int64\n",
            "0     9\n",
            "1    16\n",
            "2    21\n",
            "3    24\n",
            "4    25\n",
            "dtype: int64\n",
            "0    0.111111\n",
            "1    0.250000\n",
            "2    0.428571\n",
            "3    0.666667\n",
            "4    1.000000\n",
            "dtype: float64\n"
          ]
        }
      ]
    },
    {
      "cell_type": "markdown",
      "metadata": {
        "id": "40W856j3nzEw"
      },
      "source": [
        "# Ejercicio 5\n",
        "\n",
        "Usar operadores relacionales para comparar los objetos Series dados.\n",
        "\n"
      ]
    },
    {
      "cell_type": "code",
      "execution_count": 8,
      "metadata": {
        "id": "ZfnLx8YQnzEx"
      },
      "outputs": [],
      "source": [
        "serie1 = pd.Series([1, 2, 3, 5, 7])\n",
        "serie2 = pd.Series([13, 17, 11, 5, 3])"
      ]
    },
    {
      "cell_type": "code",
      "source": [
        "serie1>serie2"
      ],
      "metadata": {
        "id": "AeP1fbBqpvry",
        "outputId": "e50738f0-23a7-4773-8f9d-a887567596f6",
        "colab": {
          "base_uri": "https://localhost:8080/"
        }
      },
      "execution_count": 9,
      "outputs": [
        {
          "output_type": "execute_result",
          "data": {
            "text/plain": [
              "0    False\n",
              "1    False\n",
              "2    False\n",
              "3    False\n",
              "4     True\n",
              "dtype: bool"
            ]
          },
          "metadata": {},
          "execution_count": 9
        }
      ]
    },
    {
      "cell_type": "code",
      "source": [
        "serie1==serie2"
      ],
      "metadata": {
        "id": "-npsbOEHXVVD",
        "outputId": "d935760b-892e-4d60-9b26-4fbb9588d28c",
        "colab": {
          "base_uri": "https://localhost:8080/"
        }
      },
      "execution_count": 10,
      "outputs": [
        {
          "output_type": "execute_result",
          "data": {
            "text/plain": [
              "0    False\n",
              "1    False\n",
              "2    False\n",
              "3     True\n",
              "4    False\n",
              "dtype: bool"
            ]
          },
          "metadata": {},
          "execution_count": 10
        }
      ]
    },
    {
      "cell_type": "markdown",
      "source": [
        "¿Qué ocurre? ¿Se comparan todos los elementos? ¿Se compara el objeto únicamente...?"
      ],
      "metadata": {
        "id": "uinEf0dbqhTg"
      }
    },
    {
      "cell_type": "markdown",
      "source": [
        "\n",
        "\n",
        "```\n",
        "Se comparan elemento a elemento.\n",
        "```\n",
        "\n"
      ],
      "metadata": {
        "id": "IyYj00koq0Iu"
      }
    },
    {
      "cell_type": "markdown",
      "metadata": {
        "id": "Mu9fMnItnzE0"
      },
      "source": [
        "# Ejercicio 6\n",
        "\n",
        "\n",
        "\n",
        "*   Convertir el diccionario Python en un objeto Series.\n",
        "*   Intenta imprimir un pantalla algún valor de la serie.\n",
        "\n",
        "PD: Fíjate como accedemos al valor.\n",
        "\n",
        "\n",
        "\n"
      ]
    },
    {
      "cell_type": "code",
      "source": [
        "datos = {'a': 10, 'b': 20, 'c': 30, 'd': 40}\n",
        "\n",
        "serie=pd.Series(datos)\n",
        "print(serie['b'],\"\\n\")\n",
        "serie"
      ],
      "metadata": {
        "id": "QuUYkJE3rIwU",
        "outputId": "15297eff-60af-4512-f74b-e386732d8153",
        "colab": {
          "base_uri": "https://localhost:8080/"
        }
      },
      "execution_count": 11,
      "outputs": [
        {
          "output_type": "stream",
          "name": "stdout",
          "text": [
            "20 \n",
            "\n"
          ]
        },
        {
          "output_type": "execute_result",
          "data": {
            "text/plain": [
              "a    10\n",
              "b    20\n",
              "c    30\n",
              "d    40\n",
              "dtype: int64"
            ]
          },
          "metadata": {},
          "execution_count": 11
        }
      ]
    },
    {
      "cell_type": "markdown",
      "metadata": {
        "id": "9emLAfs2nzE1"
      },
      "source": [
        "# Ejercicio 7\n",
        "\n",
        "Crea un array NumPy y conviertelo en un objeto Series.\n",
        "\n"
      ]
    },
    {
      "cell_type": "code",
      "execution_count": 12,
      "metadata": {
        "id": "HUgxTZ7gnzE2",
        "outputId": "42563aaf-1fef-4e00-b89a-765dbdd0b7be",
        "colab": {
          "base_uri": "https://localhost:8080/"
        }
      },
      "outputs": [
        {
          "output_type": "execute_result",
          "data": {
            "text/plain": [
              "array([0.27353206, 0.28364259, 0.45185176, 0.6339858 , 0.90157853,\n",
              "       0.93189298, 0.48091552, 0.24914087, 0.8524074 , 0.89553635])"
            ]
          },
          "metadata": {},
          "execution_count": 12
        }
      ],
      "source": [
        "#Crea un array NumPy \n",
        "import numpy as np\n",
        "vector = np.random.random(10)\n",
        "vector"
      ]
    },
    {
      "cell_type": "code",
      "source": [
        "#Conviertelo en un objeto Series.\n",
        "pd.Series(vector)"
      ],
      "metadata": {
        "id": "murDJSj5smcO",
        "outputId": "a00a3216-825d-4bed-e04b-e4f89ece305a",
        "colab": {
          "base_uri": "https://localhost:8080/"
        }
      },
      "execution_count": 13,
      "outputs": [
        {
          "output_type": "execute_result",
          "data": {
            "text/plain": [
              "0    0.273532\n",
              "1    0.283643\n",
              "2    0.451852\n",
              "3    0.633986\n",
              "4    0.901579\n",
              "5    0.931893\n",
              "6    0.480916\n",
              "7    0.249141\n",
              "8    0.852407\n",
              "9    0.895536\n",
              "dtype: float64"
            ]
          },
          "metadata": {},
          "execution_count": 13
        }
      ]
    },
    {
      "cell_type": "markdown",
      "metadata": {
        "id": "RqLH1mb5nzE4"
      },
      "source": [
        "# Ejercicio 8\n",
        "\n",
        "Cambiar el tipo de datos de un objeto Series.\n",
        "\n",
        "\n",
        "\n",
        "*   Cambiar la siguiente serie de Strings en númerica\n",
        "\n"
      ]
    },
    {
      "cell_type": "code",
      "source": [
        "datos = pd.Series(['100', '200', '', '300.15', '500.8'])\n",
        "pd.to_numeric(datos)"
      ],
      "metadata": {
        "id": "wsIJSY4vv5XC",
        "colab": {
          "base_uri": "https://localhost:8080/"
        },
        "outputId": "6882af2b-fe9e-428e-c49b-391b737e862d"
      },
      "execution_count": 14,
      "outputs": [
        {
          "output_type": "execute_result",
          "data": {
            "text/plain": [
              "0    100.00\n",
              "1    200.00\n",
              "2       NaN\n",
              "3    300.15\n",
              "4    500.80\n",
              "dtype: float64"
            ]
          },
          "metadata": {},
          "execution_count": 14
        }
      ]
    },
    {
      "cell_type": "markdown",
      "metadata": {
        "id": "y-hphByznzE6"
      },
      "source": [
        "# Ejercicio 9\n",
        "\n",
        "Obtener una columna de un objeto DataFrame como un objeto Series.\n",
        "\n"
      ]
    },
    {
      "cell_type": "code",
      "execution_count": 15,
      "metadata": {
        "id": "X_HrMF_BnzE7",
        "colab": {
          "base_uri": "https://localhost:8080/",
          "height": 206
        },
        "outputId": "ebdf8298-0fec-48d0-e020-d02367451693"
      },
      "outputs": [
        {
          "output_type": "execute_result",
          "data": {
            "text/plain": [
              "   A  B   C\n",
              "0  1  9   2\n",
              "1  2  8   3\n",
              "2  3  7   5\n",
              "3  4  6   7\n",
              "4  5  5  11"
            ],
            "text/html": [
              "\n",
              "  <div id=\"df-42c91035-e672-4a6e-ad2c-0c46ae94dbd6\">\n",
              "    <div class=\"colab-df-container\">\n",
              "      <div>\n",
              "<style scoped>\n",
              "    .dataframe tbody tr th:only-of-type {\n",
              "        vertical-align: middle;\n",
              "    }\n",
              "\n",
              "    .dataframe tbody tr th {\n",
              "        vertical-align: top;\n",
              "    }\n",
              "\n",
              "    .dataframe thead th {\n",
              "        text-align: right;\n",
              "    }\n",
              "</style>\n",
              "<table border=\"1\" class=\"dataframe\">\n",
              "  <thead>\n",
              "    <tr style=\"text-align: right;\">\n",
              "      <th></th>\n",
              "      <th>A</th>\n",
              "      <th>B</th>\n",
              "      <th>C</th>\n",
              "    </tr>\n",
              "  </thead>\n",
              "  <tbody>\n",
              "    <tr>\n",
              "      <th>0</th>\n",
              "      <td>1</td>\n",
              "      <td>9</td>\n",
              "      <td>2</td>\n",
              "    </tr>\n",
              "    <tr>\n",
              "      <th>1</th>\n",
              "      <td>2</td>\n",
              "      <td>8</td>\n",
              "      <td>3</td>\n",
              "    </tr>\n",
              "    <tr>\n",
              "      <th>2</th>\n",
              "      <td>3</td>\n",
              "      <td>7</td>\n",
              "      <td>5</td>\n",
              "    </tr>\n",
              "    <tr>\n",
              "      <th>3</th>\n",
              "      <td>4</td>\n",
              "      <td>6</td>\n",
              "      <td>7</td>\n",
              "    </tr>\n",
              "    <tr>\n",
              "      <th>4</th>\n",
              "      <td>5</td>\n",
              "      <td>5</td>\n",
              "      <td>11</td>\n",
              "    </tr>\n",
              "  </tbody>\n",
              "</table>\n",
              "</div>\n",
              "      <button class=\"colab-df-convert\" onclick=\"convertToInteractive('df-42c91035-e672-4a6e-ad2c-0c46ae94dbd6')\"\n",
              "              title=\"Convert this dataframe to an interactive table.\"\n",
              "              style=\"display:none;\">\n",
              "        \n",
              "  <svg xmlns=\"http://www.w3.org/2000/svg\" height=\"24px\"viewBox=\"0 0 24 24\"\n",
              "       width=\"24px\">\n",
              "    <path d=\"M0 0h24v24H0V0z\" fill=\"none\"/>\n",
              "    <path d=\"M18.56 5.44l.94 2.06.94-2.06 2.06-.94-2.06-.94-.94-2.06-.94 2.06-2.06.94zm-11 1L8.5 8.5l.94-2.06 2.06-.94-2.06-.94L8.5 2.5l-.94 2.06-2.06.94zm10 10l.94 2.06.94-2.06 2.06-.94-2.06-.94-.94-2.06-.94 2.06-2.06.94z\"/><path d=\"M17.41 7.96l-1.37-1.37c-.4-.4-.92-.59-1.43-.59-.52 0-1.04.2-1.43.59L10.3 9.45l-7.72 7.72c-.78.78-.78 2.05 0 2.83L4 21.41c.39.39.9.59 1.41.59.51 0 1.02-.2 1.41-.59l7.78-7.78 2.81-2.81c.8-.78.8-2.07 0-2.86zM5.41 20L4 18.59l7.72-7.72 1.47 1.35L5.41 20z\"/>\n",
              "  </svg>\n",
              "      </button>\n",
              "      \n",
              "  <style>\n",
              "    .colab-df-container {\n",
              "      display:flex;\n",
              "      flex-wrap:wrap;\n",
              "      gap: 12px;\n",
              "    }\n",
              "\n",
              "    .colab-df-convert {\n",
              "      background-color: #E8F0FE;\n",
              "      border: none;\n",
              "      border-radius: 50%;\n",
              "      cursor: pointer;\n",
              "      display: none;\n",
              "      fill: #1967D2;\n",
              "      height: 32px;\n",
              "      padding: 0 0 0 0;\n",
              "      width: 32px;\n",
              "    }\n",
              "\n",
              "    .colab-df-convert:hover {\n",
              "      background-color: #E2EBFA;\n",
              "      box-shadow: 0px 1px 2px rgba(60, 64, 67, 0.3), 0px 1px 3px 1px rgba(60, 64, 67, 0.15);\n",
              "      fill: #174EA6;\n",
              "    }\n",
              "\n",
              "    [theme=dark] .colab-df-convert {\n",
              "      background-color: #3B4455;\n",
              "      fill: #D2E3FC;\n",
              "    }\n",
              "\n",
              "    [theme=dark] .colab-df-convert:hover {\n",
              "      background-color: #434B5C;\n",
              "      box-shadow: 0px 1px 3px 1px rgba(0, 0, 0, 0.15);\n",
              "      filter: drop-shadow(0px 1px 2px rgba(0, 0, 0, 0.3));\n",
              "      fill: #FFFFFF;\n",
              "    }\n",
              "  </style>\n",
              "\n",
              "      <script>\n",
              "        const buttonEl =\n",
              "          document.querySelector('#df-42c91035-e672-4a6e-ad2c-0c46ae94dbd6 button.colab-df-convert');\n",
              "        buttonEl.style.display =\n",
              "          google.colab.kernel.accessAllowed ? 'block' : 'none';\n",
              "\n",
              "        async function convertToInteractive(key) {\n",
              "          const element = document.querySelector('#df-42c91035-e672-4a6e-ad2c-0c46ae94dbd6');\n",
              "          const dataTable =\n",
              "            await google.colab.kernel.invokeFunction('convertToInteractive',\n",
              "                                                     [key], {});\n",
              "          if (!dataTable) return;\n",
              "\n",
              "          const docLinkHtml = 'Like what you see? Visit the ' +\n",
              "            '<a target=\"_blank\" href=https://colab.research.google.com/notebooks/data_table.ipynb>data table notebook</a>'\n",
              "            + ' to learn more about interactive tables.';\n",
              "          element.innerHTML = '';\n",
              "          dataTable['output_type'] = 'display_data';\n",
              "          await google.colab.output.renderOutput(dataTable, element);\n",
              "          const docLink = document.createElement('div');\n",
              "          docLink.innerHTML = docLinkHtml;\n",
              "          element.appendChild(docLink);\n",
              "        }\n",
              "      </script>\n",
              "    </div>\n",
              "  </div>\n",
              "  "
            ]
          },
          "metadata": {},
          "execution_count": 15
        }
      ],
      "source": [
        "datos = {'A': [1, 2, 3, 4, 5], 'B': [9, 8, 7, 6, 5], 'C': [2, 3, 5, 7, 11]}\n",
        "\n",
        "df = pd.DataFrame(data=datos)\n",
        "\n",
        "df"
      ]
    },
    {
      "cell_type": "code",
      "source": [
        "serie=df['A']\n",
        "serie"
      ],
      "metadata": {
        "id": "5REjKk-p20Tn",
        "colab": {
          "base_uri": "https://localhost:8080/"
        },
        "outputId": "0e2b48e6-eabd-4a6a-bbd0-b39cb1301364"
      },
      "execution_count": 17,
      "outputs": [
        {
          "output_type": "execute_result",
          "data": {
            "text/plain": [
              "0    1\n",
              "1    2\n",
              "2    3\n",
              "3    4\n",
              "4    5\n",
              "Name: A, dtype: int64"
            ]
          },
          "metadata": {},
          "execution_count": 17
        }
      ]
    },
    {
      "cell_type": "markdown",
      "metadata": {
        "id": "Vj68yTbFnzE_"
      },
      "source": [
        "# Ejercicio 10 (Opcional)\n",
        "\n",
        "Convertir un objeto Series con múltiples listas en un único objeto Series.\n",
        "\n"
      ]
    },
    {
      "cell_type": "code",
      "execution_count": 18,
      "metadata": {
        "id": "xmbacHLSnzE_",
        "outputId": "5f1c5e9f-f1fe-4083-ad9b-1696e858d31e",
        "colab": {
          "base_uri": "https://localhost:8080/"
        }
      },
      "outputs": [
        {
          "output_type": "execute_result",
          "data": {
            "text/plain": [
              "0    [Colombia, Perú, Argentina]\n",
              "1             [Bolivia, Uruguay]\n",
              "2                        [Chile]\n",
              "dtype: object"
            ]
          },
          "metadata": {},
          "execution_count": 18
        }
      ],
      "source": [
        "datos = [['Colombia', 'Perú', 'Argentina'], ['Bolivia', 'Uruguay'], ['Chile']]\n",
        "\n",
        "serie = pd.Series(datos)\n",
        "\n",
        "serie"
      ]
    },
    {
      "cell_type": "code",
      "source": [
        "serie2=serie.explode()\n",
        "serie2.reset_index()\n",
        "serie2"
      ],
      "metadata": {
        "id": "hsSmIGvZ2-qg",
        "colab": {
          "base_uri": "https://localhost:8080/"
        },
        "outputId": "db4ff1b7-c6ec-4349-8a65-012e8431afff"
      },
      "execution_count": 25,
      "outputs": [
        {
          "output_type": "execute_result",
          "data": {
            "text/plain": [
              "0     Colombia\n",
              "0         Perú\n",
              "0    Argentina\n",
              "1      Bolivia\n",
              "1      Uruguay\n",
              "2        Chile\n",
              "dtype: object"
            ]
          },
          "metadata": {},
          "execution_count": 25
        }
      ]
    },
    {
      "cell_type": "markdown",
      "metadata": {
        "id": "vK92e8xpnzFB"
      },
      "source": [
        "# Ejercicio 11\n",
        "\n",
        "Ordenar los valores de un objeto Series con el método sort_values.\n",
        "\n"
      ]
    },
    {
      "cell_type": "code",
      "execution_count": 28,
      "metadata": {
        "id": "TVDm-BdjnzFC"
      },
      "outputs": [],
      "source": [
        "datos = ['1.1', 'Python', '0.5', 'pandas', '2.8']\n",
        "\n",
        "serie = pd.Series(datos)\n"
      ]
    },
    {
      "cell_type": "code",
      "source": [
        "serie.sort_values()"
      ],
      "metadata": {
        "id": "AJakP7yq3bQH",
        "colab": {
          "base_uri": "https://localhost:8080/"
        },
        "outputId": "90ae9394-c9f5-47cd-913b-c130e684a90f"
      },
      "execution_count": 29,
      "outputs": [
        {
          "output_type": "execute_result",
          "data": {
            "text/plain": [
              "2       0.5\n",
              "0       1.1\n",
              "4       2.8\n",
              "1    Python\n",
              "3    pandas\n",
              "dtype: object"
            ]
          },
          "metadata": {},
          "execution_count": 29
        }
      ]
    },
    {
      "cell_type": "markdown",
      "metadata": {
        "id": "QiWBj_XEnzFE"
      },
      "source": [
        "# Ejercicio 12\n",
        "\n",
        "Agregar datos a un objeto Series existente.\n",
        "\n",
        "* Usa el método append()\n",
        "* IMPORTANTE: Si estamos trabajando con pandas series y aplicamos el método append(), espera recibir como argumento una pandas series. "
      ]
    },
    {
      "cell_type": "code",
      "execution_count": null,
      "metadata": {
        "id": "skbUWSiMnzFF",
        "outputId": "cf031e01-f72e-450c-ffb6-ed66a6260e76"
      },
      "outputs": [
        {
          "data": {
            "text/plain": [
              "0    Python\n",
              "1        C#\n",
              "2       C++\n",
              "3      Java\n",
              "4       PHP\n",
              "dtype: object"
            ]
          },
          "execution_count": 59,
          "metadata": {},
          "output_type": "execute_result"
        }
      ],
      "source": [
        "datos = ['Python', 'C#', 'C++', 'Java', 'PHP']\n",
        "\n",
        "serie = pd.Series(datos)\n",
        "\n",
        "serie"
      ]
    },
    {
      "cell_type": "code",
      "source": [
        "serie.append(pd.Series(['C','Rust','Javascript']))"
      ],
      "metadata": {
        "id": "ujhC2f9P4OtZ",
        "colab": {
          "base_uri": "https://localhost:8080/"
        },
        "outputId": "2457a585-94f0-4e30-eb2e-a1e3347cdc01"
      },
      "execution_count": 32,
      "outputs": [
        {
          "output_type": "execute_result",
          "data": {
            "text/plain": [
              "0           1.1\n",
              "1        Python\n",
              "2           0.5\n",
              "3        pandas\n",
              "4           2.8\n",
              "0             C\n",
              "1          Rust\n",
              "2    Javascript\n",
              "dtype: object"
            ]
          },
          "metadata": {},
          "execution_count": 32
        }
      ]
    },
    {
      "cell_type": "markdown",
      "metadata": {
        "id": "IXS4BdYJnzFG"
      },
      "source": [
        "# Ejercicio 13\n",
        "\n",
        "Crear un objeto Series a partir de un filtro aplicado a otro objeto Series.\n",
        "\n",
        "Quédate con los datos que sean menores de 6."
      ]
    },
    {
      "cell_type": "code",
      "execution_count": 34,
      "metadata": {
        "id": "ZC9oOInCnzFG",
        "outputId": "3fc06088-4f6c-4b3c-c231-264525af3abf",
        "colab": {
          "base_uri": "https://localhost:8080/"
        }
      },
      "outputs": [
        {
          "output_type": "execute_result",
          "data": {
            "text/plain": [
              "0    0\n",
              "1    1\n",
              "2    7\n",
              "3    3\n",
              "4    4\n",
              "5    5\n",
              "6    6\n",
              "7    7\n",
              "8    8\n",
              "9    9\n",
              "dtype: int64"
            ]
          },
          "metadata": {},
          "execution_count": 34
        }
      ],
      "source": [
        "datos = [0, 1, 7, 3, 4, 5, 6, 7, 8, 9]\n",
        "\n",
        "serie = pd.Series(datos)\n",
        "\n",
        "serie"
      ]
    },
    {
      "cell_type": "code",
      "source": [
        "serie[serie<6]"
      ],
      "metadata": {
        "id": "vyC4TQgK5or4",
        "colab": {
          "base_uri": "https://localhost:8080/"
        },
        "outputId": "88ad2341-da5a-4ee9-cd31-031ebcb8b4b0"
      },
      "execution_count": 35,
      "outputs": [
        {
          "output_type": "execute_result",
          "data": {
            "text/plain": [
              "0    0\n",
              "1    1\n",
              "3    3\n",
              "4    4\n",
              "5    5\n",
              "dtype: int64"
            ]
          },
          "metadata": {},
          "execution_count": 35
        }
      ]
    },
    {
      "cell_type": "markdown",
      "metadata": {
        "id": "QOdb-mqRnzFH"
      },
      "source": [
        "# Ejercicio 14\n",
        "\n",
        "* Tenemos un objeto series con letras como Indices y números como valores\n",
        "* Cambiar el orden del índice de un objeto Series.\n",
        "* El orden tiene que ser: ['B', 'A', 'C', 'D', 'E']\n",
        "\n",
        "PISTA: Podrías buscar en internet how to change index order series python\n",
        "\n"
      ]
    },
    {
      "cell_type": "code",
      "execution_count": 43,
      "metadata": {
        "id": "UcXjfbsznzFI",
        "outputId": "7c42da17-7c36-4b16-bbec-b66eb96af1af",
        "colab": {
          "base_uri": "https://localhost:8080/"
        }
      },
      "outputs": [
        {
          "output_type": "execute_result",
          "data": {
            "text/plain": [
              "A    1\n",
              "B    2\n",
              "C    3\n",
              "D    4\n",
              "E    5\n",
              "dtype: int64"
            ]
          },
          "metadata": {},
          "execution_count": 43
        }
      ],
      "source": [
        "datos = [1, 2, 3, 4, 5]\n",
        "\n",
        "indices = ['A', 'B', 'C', 'D', 'E']\n",
        "\n",
        "serie = pd.Series(data=datos, index=indices)\n",
        "\n",
        "serie"
      ]
    },
    {
      "cell_type": "code",
      "source": [
        "serie.reindex(index=['B', 'A', 'C', 'D', 'E'])"
      ],
      "metadata": {
        "id": "kMG4TMbl6LdA",
        "colab": {
          "base_uri": "https://localhost:8080/"
        },
        "outputId": "64419776-de9a-44b0-c24d-0daa73c5f90e"
      },
      "execution_count": 44,
      "outputs": [
        {
          "output_type": "execute_result",
          "data": {
            "text/plain": [
              "B    2\n",
              "A    1\n",
              "C    3\n",
              "D    4\n",
              "E    5\n",
              "dtype: int64"
            ]
          },
          "metadata": {},
          "execution_count": 44
        }
      ]
    },
    {
      "cell_type": "markdown",
      "metadata": {
        "id": "nSxpankfnzFJ"
      },
      "source": [
        "# Ejercicio 15\n",
        "\n",
        "Obtener la desviación estándar y el promedio de un conjunto de datos de una serie.\n",
        "\n"
      ]
    },
    {
      "cell_type": "code",
      "execution_count": null,
      "metadata": {
        "id": "qMIzjyE1nzFJ",
        "outputId": "d1e6f9b8-3b33-4796-f3be-6b2de2da950f"
      },
      "outputs": [
        {
          "data": {
            "text/plain": [
              "0     2\n",
              "1     3\n",
              "2     5\n",
              "3     7\n",
              "4    11\n",
              "5    13\n",
              "6    17\n",
              "7    19\n",
              "8    23\n",
              "9    29\n",
              "dtype: int64"
            ]
          },
          "execution_count": 68,
          "metadata": {},
          "output_type": "execute_result"
        }
      ],
      "source": [
        "datos = [2, 3, 5, 7, 11, 13, 17, 19, 23, 29]\n",
        "\n",
        "serie = pd.Series(datos)\n",
        "\n",
        "serie"
      ]
    },
    {
      "cell_type": "code",
      "source": [
        "serie.mean()"
      ],
      "metadata": {
        "id": "2qxYp0Y4Dc61",
        "colab": {
          "base_uri": "https://localhost:8080/"
        },
        "outputId": "10c35e61-940f-4292-8652-9fdea4b58d86"
      },
      "execution_count": 46,
      "outputs": [
        {
          "output_type": "execute_result",
          "data": {
            "text/plain": [
              "3.0"
            ]
          },
          "metadata": {},
          "execution_count": 46
        }
      ]
    },
    {
      "cell_type": "code",
      "source": [
        "serie.std()"
      ],
      "metadata": {
        "id": "yIpNTlVayF50",
        "outputId": "d9e51660-d745-4bb9-ccb1-9196dd193288",
        "colab": {
          "base_uri": "https://localhost:8080/"
        }
      },
      "execution_count": 47,
      "outputs": [
        {
          "output_type": "execute_result",
          "data": {
            "text/plain": [
              "1.5811388300841898"
            ]
          },
          "metadata": {},
          "execution_count": 47
        }
      ]
    },
    {
      "cell_type": "markdown",
      "metadata": {
        "id": "ViV7yVFsnzFL"
      },
      "source": [
        "# Ejercicio 16\n",
        "\n",
        "Calcular los valores mínimo y máximo de un objeto Series.\n",
        "\n"
      ]
    },
    {
      "cell_type": "code",
      "execution_count": 48,
      "metadata": {
        "id": "8K3lPRR_nzFL",
        "outputId": "bc11d3ab-1c35-4fdd-db68-70a6f4d955e5",
        "colab": {
          "base_uri": "https://localhost:8080/"
        }
      },
      "outputs": [
        {
          "output_type": "execute_result",
          "data": {
            "text/plain": [
              "0    19\n",
              "1     2\n",
              "2    13\n",
              "3     0\n",
              "4    23\n",
              "5    29\n",
              "6    11\n",
              "7     7\n",
              "dtype: int64"
            ]
          },
          "metadata": {},
          "execution_count": 48
        }
      ],
      "source": [
        "datos = [19, 2, 13, 0, 23, 29, 11, 7]\n",
        "\n",
        "serie = pd.Series(datos)\n",
        "\n",
        "serie"
      ]
    },
    {
      "cell_type": "code",
      "source": [
        "serie.min()"
      ],
      "metadata": {
        "id": "F4z_CX8xEFKb",
        "colab": {
          "base_uri": "https://localhost:8080/"
        },
        "outputId": "84cbd2c9-14c5-4be5-c5f4-ecbbca1c361d"
      },
      "execution_count": 49,
      "outputs": [
        {
          "output_type": "execute_result",
          "data": {
            "text/plain": [
              "0"
            ]
          },
          "metadata": {},
          "execution_count": 49
        }
      ]
    },
    {
      "cell_type": "code",
      "source": [
        "serie.max()"
      ],
      "metadata": {
        "id": "jByqZNymyRn5",
        "outputId": "a2a3cb0d-4bc7-458b-bd47-a9f2f9d2c73f",
        "colab": {
          "base_uri": "https://localhost:8080/"
        }
      },
      "execution_count": 50,
      "outputs": [
        {
          "output_type": "execute_result",
          "data": {
            "text/plain": [
              "29"
            ]
          },
          "metadata": {},
          "execution_count": 50
        }
      ]
    },
    {
      "cell_type": "markdown",
      "metadata": {
        "id": "86x1lE1mnzFM"
      },
      "source": [
        "# Ejercicio 17 (Opcional)\n",
        "\n",
        "Obtener estádisticas básicas de un objeto Series con el método `describe`.\n",
        "\n"
      ]
    },
    {
      "cell_type": "code",
      "source": [
        "serie.describe()"
      ],
      "metadata": {
        "id": "4-FYPzMVES97",
        "colab": {
          "base_uri": "https://localhost:8080/"
        },
        "outputId": "10a1fa13-7959-4a92-b428-fd94031e041b"
      },
      "execution_count": 52,
      "outputs": [
        {
          "output_type": "execute_result",
          "data": {
            "text/plain": [
              "count     8.000000\n",
              "mean     13.000000\n",
              "std      10.155927\n",
              "min       0.000000\n",
              "25%       5.750000\n",
              "50%      12.000000\n",
              "75%      20.000000\n",
              "max      29.000000\n",
              "dtype: float64"
            ]
          },
          "metadata": {},
          "execution_count": 52
        }
      ]
    },
    {
      "cell_type": "markdown",
      "metadata": {
        "id": "wmch2ixmnzFO"
      },
      "source": [
        "## Ejercicio 18\n",
        "\n",
        "Obtener los elementos impares de un objeto Series numérico.\n",
        "\n"
      ]
    },
    {
      "cell_type": "code",
      "execution_count": 53,
      "metadata": {
        "id": "mPQedUAunzFP",
        "outputId": "e60b1854-4593-4f13-cb0f-48a57351cfab",
        "colab": {
          "base_uri": "https://localhost:8080/"
        }
      },
      "outputs": [
        {
          "output_type": "execute_result",
          "data": {
            "text/plain": [
              "0    19\n",
              "1     2\n",
              "2    13\n",
              "3     0\n",
              "4    23\n",
              "5    29\n",
              "6    11\n",
              "7     7\n",
              "dtype: int64"
            ]
          },
          "metadata": {},
          "execution_count": 53
        }
      ],
      "source": [
        "datos = [19, 2, 13, 0, 23, 29, 11, 7]\n",
        "\n",
        "serie = pd.Series(datos)\n",
        "\n",
        "serie"
      ]
    },
    {
      "cell_type": "code",
      "source": [
        "serie[serie%2==1]"
      ],
      "metadata": {
        "id": "HWKLpdFfFZ2J",
        "colab": {
          "base_uri": "https://localhost:8080/"
        },
        "outputId": "42f5f116-a2fb-4ed8-bc22-b11f505ecfaf"
      },
      "execution_count": 56,
      "outputs": [
        {
          "output_type": "execute_result",
          "data": {
            "text/plain": [
              "0    19\n",
              "2    13\n",
              "4    23\n",
              "5    29\n",
              "6    11\n",
              "7     7\n",
              "dtype: int64"
            ]
          },
          "metadata": {},
          "execution_count": 56
        }
      ]
    },
    {
      "cell_type": "markdown",
      "metadata": {
        "id": "ipTFhcALnzFQ"
      },
      "source": [
        "# Ejercicio 19 (Opcional)\n",
        "\n",
        "Extraer los datos de un objeto Series como un objeto NumPy.\n",
        "\n"
      ]
    },
    {
      "cell_type": "code",
      "source": [
        "serie.to_numpy()"
      ],
      "metadata": {
        "id": "6_3Nvd22HDwz",
        "colab": {
          "base_uri": "https://localhost:8080/"
        },
        "outputId": "0ce2a6d9-44de-4c71-8a0b-8f3c79cb9550"
      },
      "execution_count": 58,
      "outputs": [
        {
          "output_type": "execute_result",
          "data": {
            "text/plain": [
              "array([19,  2, 13,  0, 23, 29, 11,  7])"
            ]
          },
          "metadata": {},
          "execution_count": 58
        }
      ]
    },
    {
      "cell_type": "markdown",
      "metadata": {
        "id": "l6hnL8xlnzFU"
      },
      "source": [
        "# Ejercicio 20\n",
        "\n",
        "Comprobar si una serie contiene valores NaN. Ya existe una función que lo comprueba.\n",
        "\n"
      ]
    },
    {
      "cell_type": "code",
      "execution_count": 59,
      "metadata": {
        "id": "_XRfmsGonzFV",
        "colab": {
          "base_uri": "https://localhost:8080/"
        },
        "outputId": "d0bfd999-dd37-4b2c-d946-c6f9fd64b031"
      },
      "outputs": [
        {
          "output_type": "execute_result",
          "data": {
            "text/plain": [
              "0     20.0\n",
              "1     30.0\n",
              "2      NaN\n",
              "3     50.0\n",
              "4    100.0\n",
              "dtype: float64"
            ]
          },
          "metadata": {},
          "execution_count": 59
        }
      ],
      "source": [
        "datos = ['20', '30', '', '50', 100]\n",
        "\n",
        "serie = pd.Series(datos)\n",
        "serie = pd.to_numeric(serie)\n",
        "\n",
        "serie"
      ]
    },
    {
      "cell_type": "code",
      "source": [
        "serie.isnull()"
      ],
      "metadata": {
        "id": "a9qwzdxvLtcy",
        "colab": {
          "base_uri": "https://localhost:8080/"
        },
        "outputId": "052ea001-6433-402a-a021-0e501bf5ba8f"
      },
      "execution_count": 64,
      "outputs": [
        {
          "output_type": "execute_result",
          "data": {
            "text/plain": [
              "0    False\n",
              "1    False\n",
              "2     True\n",
              "3    False\n",
              "4    False\n",
              "dtype: bool"
            ]
          },
          "metadata": {},
          "execution_count": 64
        }
      ]
    },
    {
      "cell_type": "markdown",
      "metadata": {
        "id": "qlpoTR4DnzFY"
      },
      "source": [
        "# Ejercicio 21 (Opcional)\n",
        "\n",
        "Operaciones aritméticas con métodos de la clase Series: `add`, `subtract`, `multiply`, y `divide`.\n",
        "\n"
      ]
    },
    {
      "cell_type": "code",
      "execution_count": 65,
      "metadata": {
        "id": "_EE4fBVUnzFZ",
        "outputId": "78ab3afe-ffd2-4471-c339-8f20c5bd77c1",
        "colab": {
          "base_uri": "https://localhost:8080/"
        }
      },
      "outputs": [
        {
          "output_type": "execute_result",
          "data": {
            "text/plain": [
              "0     1\n",
              "1     2\n",
              "2     3\n",
              "3     4\n",
              "4     5\n",
              "5     6\n",
              "6     7\n",
              "7     8\n",
              "8     9\n",
              "9    10\n",
              "dtype: int64"
            ]
          },
          "metadata": {},
          "execution_count": 65
        }
      ],
      "source": [
        "serie1 = pd.Series(list(range(1, 11)))\n",
        "\n",
        "serie1"
      ]
    },
    {
      "cell_type": "code",
      "execution_count": 66,
      "metadata": {
        "id": "bOnodcASnzFZ",
        "outputId": "84ba7e48-af99-486f-8def-415bfba20864",
        "colab": {
          "base_uri": "https://localhost:8080/"
        }
      },
      "outputs": [
        {
          "output_type": "execute_result",
          "data": {
            "text/plain": [
              "0    10\n",
              "1     9\n",
              "2     8\n",
              "3     7\n",
              "4     6\n",
              "5     5\n",
              "6     4\n",
              "7     3\n",
              "8     2\n",
              "9     1\n",
              "dtype: int64"
            ]
          },
          "metadata": {},
          "execution_count": 66
        }
      ],
      "source": [
        "serie2 = pd.Series(list(range(10, 0, -1)))\n",
        "\n",
        "serie2"
      ]
    },
    {
      "cell_type": "code",
      "source": [
        "serie1.add(serie2)"
      ],
      "metadata": {
        "id": "xMLPxRhFN53b",
        "colab": {
          "base_uri": "https://localhost:8080/"
        },
        "outputId": "58641bf6-e7dd-4fd5-b4e1-1fc0515a84ea"
      },
      "execution_count": 68,
      "outputs": [
        {
          "output_type": "execute_result",
          "data": {
            "text/plain": [
              "0    11\n",
              "1    11\n",
              "2    11\n",
              "3    11\n",
              "4    11\n",
              "5    11\n",
              "6    11\n",
              "7    11\n",
              "8    11\n",
              "9    11\n",
              "dtype: int64"
            ]
          },
          "metadata": {},
          "execution_count": 68
        }
      ]
    },
    {
      "cell_type": "code",
      "source": [
        "serie1.subtract(serie2)"
      ],
      "metadata": {
        "id": "ZPyxmfQczKRH",
        "outputId": "5c5e7d21-624d-4912-eee7-e3164d205fb4",
        "colab": {
          "base_uri": "https://localhost:8080/"
        }
      },
      "execution_count": 72,
      "outputs": [
        {
          "output_type": "execute_result",
          "data": {
            "text/plain": [
              "0   -9\n",
              "1   -7\n",
              "2   -5\n",
              "3   -3\n",
              "4   -1\n",
              "5    1\n",
              "6    3\n",
              "7    5\n",
              "8    7\n",
              "9    9\n",
              "dtype: int64"
            ]
          },
          "metadata": {},
          "execution_count": 72
        }
      ]
    },
    {
      "cell_type": "code",
      "source": [
        "serie1.multiply(serie2)"
      ],
      "metadata": {
        "id": "pyDbrLH4zPJ6",
        "outputId": "92ea3706-0498-49af-ff97-2c5a0f4371f2",
        "colab": {
          "base_uri": "https://localhost:8080/"
        }
      },
      "execution_count": 73,
      "outputs": [
        {
          "output_type": "execute_result",
          "data": {
            "text/plain": [
              "0    10\n",
              "1    18\n",
              "2    24\n",
              "3    28\n",
              "4    30\n",
              "5    30\n",
              "6    28\n",
              "7    24\n",
              "8    18\n",
              "9    10\n",
              "dtype: int64"
            ]
          },
          "metadata": {},
          "execution_count": 73
        }
      ]
    },
    {
      "cell_type": "code",
      "source": [
        "serie1.divide(serie2)"
      ],
      "metadata": {
        "id": "EsXVQ8rCzO9j",
        "outputId": "20eb1d04-4b46-458b-fef9-47b6c1cb5e71",
        "colab": {
          "base_uri": "https://localhost:8080/"
        }
      },
      "execution_count": 74,
      "outputs": [
        {
          "output_type": "execute_result",
          "data": {
            "text/plain": [
              "0     0.100000\n",
              "1     0.222222\n",
              "2     0.375000\n",
              "3     0.571429\n",
              "4     0.833333\n",
              "5     1.200000\n",
              "6     1.750000\n",
              "7     2.666667\n",
              "8     4.500000\n",
              "9    10.000000\n",
              "dtype: float64"
            ]
          },
          "metadata": {},
          "execution_count": 74
        }
      ]
    },
    {
      "cell_type": "markdown",
      "metadata": {
        "id": "MCZDXXNynzFb"
      },
      "source": [
        "# Ejercicio 22\n",
        "\n",
        "Eliminar los valores NaN de una serie con el método dropna.\n",
        "\n"
      ]
    },
    {
      "cell_type": "code",
      "execution_count": null,
      "metadata": {
        "id": "5S6OVgDunzFb",
        "outputId": "db7e1e19-5601-4f9f-eae2-456b256cd4a4"
      },
      "outputs": [
        {
          "data": {
            "text/plain": [
              "0       2.3\n",
              "1    Python\n",
              "2        90\n",
              "3       100\n",
              "4       NaN\n",
              "5       0.5\n",
              "6        .9\n",
              "dtype: object"
            ]
          },
          "execution_count": 106,
          "metadata": {},
          "output_type": "execute_result"
        }
      ],
      "source": [
        "datos = ['2.3', '90', '100', np.nan, '0.5', '.9']\n",
        "\n",
        "serie = pd.Series(datos)\n",
        "\n",
        "serie"
      ]
    },
    {
      "cell_type": "code",
      "source": [
        "serie.dropna()"
      ],
      "metadata": {
        "id": "HzeThDH9OW5O",
        "colab": {
          "base_uri": "https://localhost:8080/"
        },
        "outputId": "159a18dc-bc72-489f-cb7a-2ee8aad2280d"
      },
      "execution_count": 75,
      "outputs": [
        {
          "output_type": "execute_result",
          "data": {
            "text/plain": [
              "0     20.0\n",
              "1     30.0\n",
              "3     50.0\n",
              "4    100.0\n",
              "dtype: float64"
            ]
          },
          "metadata": {},
          "execution_count": 75
        }
      ]
    },
    {
      "cell_type": "markdown",
      "metadata": {
        "id": "w9Cn3Z9enzFl"
      },
      "source": [
        "# Ejercicio 23\n",
        "\n",
        "Reemplazar los valores NaN (null) de una serie con un valor arbitrario.\n",
        "\n"
      ]
    },
    {
      "cell_type": "code",
      "execution_count": 78,
      "metadata": {
        "id": "o_yHg59VnzFm",
        "outputId": "a0cc765e-d2d9-4dde-a440-175a32053770",
        "colab": {
          "base_uri": "https://localhost:8080/"
        }
      },
      "outputs": [
        {
          "output_type": "execute_result",
          "data": {
            "text/plain": [
              "0         1\n",
              "1         3\n",
              "2       NaN\n",
              "3        11\n",
              "4    Python\n",
              "5      -0.5\n",
              "6       NaN\n",
              "dtype: object"
            ]
          },
          "metadata": {},
          "execution_count": 78
        }
      ],
      "source": [
        "datos = [1, 3, np.nan, 11, 'Python', '-0.5', np.nan]\n",
        "\n",
        "serie = pd.Series(datos)\n",
        "\n",
        "serie"
      ]
    },
    {
      "cell_type": "code",
      "source": [
        "serie[serie.isnull()]=0\n",
        "serie"
      ],
      "metadata": {
        "id": "zAOFwAPuznBP",
        "outputId": "4ccc410a-6dbe-4c89-cfaf-aef9ce62e10b",
        "colab": {
          "base_uri": "https://localhost:8080/"
        }
      },
      "execution_count": 79,
      "outputs": [
        {
          "output_type": "execute_result",
          "data": {
            "text/plain": [
              "0         1\n",
              "1         3\n",
              "2         0\n",
              "3        11\n",
              "4    Python\n",
              "5      -0.5\n",
              "6         0\n",
              "dtype: object"
            ]
          },
          "metadata": {},
          "execution_count": 79
        }
      ]
    }
  ],
  "metadata": {
    "kernelspec": {
      "display_name": "Python 3",
      "language": "python",
      "name": "python3"
    },
    "language_info": {
      "codemirror_mode": {
        "name": "ipython",
        "version": 3
      },
      "file_extension": ".py",
      "mimetype": "text/x-python",
      "name": "python",
      "nbconvert_exporter": "python",
      "pygments_lexer": "ipython3",
      "version": "3.7.3"
    },
    "colab": {
      "provenance": [],
      "include_colab_link": true
    }
  },
  "nbformat": 4,
  "nbformat_minor": 0
}