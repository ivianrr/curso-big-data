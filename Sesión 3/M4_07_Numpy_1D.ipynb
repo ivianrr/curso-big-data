{
  "metadata": {
    "kernelspec": {
      "name": "python",
      "display_name": "Pyolite",
      "language": "python"
    },
    "language_info": {
      "codemirror_mode": {
        "name": "python",
        "version": 3
      },
      "file_extension": ".py",
      "mimetype": "text/x-python",
      "name": "python",
      "nbconvert_exporter": "python",
      "pygments_lexer": "ipython3",
      "version": "3.8"
    },
    "colab": {
      "provenance": [],
      "collapsed_sections": [
        "gVYX1l_fgZhO",
        "jBoJ6IdWgZhY",
        "MQiIVuJkgZha",
        "5Pu_2ft8gZhb",
        "ySoMDv87gZhe",
        "VlgQn2ZngZhi",
        "Zz4x_rD9gZhj",
        "khZIizD1gZhn",
        "9k1RKfeAgZho",
        "UE_8S1tsgZhq",
        "_4PME-tGgZhs",
        "bYl1PqpbgZht",
        "79foH2hcgZhu",
        "zMazZ_6hgZhw",
        "f38YqrfVgZhx",
        "AY34UzFsgZh1"
      ],
      "include_colab_link": true
    }
  },
  "nbformat_minor": 0,
  "nbformat": 4,
  "cells": [
    {
      "cell_type": "markdown",
      "metadata": {
        "id": "view-in-github",
        "colab_type": "text"
      },
      "source": [
        "<a href=\"https://colab.research.google.com/github/ivianrr/curso-big-data/blob/main/Sesi%C3%B3n%203/M4_07_Numpy_1D.ipynb\" target=\"_parent\"><img src=\"https://colab.research.google.com/assets/colab-badge.svg\" alt=\"Open In Colab\"/></a>"
      ]
    },
    {
      "cell_type": "markdown",
      "source": [
        "https://shorturl.at/psxAM"
      ],
      "metadata": {
        "id": "KSENbxH7IaOA"
      }
    },
    {
      "cell_type": "markdown",
      "source": [
        "# Numpy 1D en Python\n",
        "\n",
        "Después de completar esta práctica serás capaz de:\n",
        "\n",
        "*   Usar la librería `numpy`\n",
        "*   Realizar operaciones con `numpy`\n"
      ],
      "metadata": {
        "id": "LYYuQv3XgZhF"
      }
    },
    {
      "cell_type": "code",
      "source": [
        "!pip install numpy"
      ],
      "metadata": {
        "colab": {
          "base_uri": "https://localhost:8080/"
        },
        "id": "YHJ_MFEdIwuZ",
        "outputId": "0d69b71a-9f9d-4e2a-99a2-ccec91d587ba"
      },
      "execution_count": null,
      "outputs": [
        {
          "output_type": "stream",
          "name": "stdout",
          "text": [
            "Looking in indexes: https://pypi.org/simple, https://us-python.pkg.dev/colab-wheels/public/simple/\n",
            "Requirement already satisfied: numpy in /usr/local/lib/python3.7/dist-packages (1.21.6)\n"
          ]
        }
      ]
    },
    {
      "cell_type": "code",
      "source": [
        "#Busca en internet como importar numpy\n",
        "import numpy as np"
      ],
      "metadata": {
        "id": "7yrUBZ6JvCF9"
      },
      "execution_count": null,
      "outputs": []
    },
    {
      "cell_type": "markdown",
      "source": [
        "### Creamos una Lista Python de la siguiente manera:\n"
      ],
      "metadata": {
        "id": "gVYX1l_fgZhO"
      }
    },
    {
      "cell_type": "code",
      "source": [
        "# Creamos una lista python\n",
        "\n",
        "a = [\"0\", 1, \"two\", \"3\", 4]"
      ],
      "metadata": {
        "id": "s07xzYlzgZhP"
      },
      "execution_count": null,
      "outputs": []
    },
    {
      "cell_type": "markdown",
      "source": [
        "Podemos acceder a los datos a través del índice:\n"
      ],
      "metadata": {
        "id": "xXHvR9_SgZhR"
      }
    },
    {
      "cell_type": "markdown",
      "source": [
        "<img src=\"https://cf-courses-data.s3.us.cloud-object-storage.appdomain.cloud/IBMDeveloperSkillsNetwork-PY0101EN-SkillsNetwork/labs/Module%205/images/NumOneList.png\" width=\"660\" />\n"
      ],
      "metadata": {
        "id": "KlC3t1dTgZhR"
      }
    },
    {
      "cell_type": "markdown",
      "source": [
        "Podemos acceder a cada elemento usando corchetes de la siguiente manera:\n"
      ],
      "metadata": {
        "id": "h7phFPjagZhS"
      }
    },
    {
      "cell_type": "code",
      "source": [
        "# Print each element\n",
        "\n",
        "print(\"a[0]:\", a[0])\n",
        "print(\"a[1]:\", a[1])\n",
        "print(\"a[2]:\", a[2])\n",
        "print(\"a[3]:\", a[3])\n",
        "print(\"a[4]:\", a[4])"
      ],
      "metadata": {
        "id": "c1cfc69ZgZhT",
        "colab": {
          "base_uri": "https://localhost:8080/"
        },
        "outputId": "984b0751-96c4-4234-c432-b996642ac9cb"
      },
      "execution_count": null,
      "outputs": [
        {
          "output_type": "stream",
          "name": "stdout",
          "text": [
            "a[0]: 0\n",
            "a[1]: 1\n",
            "a[2]: two\n",
            "a[3]: 3\n",
            "a[4]: 4\n"
          ]
        }
      ]
    },
    {
      "cell_type": "markdown",
      "source": [
        "<hr>\n"
      ],
      "metadata": {
        "id": "T0bU0FIEgZhT"
      }
    },
    {
      "cell_type": "markdown",
      "source": [
        "<h2 id=\"numpy\">¿Qué es Numpy?</h2>\n"
      ],
      "metadata": {
        "id": "iB2IO6HSgZhU"
      }
    },
    {
      "cell_type": "markdown",
      "source": [
        "NumPy es una biblioteca de Python que se utiliza para trabajar con matrices, álgebra lineal, transformaciones de Fourier y matrices. Un array numpy es similar a una lista. NumPy significa Numerical Python y es un proyecto de código abierto. El objeto array en NumPy se llama **ndarray**, proporciona muchas funciones de apoyo que hacen que trabajar con ndarray sea muy fácil.\n",
        "\n",
        "Los arrays se utilizan con mucha frecuencia en la ciencia de datos, donde la velocidad y los recursos son muy importantes.\n",
        "\n",
        "NumPy generalmente se importa con el alias np.\n",
        "\n",
        "Por lo general, tiene un tamaño fijo y cada elemento es del mismo tipo. Podemos convertir una lista en un array numpy importando primero `numpy`:\n"
      ],
      "metadata": {
        "id": "wY8SHEdkgZhU"
      }
    },
    {
      "cell_type": "code",
      "source": [
        "# importamos la librería numpy\n",
        "\n",
        "import numpy as np "
      ],
      "metadata": {
        "id": "JcLzcIhJgZhV"
      },
      "execution_count": null,
      "outputs": []
    },
    {
      "cell_type": "markdown",
      "source": [
        "Después convertimos la lista de la siguiente manera:\n"
      ],
      "metadata": {
        "id": "myP2BXo4gZhV"
      }
    },
    {
      "cell_type": "code",
      "source": [
        "# Creamos un array numpy\n",
        "\n",
        "a = np.array([0, 1, 2, 3, 4])\n",
        "a"
      ],
      "metadata": {
        "id": "iWcjLN3BgZhV",
        "colab": {
          "base_uri": "https://localhost:8080/"
        },
        "outputId": "653c3a0a-059c-41c1-808f-18db13e94377"
      },
      "execution_count": null,
      "outputs": [
        {
          "output_type": "execute_result",
          "data": {
            "text/plain": [
              "array([0, 1, 2, 3, 4])"
            ]
          },
          "metadata": {},
          "execution_count": 6
        }
      ]
    },
    {
      "cell_type": "markdown",
      "source": [
        "Cada elemento es del mismo tipo, en este caso enteros:\n"
      ],
      "metadata": {
        "id": "Icd5qC2CgZhW"
      }
    },
    {
      "cell_type": "markdown",
      "source": [
        "<img src=\"https://cf-courses-data.s3.us.cloud-object-storage.appdomain.cloud/IBMDeveloperSkillsNetwork-PY0101EN-SkillsNetwork/labs/Module%205/images/NumOneNp.png\" width=\"500\" />\n"
      ],
      "metadata": {
        "id": "AHp0Tui5gZhW"
      }
    },
    {
      "cell_type": "markdown",
      "source": [
        "Al igual que con las listas, podemos acceder a cada elemento mediante corchetes:\n"
      ],
      "metadata": {
        "id": "hPeMfh3kgZhX"
      }
    },
    {
      "cell_type": "code",
      "source": [
        "# Imprimimos cada elemento\n",
        "\n",
        "print(\"a[0]:\", a[0])\n",
        "print(\"a[1]:\", a[1])\n",
        "print(\"a[2]:\", a[2])\n",
        "print(\"a[3]:\", a[3])\n",
        "print(\"a[4]:\", a[4])"
      ],
      "metadata": {
        "id": "oIijJ_izgZhX",
        "colab": {
          "base_uri": "https://localhost:8080/"
        },
        "outputId": "314d1ecc-c258-47db-e6e4-deb3e876ddbb"
      },
      "execution_count": null,
      "outputs": [
        {
          "output_type": "stream",
          "name": "stdout",
          "text": [
            "a[0]: 0\n",
            "a[1]: 1\n",
            "a[2]: 2\n",
            "a[3]: 3\n",
            "a[4]: 4\n"
          ]
        }
      ]
    },
    {
      "cell_type": "markdown",
      "source": [
        "### Comprobando la Versión de NumPy\n",
        "\n",
        "La versión se almacena en el atributo **versión**.\n"
      ],
      "metadata": {
        "id": "jBoJ6IdWgZhY"
      }
    },
    {
      "cell_type": "code",
      "source": [
        "print(np.__version__)"
      ],
      "metadata": {
        "id": "FR6DqYL3gZhY",
        "colab": {
          "base_uri": "https://localhost:8080/"
        },
        "outputId": "fa57c93e-6cb2-4e5f-8b7e-34c8842e874c"
      },
      "execution_count": null,
      "outputs": [
        {
          "output_type": "stream",
          "name": "stdout",
          "text": [
            "1.21.6\n"
          ]
        }
      ]
    },
    {
      "cell_type": "markdown",
      "source": [
        "<h3 id=\"type\">Tipo</h3>\n"
      ],
      "metadata": {
        "id": "PLv6Xv_vgZhY"
      }
    },
    {
      "cell_type": "markdown",
      "source": [
        "Si comprobamos el tipo del array obtenemos <b>numpy.ndarray</b>:\n"
      ],
      "metadata": {
        "id": "N53EDpyogZhY"
      }
    },
    {
      "cell_type": "code",
      "source": [
        "# Comprobamos el tipo del array\n",
        "\n",
        "type(a)"
      ],
      "metadata": {
        "id": "VAc5kEq6gZhZ",
        "colab": {
          "base_uri": "https://localhost:8080/"
        },
        "outputId": "b552660c-c917-4673-c37f-8df127b1b2f3"
      },
      "execution_count": null,
      "outputs": [
        {
          "output_type": "execute_result",
          "data": {
            "text/plain": [
              "numpy.ndarray"
            ]
          },
          "metadata": {},
          "execution_count": 9
        }
      ]
    },
    {
      "cell_type": "markdown",
      "source": [
        "Como los array numpy contienen datos del mismo tipo, podemos usar el atributo \"dtype\" para obtener el tipo de datos de los elementos del array. En este caso, es un entero de 64 bits:\n"
      ],
      "metadata": {
        "id": "bDFlyDgIgZhZ"
      }
    },
    {
      "cell_type": "code",
      "source": [
        "# Comprobamos el tipo de valores almacenados en el array numpy\n",
        "\n",
        "a.dtype"
      ],
      "metadata": {
        "id": "Xj8BrecDgZhZ",
        "colab": {
          "base_uri": "https://localhost:8080/"
        },
        "outputId": "176feb46-ea31-4eab-eb35-e96e098cc6b6"
      },
      "execution_count": null,
      "outputs": [
        {
          "output_type": "execute_result",
          "data": {
            "text/plain": [
              "dtype('int64')"
            ]
          },
          "metadata": {},
          "execution_count": 10
        }
      ]
    },
    {
      "cell_type": "markdown",
      "source": [
        "### Inténtalo tú mismo\n",
        "\n",
        "Comprueba el tipo de array y valor para la matriz dada **c**\n"
      ],
      "metadata": {
        "id": "MQiIVuJkgZha"
      }
    },
    {
      "cell_type": "code",
      "source": [
        "b = np.array([3.1, 11.02, 6.2, 213.2, 5.2])\n",
        "\n",
        "# Escriba aquí su solución\n",
        "b.dtype"
      ],
      "metadata": {
        "id": "eNHpWhgWgZha",
        "colab": {
          "base_uri": "https://localhost:8080/"
        },
        "outputId": "20eb3581-cd98-496c-f186-90276a3c6ff9"
      },
      "execution_count": null,
      "outputs": [
        {
          "output_type": "execute_result",
          "data": {
            "text/plain": [
              "dtype('float64')"
            ]
          },
          "metadata": {},
          "execution_count": 12
        }
      ]
    },
    {
      "cell_type": "code",
      "source": [
        "b"
      ],
      "metadata": {
        "colab": {
          "base_uri": "https://localhost:8080/"
        },
        "id": "MAGM1W-8JHn3",
        "outputId": "39755d00-7c37-40dc-e01a-af6669c23547"
      },
      "execution_count": null,
      "outputs": [
        {
          "output_type": "execute_result",
          "data": {
            "text/plain": [
              "array([  3.1 ,  11.02,   6.2 , 213.2 ,   5.2 ])"
            ]
          },
          "metadata": {},
          "execution_count": 13
        }
      ]
    },
    {
      "cell_type": "markdown",
      "source": [
        "<h3 id=\"val\">Asignar un valor</h3>\n"
      ],
      "metadata": {
        "id": "_ELeitsogZha"
      }
    },
    {
      "cell_type": "markdown",
      "source": [
        "Podemos cambiar el valor del array. Observa el array <code>c</code>:\n"
      ],
      "metadata": {
        "id": "a4319rGVgZha"
      }
    },
    {
      "cell_type": "code",
      "source": [
        "# Creamos un array numpy\n",
        "\n",
        "c = np.array([20, 1, 2, 3, 4])\n",
        "c"
      ],
      "metadata": {
        "id": "D7F6F3rngZha",
        "colab": {
          "base_uri": "https://localhost:8080/"
        },
        "outputId": "7ca4fd53-4c15-4765-9428-224b791ea2f6"
      },
      "execution_count": null,
      "outputs": [
        {
          "output_type": "execute_result",
          "data": {
            "text/plain": [
              "array([20,  1,  2,  3,  4])"
            ]
          },
          "metadata": {},
          "execution_count": 14
        }
      ]
    },
    {
      "cell_type": "markdown",
      "source": [
        "Podemos cambiar el primer elemento del array a 100 de la siguiente manera:\n"
      ],
      "metadata": {
        "id": "RfFXSlzKgZhb"
      }
    },
    {
      "cell_type": "code",
      "source": [
        "# Asignamos 100 al primer elemento\n",
        "\n",
        "c[0] = 100\n",
        "c"
      ],
      "metadata": {
        "id": "uKaQxnVRgZhb",
        "colab": {
          "base_uri": "https://localhost:8080/"
        },
        "outputId": "6a5b9e4f-a1a7-4550-f284-29b9594436a1"
      },
      "execution_count": null,
      "outputs": [
        {
          "output_type": "execute_result",
          "data": {
            "text/plain": [
              "array([100,   1,   2,   3,   4])"
            ]
          },
          "metadata": {},
          "execution_count": 15
        }
      ]
    },
    {
      "cell_type": "markdown",
      "source": [
        "Podemos cambiar el quinto elemento del array a 0 de la siguiente manera:\n"
      ],
      "metadata": {
        "id": "6HcbYln3gZhb"
      }
    },
    {
      "cell_type": "code",
      "source": [
        "# Asignamos 0 al 5º elemento\n",
        "\n",
        "c[4] = 0\n",
        "c"
      ],
      "metadata": {
        "id": "mjjv8482gZhb",
        "colab": {
          "base_uri": "https://localhost:8080/"
        },
        "outputId": "2c15377b-7a4e-4a75-95aa-8835e1dc2ea1"
      },
      "execution_count": null,
      "outputs": [
        {
          "output_type": "execute_result",
          "data": {
            "text/plain": [
              "array([100,   1,   2,   3,   0])"
            ]
          },
          "metadata": {},
          "execution_count": 16
        }
      ]
    },
    {
      "cell_type": "markdown",
      "source": [
        "### Inténtalo tú mismo\n",
        "\n",
        "Asigna el valor 20 para el segundo elemento en el array dada.\n"
      ],
      "metadata": {
        "id": "5Pu_2ft8gZhb"
      }
    },
    {
      "cell_type": "code",
      "source": [
        "a = np.array([10, 2, 30, 40,50])\n",
        "\n",
        "# Escriba aquí su solución\n",
        "a[1]=20\n",
        "a"
      ],
      "metadata": {
        "id": "OsxdC66jgZhc",
        "colab": {
          "base_uri": "https://localhost:8080/"
        },
        "outputId": "e62751c7-beb7-4e00-8862-984e9c1fc6d1"
      },
      "execution_count": null,
      "outputs": [
        {
          "output_type": "execute_result",
          "data": {
            "text/plain": [
              "array([10, 20, 30, 40, 50])"
            ]
          },
          "metadata": {},
          "execution_count": 18
        }
      ]
    },
    {
      "cell_type": "markdown",
      "source": [
        "<h3 id=\"slice\">Slicing (Cortar)</h3>\n"
      ],
      "metadata": {
        "id": "vRKdaXQOgZhc"
      }
    },
    {
      "cell_type": "markdown",
      "source": [
        "Al igual que las listas, podemos dividir el array numpy. Slicing (Cortar) en python significa tomar los elementos de un índice dado a otro índice dado.\n",
        "\n",
        "Cortamos de esta forma: \\[start:end].\n",
        "\n",
        "Podemos seleccionar los elementos del 1 al 3 y asignarlos a un nuevo array numpy <code>d</code> de la siguiente manera:\n"
      ],
      "metadata": {
        "id": "uQ3s7jGegZhc"
      }
    },
    {
      "cell_type": "code",
      "source": [
        "# Cortamos el array numpy\n",
        "\n",
        "d = c[1:4]\n",
        "d"
      ],
      "metadata": {
        "id": "In_OW7wZgZhc",
        "colab": {
          "base_uri": "https://localhost:8080/"
        },
        "outputId": "78161274-7f68-4ba1-f146-226f69e87b83"
      },
      "execution_count": null,
      "outputs": [
        {
          "output_type": "execute_result",
          "data": {
            "text/plain": [
              "array([1, 2, 3])"
            ]
          },
          "metadata": {},
          "execution_count": 19
        }
      ]
    },
    {
      "cell_type": "markdown",
      "source": [
        "Podemos asignar los índices correspondientes a los nuevos valores de la siguiente manera:\n"
      ],
      "metadata": {
        "id": "OV0lvTnZgZhc"
      }
    },
    {
      "cell_type": "code",
      "source": [
        "# Establecemos el cuarto elemento y el quinto elemento en 300 y 400\n",
        "\n",
        "c[3:5] = 300, 400\n",
        "c"
      ],
      "metadata": {
        "id": "-XzYBqABgZhd",
        "colab": {
          "base_uri": "https://localhost:8080/"
        },
        "outputId": "ac09726a-4744-42cf-f902-e9cc426f8908"
      },
      "execution_count": null,
      "outputs": [
        {
          "output_type": "execute_result",
          "data": {
            "text/plain": [
              "array([100,   1,   2, 300, 400])"
            ]
          },
          "metadata": {},
          "execution_count": 20
        }
      ]
    },
    {
      "cell_type": "markdown",
      "source": [
        "También podemos definir los pasos en el corte, así: \\[start\\:end:step].\n"
      ],
      "metadata": {
        "id": "nxUSJig-gZhd"
      }
    },
    {
      "cell_type": "code",
      "source": [
        "arr = np.array([1, 2, 3, 4, 5, 6, 7])\n",
        "\n",
        "print(arr[1:5:2])"
      ],
      "metadata": {
        "id": "KOtUFb7dgZhd",
        "colab": {
          "base_uri": "https://localhost:8080/"
        },
        "outputId": "c9f4943e-97c2-426b-f839-3e999ca565a2"
      },
      "execution_count": null,
      "outputs": [
        {
          "output_type": "stream",
          "name": "stdout",
          "text": [
            "[2 4]\n"
          ]
        }
      ]
    },
    {
      "cell_type": "markdown",
      "source": [
        "Si no damos el start se considera 0\n"
      ],
      "metadata": {
        "id": "qEdA-nb2gZhd"
      }
    },
    {
      "cell_type": "code",
      "source": [
        "print(arr[:4])"
      ],
      "metadata": {
        "id": "oXYjDYJEgZhd",
        "colab": {
          "base_uri": "https://localhost:8080/"
        },
        "outputId": "8435ef89-7361-4dbe-fa06-114d7169851d"
      },
      "execution_count": null,
      "outputs": [
        {
          "output_type": "stream",
          "name": "stdout",
          "text": [
            "[1 2 3 4]\n"
          ]
        }
      ]
    },
    {
      "cell_type": "markdown",
      "source": [
        "Si no damos el end, se considera hasta la longitud del array.\n"
      ],
      "metadata": {
        "id": "863mB6jDgZhe"
      }
    },
    {
      "cell_type": "code",
      "source": [
        "print(arr[4:])"
      ],
      "metadata": {
        "id": "N45m3aUHgZhe",
        "colab": {
          "base_uri": "https://localhost:8080/"
        },
        "outputId": "6fffaa96-e5a2-4460-c7f2-46dcc76efda2"
      },
      "execution_count": null,
      "outputs": [
        {
          "output_type": "stream",
          "name": "stdout",
          "text": [
            "[5 6 7]\n"
          ]
        }
      ]
    },
    {
      "cell_type": "markdown",
      "source": [
        "Si no damos el step se considera 1\n"
      ],
      "metadata": {
        "id": "GbOAQfB0gZhe"
      }
    },
    {
      "cell_type": "code",
      "source": [
        "print(arr[1:5:])"
      ],
      "metadata": {
        "id": "QbaTiocEgZhe",
        "colab": {
          "base_uri": "https://localhost:8080/"
        },
        "outputId": "8c319a9e-1453-46b1-ca13-0af255c59e2e"
      },
      "execution_count": null,
      "outputs": [
        {
          "output_type": "stream",
          "name": "stdout",
          "text": [
            "[2 3 4 5]\n"
          ]
        }
      ]
    },
    {
      "cell_type": "markdown",
      "source": [
        "### Inténtalo tú mismo\n",
        "\n",
        "Imprime los elementos pares en el array dado.\n"
      ],
      "metadata": {
        "id": "ySoMDv87gZhe"
      }
    },
    {
      "cell_type": "code",
      "source": [
        "arr = np.array([1, 2, 3, 4, 5, 6, 7, 8])\n",
        "\n",
        "# Escriba aquí su solución\n",
        "\n",
        "arr[1::2]"
      ],
      "metadata": {
        "id": "d82yoF0lgZhe",
        "colab": {
          "base_uri": "https://localhost:8080/"
        },
        "outputId": "842ab9f6-2907-45e7-cc3a-aafd04704081"
      },
      "execution_count": null,
      "outputs": [
        {
          "output_type": "execute_result",
          "data": {
            "text/plain": [
              "array([2, 4, 6, 8])"
            ]
          },
          "metadata": {},
          "execution_count": 27
        }
      ]
    },
    {
      "cell_type": "markdown",
      "source": [
        "<h3 id=\"list\">Asignar Valor con Listas</h3>\n"
      ],
      "metadata": {
        "id": "1IoZkhPqgZhf"
      }
    },
    {
      "cell_type": "markdown",
      "source": [
        "De manera similar, podemos usar una lista para seleccionar más de un índice específico.\n",
        "La lista `select` contiene varios valores:\n"
      ],
      "metadata": {
        "id": "ejqZcSSOgZhf"
      }
    },
    {
      "cell_type": "code",
      "source": [
        "# Creamos los índices de la lista\n",
        "\n",
        "select = [0, 2, 3, 4]\n",
        "select"
      ],
      "metadata": {
        "id": "ALIkeYLIgZhf",
        "colab": {
          "base_uri": "https://localhost:8080/"
        },
        "outputId": "adec28e6-ddce-4ec8-edb2-e29023bff0f8"
      },
      "execution_count": null,
      "outputs": [
        {
          "output_type": "execute_result",
          "data": {
            "text/plain": [
              "[0, 2, 3, 4]"
            ]
          },
          "metadata": {},
          "execution_count": 28
        }
      ]
    },
    {
      "cell_type": "markdown",
      "source": [
        "Podemos usar la lista como argumento entre paréntesis. El resultado son los elementos correspondientes a los índices concretos:\n"
      ],
      "metadata": {
        "id": "Z4PKYd1tgZhf"
      }
    },
    {
      "cell_type": "code",
      "source": [
        "c"
      ],
      "metadata": {
        "colab": {
          "base_uri": "https://localhost:8080/"
        },
        "id": "j6Ja1Kg7KAUB",
        "outputId": "0ef181fc-0608-4da6-a3f2-e2e8cee336d8"
      },
      "execution_count": null,
      "outputs": [
        {
          "output_type": "execute_result",
          "data": {
            "text/plain": [
              "array([100,   1,   2, 300, 400])"
            ]
          },
          "metadata": {},
          "execution_count": 30
        }
      ]
    },
    {
      "cell_type": "code",
      "source": [
        "# Usamos la lista para seleccionar elementos\n",
        "\n",
        "d = c[select]\n",
        "d"
      ],
      "metadata": {
        "id": "LneqcJ8ZgZhf",
        "colab": {
          "base_uri": "https://localhost:8080/"
        },
        "outputId": "54c72c62-f8a0-488b-e0b7-ae103d51023e"
      },
      "execution_count": null,
      "outputs": [
        {
          "output_type": "execute_result",
          "data": {
            "text/plain": [
              "array([100,   2, 300, 400])"
            ]
          },
          "metadata": {},
          "execution_count": 31
        }
      ]
    },
    {
      "cell_type": "markdown",
      "source": [
        "Podemos asignar a los elementos especificados un nuevo valor. Por ejemplo, podemos asignar los valores a 100 000 de la siguiente manera:\n"
      ],
      "metadata": {
        "id": "FHpHcI4ugZhf"
      }
    },
    {
      "cell_type": "code",
      "source": [
        "# Asignamos a los elementos especificados un nuevo valor\n",
        "\n",
        "c[select] = 100000\n",
        "c"
      ],
      "metadata": {
        "id": "Alr5_RkxgZhg",
        "colab": {
          "base_uri": "https://localhost:8080/"
        },
        "outputId": "072373a4-8f28-4e51-b4c2-5c1183b9fbe9"
      },
      "execution_count": null,
      "outputs": [
        {
          "output_type": "execute_result",
          "data": {
            "text/plain": [
              "array([100000,      1, 100000, 100000, 100000])"
            ]
          },
          "metadata": {},
          "execution_count": 32
        }
      ]
    },
    {
      "cell_type": "code",
      "source": [
        "d[3]=-999"
      ],
      "metadata": {
        "id": "kC08jnUUKHSY"
      },
      "execution_count": null,
      "outputs": []
    },
    {
      "cell_type": "code",
      "source": [
        "d"
      ],
      "metadata": {
        "colab": {
          "base_uri": "https://localhost:8080/"
        },
        "id": "vDVkH7jRKNxE",
        "outputId": "7b9bd0f9-bb03-427c-9b5d-f3e8fbd40db7"
      },
      "execution_count": null,
      "outputs": [
        {
          "output_type": "execute_result",
          "data": {
            "text/plain": [
              "array([ 100,    2,  300, -999])"
            ]
          },
          "metadata": {},
          "execution_count": 34
        }
      ]
    },
    {
      "cell_type": "code",
      "source": [
        "c"
      ],
      "metadata": {
        "colab": {
          "base_uri": "https://localhost:8080/"
        },
        "id": "naKGCPHTKNn0",
        "outputId": "a463834e-1f97-4217-d1a4-92320f020b22"
      },
      "execution_count": null,
      "outputs": [
        {
          "output_type": "execute_result",
          "data": {
            "text/plain": [
              "array([100000,      1, 100000, 100000, 100000])"
            ]
          },
          "metadata": {},
          "execution_count": 35
        }
      ]
    },
    {
      "cell_type": "markdown",
      "source": [
        "<h3 id=\"other\">Otros Atributos</h3>\n"
      ],
      "metadata": {
        "id": "_j4fNBhAgZhg"
      }
    },
    {
      "cell_type": "markdown",
      "source": [
        "Vamos a revisar algunos atributos básicas de los arrays usando el array <code>a</code>:\n"
      ],
      "metadata": {
        "id": "WrF2-dhagZhg"
      }
    },
    {
      "cell_type": "code",
      "source": [
        "# Creamos un array numpy\n",
        "\n",
        "a = np.array([0, 1, 2, 3, 4])\n",
        "a"
      ],
      "metadata": {
        "id": "DxtnQwdagZhg",
        "colab": {
          "base_uri": "https://localhost:8080/"
        },
        "outputId": "45ec0a36-c0bc-4629-f870-3f9f7eee3065"
      },
      "execution_count": null,
      "outputs": [
        {
          "output_type": "execute_result",
          "data": {
            "text/plain": [
              "array([0, 1, 2, 3, 4])"
            ]
          },
          "metadata": {},
          "execution_count": 36
        }
      ]
    },
    {
      "cell_type": "markdown",
      "source": [
        "El atributo <code>size</code> es el número de elementos en el array:\n"
      ],
      "metadata": {
        "id": "uA-jeT2EgZhh"
      }
    },
    {
      "cell_type": "code",
      "source": [
        "# Obtenemos el tamaño del array numpy\n",
        "\n",
        "a.size"
      ],
      "metadata": {
        "id": "FMgbRhqBgZhh",
        "colab": {
          "base_uri": "https://localhost:8080/"
        },
        "outputId": "668a0b38-1143-4ca8-8e52-750f87d1e153"
      },
      "execution_count": null,
      "outputs": [
        {
          "output_type": "execute_result",
          "data": {
            "text/plain": [
              "5"
            ]
          },
          "metadata": {},
          "execution_count": 37
        }
      ]
    },
    {
      "cell_type": "markdown",
      "source": [
        "Los siguientes dos atributos tendrán más sentido cuando lleguemos a dimensiones más altas, pero repasémoslos. El atributo <code>ndim</code> representa el número de dimensiones del array o el rango del array. En este caso, uno:\n"
      ],
      "metadata": {
        "id": "-StOXNqugZhh"
      }
    },
    {
      "cell_type": "code",
      "source": [
        "# Obtenemos el número de dimensiones del array numpy\n",
        "\n",
        "a.ndim"
      ],
      "metadata": {
        "id": "8ga08ujRgZhi",
        "colab": {
          "base_uri": "https://localhost:8080/"
        },
        "outputId": "1b756c4d-c99d-4660-feb5-cead8ccdfde2"
      },
      "execution_count": null,
      "outputs": [
        {
          "output_type": "execute_result",
          "data": {
            "text/plain": [
              "1"
            ]
          },
          "metadata": {},
          "execution_count": 38
        }
      ]
    },
    {
      "cell_type": "markdown",
      "source": [
        "El atributo <code>shape</code> es una tupla de enteros que indica el tamaño del array en cada dimensión:\n"
      ],
      "metadata": {
        "id": "iJbRC11ogZhi"
      }
    },
    {
      "cell_type": "code",
      "source": [
        "# Obtenemos la forma o el tamaño del array numpy\n",
        "\n",
        "a.shape"
      ],
      "metadata": {
        "id": "1GMWK_ATgZhi",
        "colab": {
          "base_uri": "https://localhost:8080/"
        },
        "outputId": "e54fa696-1527-4be2-8188-e61428f67be2"
      },
      "execution_count": null,
      "outputs": [
        {
          "output_type": "execute_result",
          "data": {
            "text/plain": [
              "(5,)"
            ]
          },
          "metadata": {},
          "execution_count": 39
        }
      ]
    },
    {
      "cell_type": "markdown",
      "source": [
        "### Inténtalo tú mismo\n",
        "\n",
        "Descubre el tamaño, la dimensión y la forma del array dado **b**\n"
      ],
      "metadata": {
        "id": "VlgQn2ZngZhi"
      }
    },
    {
      "cell_type": "code",
      "source": [
        "b = np.array([[10, 20, 30, 35 ],[40, 50, 60, 70]])\n",
        "\n",
        "# Escriba aquí su solución\n",
        "b.size"
      ],
      "metadata": {
        "id": "geMCOY0ZgZhi",
        "colab": {
          "base_uri": "https://localhost:8080/"
        },
        "outputId": "e6fc0022-404a-429f-f2f9-d0d1d7630e0d"
      },
      "execution_count": null,
      "outputs": [
        {
          "output_type": "execute_result",
          "data": {
            "text/plain": [
              "8"
            ]
          },
          "metadata": {},
          "execution_count": 45
        }
      ]
    },
    {
      "cell_type": "code",
      "source": [
        "b.ndim"
      ],
      "metadata": {
        "colab": {
          "base_uri": "https://localhost:8080/"
        },
        "id": "odpEevThKZVt",
        "outputId": "d000539d-94dd-41ec-ce07-6398f7b60ba5"
      },
      "execution_count": null,
      "outputs": [
        {
          "output_type": "execute_result",
          "data": {
            "text/plain": [
              "2"
            ]
          },
          "metadata": {},
          "execution_count": 46
        }
      ]
    },
    {
      "cell_type": "code",
      "source": [
        "b.shape"
      ],
      "metadata": {
        "colab": {
          "base_uri": "https://localhost:8080/"
        },
        "id": "IOkNk5sOKcdx",
        "outputId": "657b15fe-5b21-452a-c42c-8351c15c4d53"
      },
      "execution_count": null,
      "outputs": [
        {
          "output_type": "execute_result",
          "data": {
            "text/plain": [
              "(2, 4)"
            ]
          },
          "metadata": {},
          "execution_count": 47
        }
      ]
    },
    {
      "cell_type": "markdown",
      "source": [
        "### Funciones Estadísticas de Numpy\n"
      ],
      "metadata": {
        "id": "Zz4x_rD9gZhj"
      }
    },
    {
      "cell_type": "code",
      "source": [
        "# Creamos un array numpy\n",
        "\n",
        "a = np.array([1, -1, 1, -1])"
      ],
      "metadata": {
        "id": "Lsm8_O2ZgZhj"
      },
      "execution_count": null,
      "outputs": []
    },
    {
      "cell_type": "code",
      "source": [
        "# Obtenemos la media del array numpy\n",
        "\n",
        "mean = a.mean()\n",
        "mean"
      ],
      "metadata": {
        "id": "NOdpzmpMgZhj",
        "colab": {
          "base_uri": "https://localhost:8080/"
        },
        "outputId": "337ddac6-6f04-4c1f-abcd-9f5baafeec10"
      },
      "execution_count": null,
      "outputs": [
        {
          "output_type": "execute_result",
          "data": {
            "text/plain": [
              "0.0"
            ]
          },
          "metadata": {},
          "execution_count": 49
        }
      ]
    },
    {
      "cell_type": "code",
      "source": [
        "# Obtenemos la desviación estándar del array numpy\n",
        "\n",
        "standard_deviation=a.std()\n",
        "standard_deviation"
      ],
      "metadata": {
        "id": "3Rjw66bVgZhj",
        "colab": {
          "base_uri": "https://localhost:8080/"
        },
        "outputId": "22f1b234-747e-4b52-84a6-c2acf51596b6"
      },
      "execution_count": null,
      "outputs": [
        {
          "output_type": "execute_result",
          "data": {
            "text/plain": [
              "1.0"
            ]
          },
          "metadata": {},
          "execution_count": 50
        }
      ]
    },
    {
      "cell_type": "code",
      "source": [
        "# Creamos un array numpy\n",
        "\n",
        "b = np.array([-1, 2, 3, 4, 5])\n",
        "b"
      ],
      "metadata": {
        "id": "ZfOkdT74gZhj",
        "colab": {
          "base_uri": "https://localhost:8080/"
        },
        "outputId": "34572889-a340-4662-acd8-5f06fddcf4a4"
      },
      "execution_count": null,
      "outputs": [
        {
          "output_type": "execute_result",
          "data": {
            "text/plain": [
              "array([-1,  2,  3,  4,  5])"
            ]
          },
          "metadata": {},
          "execution_count": 51
        }
      ]
    },
    {
      "cell_type": "code",
      "source": [
        "# Obtenemos el valor más grande en el array numpy\n",
        "\n",
        "max_b = b.max()\n",
        "max_b"
      ],
      "metadata": {
        "id": "4gM6JGW1gZhk",
        "colab": {
          "base_uri": "https://localhost:8080/"
        },
        "outputId": "0b8e6f9d-086c-4eaf-b1db-b44f49a123a5"
      },
      "execution_count": null,
      "outputs": [
        {
          "output_type": "execute_result",
          "data": {
            "text/plain": [
              "5"
            ]
          },
          "metadata": {},
          "execution_count": 52
        }
      ]
    },
    {
      "cell_type": "code",
      "source": [
        "# Obtenemos el valor más pequeño en el array numpy\n",
        "\n",
        "min_b = b.min()\n",
        "min_b"
      ],
      "metadata": {
        "id": "W4s9KEk1gZhk",
        "colab": {
          "base_uri": "https://localhost:8080/"
        },
        "outputId": "72224975-138c-4d86-e737-0b50d790fce9"
      },
      "execution_count": null,
      "outputs": [
        {
          "output_type": "execute_result",
          "data": {
            "text/plain": [
              "-1"
            ]
          },
          "metadata": {},
          "execution_count": 53
        }
      ]
    },
    {
      "cell_type": "markdown",
      "source": [
        "### Inténtalo tú mismo\n",
        "\n",
        "Descubre la suma del valor máximo y mínimo en el array numpy dado.\n"
      ],
      "metadata": {
        "id": "6baE8pJegZhk"
      }
    },
    {
      "cell_type": "markdown",
      "source": [
        "<hr>\n"
      ],
      "metadata": {
        "id": "gedEiXJAgZhk"
      }
    },
    {
      "cell_type": "code",
      "source": [
        "c = np.array([-10, 201, 43, 94, 502])\n",
        "\n",
        "# Escriba aquí su solución\n",
        "c.max()+c.min()"
      ],
      "metadata": {
        "id": "wHNQhuaagZhk",
        "colab": {
          "base_uri": "https://localhost:8080/"
        },
        "outputId": "dacdc127-97b1-4321-cd9d-5c1f491c8d61"
      },
      "execution_count": null,
      "outputs": [
        {
          "output_type": "execute_result",
          "data": {
            "text/plain": [
              "492"
            ]
          },
          "metadata": {},
          "execution_count": 55
        }
      ]
    },
    {
      "cell_type": "markdown",
      "source": [
        "<h2 id=\"op\">Operaciones con Array Numpy</h2>\n",
        "\n",
        "Podríamos usar operadores aritméticos directamente entre arrays NumPy\n"
      ],
      "metadata": {
        "id": "8wNGAG-TgZhl"
      }
    },
    {
      "cell_type": "markdown",
      "source": [
        "<h3 id=\"add\">Suma de Arrays</h3>\n"
      ],
      "metadata": {
        "id": "q4kQoEG_gZhl"
      }
    },
    {
      "cell_type": "markdown",
      "source": [
        "Observamos el array numpy <code>u</code>:\n"
      ],
      "metadata": {
        "id": "l6h3HjXwgZhl"
      }
    },
    {
      "cell_type": "code",
      "source": [
        "u = np.array([1, 0])\n",
        "u"
      ],
      "metadata": {
        "id": "YleT4M-XgZhl",
        "colab": {
          "base_uri": "https://localhost:8080/"
        },
        "outputId": "f50bd340-ca2e-4ddd-faf1-70fb161a4626"
      },
      "execution_count": null,
      "outputs": [
        {
          "output_type": "execute_result",
          "data": {
            "text/plain": [
              "array([1, 0])"
            ]
          },
          "metadata": {},
          "execution_count": 56
        }
      ]
    },
    {
      "cell_type": "markdown",
      "source": [
        "Observamos el array numpy <code>v</code>:\n"
      ],
      "metadata": {
        "id": "agKUOWMugZhl"
      }
    },
    {
      "cell_type": "code",
      "source": [
        "v = np.array([0, 1])\n",
        "v"
      ],
      "metadata": {
        "id": "PDbax1pMgZhm",
        "colab": {
          "base_uri": "https://localhost:8080/"
        },
        "outputId": "bbe8fbcf-7603-464a-a24c-7352f3b2a5ee"
      },
      "execution_count": null,
      "outputs": [
        {
          "output_type": "execute_result",
          "data": {
            "text/plain": [
              "array([0, 1])"
            ]
          },
          "metadata": {},
          "execution_count": 57
        }
      ]
    },
    {
      "cell_type": "markdown",
      "source": [
        "Podemos sumar los dos arrays y asignarlas a z:\n"
      ],
      "metadata": {
        "id": "-v5xwjuHgZhm"
      }
    },
    {
      "cell_type": "code",
      "source": [
        "# Suma de Arrays Numpy\n",
        "\n",
        "z = np.add(u, v)\n",
        "z"
      ],
      "metadata": {
        "id": "MDJ7dseUgZhm",
        "colab": {
          "base_uri": "https://localhost:8080/"
        },
        "outputId": "7f4b7e96-60e6-4d0f-efcb-9ea5c32e2ef3"
      },
      "execution_count": null,
      "outputs": [
        {
          "output_type": "execute_result",
          "data": {
            "text/plain": [
              "array([1, 1])"
            ]
          },
          "metadata": {},
          "execution_count": 58
        }
      ]
    },
    {
      "cell_type": "markdown",
      "source": [
        "La operación es equivalente a la suma de vectores:\n"
      ],
      "metadata": {
        "id": "b0ItYGLzgZhm"
      }
    },
    {
      "cell_type": "code",
      "source": [
        "# Trazando Funciones\n",
        "\n",
        "\n",
        "import time \n",
        "import sys\n",
        "import numpy as np \n",
        "\n",
        "import matplotlib.pyplot as plt\n",
        "%matplotlib inline  \n",
        "\n",
        "def Plotvec1(u, z, v):\n",
        "    \n",
        "    ax = plt.axes() # generamos los ejes de la ventana completa\n",
        "    ax.arrow(0, 0, *u, head_width=0.05, color='r', head_length=0.1)# Añadimos una flecha a los ejes U con un ancho de punta de flecha de 0,05, color rojo y una longitud de punta de flecha de 0,1\n",
        "    plt.text(*(u + 0.1), 'u')#Añadimos el texto u a los Ejes\n",
        "    \n",
        "    ax.arrow(0, 0, *v, head_width=0.05, color='b', head_length=0.1)# Añadimos una flecha a los ejes V con un ancho de punta de flecha de 0,05, color azul y una longitud de punta de flecha de 0,1\n",
        "    plt.text(*(v + 0.1), 'v')#Añadimos el texto v a los Ejes\n",
        "    \n",
        "    ax.arrow(0, 0, *z, head_width=0.05, head_length=0.1)# Añadimos una flecha a los ejes Z con un ancho de punta de flecha de 0,05 y una longitud de punta de flecha de 0,1\n",
        "    plt.text(*(z + 0.1), 'z')#Añadimos el texto z a los Ejes\n",
        "    plt.ylim(-2, 2)#Establecemos el ylim en bottom(-2), top(2)\n",
        "    plt.xlim(-2, 2)#Establecemos el xlim en left(-2), right(2)\n",
        "\n",
        "  \n"
      ],
      "metadata": {
        "id": "tXx37geagZhm"
      },
      "execution_count": null,
      "outputs": []
    },
    {
      "cell_type": "code",
      "source": [
        "# Trazamos arrays numpy\n",
        "\n",
        "Plotvec1(u, z, v)"
      ],
      "metadata": {
        "id": "mkYqeXpXgZhn",
        "colab": {
          "base_uri": "https://localhost:8080/",
          "height": 269
        },
        "outputId": "28c6fb0e-195e-4fe8-f461-df63ddb8a6bf"
      },
      "execution_count": null,
      "outputs": [
        {
          "output_type": "display_data",
          "data": {
            "text/plain": [
              "<Figure size 432x288 with 1 Axes>"
            ],
            "image/png": "[encoded data removed]"
          },
          "metadata": {
            "needs_background": "light"
          }
        }
      ]
    },
    {
      "cell_type": "markdown",
      "source": [
        "### Inténtalo tú mismo\n",
        "\n",
        "Realiza la suma de los array numpy dados arr1 y arr2:\n"
      ],
      "metadata": {
        "id": "khZIizD1gZhn"
      }
    },
    {
      "cell_type": "code",
      "source": [
        "arr1 = np.array([10, 11, 12, 13, 14, 15])\n",
        "arr2 = np.array([20, 21, 22, 23, 24, 25])\n",
        "\n",
        "# Escriba aquí su solución\n",
        "arr1+arr2"
      ],
      "metadata": {
        "id": "JF9FmJ2CgZhn",
        "colab": {
          "base_uri": "https://localhost:8080/"
        },
        "outputId": "c42ecc34-7fcb-4936-e5dd-766c1616d8f9"
      },
      "execution_count": null,
      "outputs": [
        {
          "output_type": "execute_result",
          "data": {
            "text/plain": [
              "array([30, 32, 34, 36, 38, 40])"
            ]
          },
          "metadata": {},
          "execution_count": 62
        }
      ]
    },
    {
      "cell_type": "markdown",
      "source": [
        "### Resta de Arrays\n"
      ],
      "metadata": {
        "id": "9k1RKfeAgZho"
      }
    },
    {
      "cell_type": "markdown",
      "source": [
        "Observamos el array numpy a:\n"
      ],
      "metadata": {
        "id": "wsGYKjgegZhp"
      }
    },
    {
      "cell_type": "code",
      "source": [
        "a = np.array([10, 20, 30])\n",
        "a"
      ],
      "metadata": {
        "id": "BRQ3Nle6gZhq",
        "colab": {
          "base_uri": "https://localhost:8080/"
        },
        "outputId": "d493647a-7e15-4db7-ccf3-0e79125f11f5"
      },
      "execution_count": null,
      "outputs": [
        {
          "output_type": "execute_result",
          "data": {
            "text/plain": [
              "array([10, 20, 30])"
            ]
          },
          "metadata": {},
          "execution_count": 63
        }
      ]
    },
    {
      "cell_type": "markdown",
      "source": [
        "Observamos el array numpy b:\n"
      ],
      "metadata": {
        "id": "MD5MGsTXgZhq"
      }
    },
    {
      "cell_type": "code",
      "source": [
        "b = np.array([5, 10, 15])\n",
        "b"
      ],
      "metadata": {
        "id": "tZwN-UjPgZhq",
        "colab": {
          "base_uri": "https://localhost:8080/"
        },
        "outputId": "54a307e1-07f1-462e-f72c-c06c8e98dcba"
      },
      "execution_count": null,
      "outputs": [
        {
          "output_type": "execute_result",
          "data": {
            "text/plain": [
              "array([ 5, 10, 15])"
            ]
          },
          "metadata": {},
          "execution_count": 64
        }
      ]
    },
    {
      "cell_type": "markdown",
      "source": [
        "Podemos restar los dos arrays y asignarlos a c:\n"
      ],
      "metadata": {
        "id": "TlsRg_E3gZhq"
      }
    },
    {
      "cell_type": "code",
      "source": [
        "c = np.subtract(a, b)\n",
        "\n",
        "print(c)"
      ],
      "metadata": {
        "id": "hOUSuBangZhq",
        "colab": {
          "base_uri": "https://localhost:8080/"
        },
        "outputId": "4e11324d-4377-4e4c-efc5-79cb7b87ad0c"
      },
      "execution_count": null,
      "outputs": [
        {
          "output_type": "stream",
          "name": "stdout",
          "text": [
            "[ 5 10 15]\n"
          ]
        }
      ]
    },
    {
      "cell_type": "markdown",
      "source": [
        "### Inténtalo tú mismo\n",
        "\n",
        "Realiza la resta de los array numpy dados arr1 y arr2:\n"
      ],
      "metadata": {
        "id": "UE_8S1tsgZhq"
      }
    },
    {
      "cell_type": "code",
      "source": [
        "arr1 = np.array([10, 20, 30, 40, 50, 60])\n",
        "arr2 = np.array([20, 21, 22, 23, 24, 25])\n",
        "\n",
        "# Escriba aquí su solución\n",
        "arr1-arr2"
      ],
      "metadata": {
        "id": "k6fKz9xSgZhr",
        "colab": {
          "base_uri": "https://localhost:8080/"
        },
        "outputId": "ddac188e-e187-4009-9425-b81566f04037"
      },
      "execution_count": null,
      "outputs": [
        {
          "output_type": "execute_result",
          "data": {
            "text/plain": [
              "array([-10,  -1,   8,  17,  26,  35])"
            ]
          },
          "metadata": {},
          "execution_count": 66
        }
      ]
    },
    {
      "cell_type": "markdown",
      "source": [
        "<h3 id=\"multi\">Multiplicación de Arrays</h3>\n"
      ],
      "metadata": {
        "id": "p_34FywagZhr"
      }
    },
    {
      "cell_type": "markdown",
      "source": [
        "Observamos el array numpy vectorial <code>y</code>:\n"
      ],
      "metadata": {
        "id": "NgiEn61EgZhr"
      }
    },
    {
      "cell_type": "code",
      "source": [
        "# Creamos un array numpy\n",
        "\n",
        "x = np.array([1, 2])\n",
        "x"
      ],
      "metadata": {
        "id": "kHWL98V-gZhr",
        "colab": {
          "base_uri": "https://localhost:8080/"
        },
        "outputId": "673cbf28-3e7e-42af-f737-16f2b4c7cfdd"
      },
      "execution_count": null,
      "outputs": [
        {
          "output_type": "execute_result",
          "data": {
            "text/plain": [
              "array([1, 2])"
            ]
          },
          "metadata": {},
          "execution_count": 67
        }
      ]
    },
    {
      "cell_type": "code",
      "source": [
        "# Creamos un array numpy\n",
        "\n",
        "y = np.array([2, 1])\n",
        "y"
      ],
      "metadata": {
        "id": "SnHFA63bgZhr",
        "colab": {
          "base_uri": "https://localhost:8080/"
        },
        "outputId": "85c1d78b-d89a-4620-b286-61a2fb222fdd"
      },
      "execution_count": null,
      "outputs": [
        {
          "output_type": "execute_result",
          "data": {
            "text/plain": [
              "array([2, 1])"
            ]
          },
          "metadata": {},
          "execution_count": 68
        }
      ]
    },
    {
      "cell_type": "markdown",
      "source": [
        "Podemos multiplicar cada elemento de la matriz por 2:\n"
      ],
      "metadata": {
        "id": "7yhtMqpmgZhs"
      }
    },
    {
      "cell_type": "code",
      "source": [
        "# Multiplicación de Arrays Numpy\n",
        "\n",
        "z = np.multiply(x, y)\n",
        "z"
      ],
      "metadata": {
        "id": "RGyAO53IgZhs",
        "colab": {
          "base_uri": "https://localhost:8080/"
        },
        "outputId": "67c53089-2823-4b9f-c125-944b091d861a"
      },
      "execution_count": null,
      "outputs": [
        {
          "output_type": "execute_result",
          "data": {
            "text/plain": [
              "array([2, 2])"
            ]
          },
          "metadata": {},
          "execution_count": 69
        }
      ]
    },
    {
      "cell_type": "markdown",
      "source": [
        "Esto es equivalente a multiplicar un vector por un scalar:\n"
      ],
      "metadata": {
        "id": "Fz9eg1FHgZhs"
      }
    },
    {
      "cell_type": "markdown",
      "source": [
        "### Inténtalo tú mismo\n",
        "\n",
        "Realiza la multiplicación de los arrays numpy dados arr1 y arr2:\n"
      ],
      "metadata": {
        "id": "_4PME-tGgZhs"
      }
    },
    {
      "cell_type": "code",
      "source": [
        "arr1 = np.array([10, 20, 30, 40, 50, 60])\n",
        "arr2 = np.array([2, 1, 2, 3, 4, 5])\n",
        "\n",
        "# Escriba aquí su solución\n",
        "arr1*arr2"
      ],
      "metadata": {
        "id": "ChqNnbKzgZhs",
        "colab": {
          "base_uri": "https://localhost:8080/"
        },
        "outputId": "1581dd5c-3c16-4309-d9f0-4e79f605254b"
      },
      "execution_count": null,
      "outputs": [
        {
          "output_type": "execute_result",
          "data": {
            "text/plain": [
              "array([ 20,  20,  60, 120, 200, 300])"
            ]
          },
          "metadata": {},
          "execution_count": 70
        }
      ]
    },
    {
      "cell_type": "markdown",
      "source": [
        "### División de Arrays\n"
      ],
      "metadata": {
        "id": "bYl1PqpbgZht"
      }
    },
    {
      "cell_type": "markdown",
      "source": [
        "Observamos el array numpy vectorial a:\n"
      ],
      "metadata": {
        "id": "opnuIwY5gZht"
      }
    },
    {
      "cell_type": "code",
      "source": [
        "a = np.array([10, 20, 30])\n",
        "a"
      ],
      "metadata": {
        "id": "hlmGNSsLgZht",
        "colab": {
          "base_uri": "https://localhost:8080/"
        },
        "outputId": "d911e2c6-463e-4de2-d8fa-9f2d06d2f6cd"
      },
      "execution_count": null,
      "outputs": [
        {
          "output_type": "execute_result",
          "data": {
            "text/plain": [
              "array([10, 20, 30])"
            ]
          },
          "metadata": {},
          "execution_count": 71
        }
      ]
    },
    {
      "cell_type": "markdown",
      "source": [
        "Observamos el array numpy vectorial b:\n"
      ],
      "metadata": {
        "id": "zDT_qII7gZht"
      }
    },
    {
      "cell_type": "code",
      "source": [
        "b = np.array([2, 10, 5])\n",
        "b"
      ],
      "metadata": {
        "id": "M3x1x5YTgZht",
        "colab": {
          "base_uri": "https://localhost:8080/"
        },
        "outputId": "2ce5fcea-54fd-4f6c-a793-e948678811f4"
      },
      "execution_count": null,
      "outputs": [
        {
          "output_type": "execute_result",
          "data": {
            "text/plain": [
              "array([ 2, 10,  5])"
            ]
          },
          "metadata": {},
          "execution_count": 72
        }
      ]
    },
    {
      "cell_type": "markdown",
      "source": [
        "Podemos dividir los dos arrays y asignarlos a c:\n"
      ],
      "metadata": {
        "id": "VGanfA7tgZhu"
      }
    },
    {
      "cell_type": "code",
      "source": [
        "c = np.divide(a, b)\n",
        "c"
      ],
      "metadata": {
        "id": "5D543FHxgZhu",
        "colab": {
          "base_uri": "https://localhost:8080/"
        },
        "outputId": "ca1d60e1-15b9-4297-b0ad-81d1696360bb"
      },
      "execution_count": null,
      "outputs": [
        {
          "output_type": "execute_result",
          "data": {
            "text/plain": [
              "array([5., 2., 6.])"
            ]
          },
          "metadata": {},
          "execution_count": 73
        }
      ]
    },
    {
      "cell_type": "markdown",
      "source": [
        "### Inténtalo tú mismo\n",
        "\n",
        "Realiza la división de los arrays numpy dados arr1 y arr2:\n"
      ],
      "metadata": {
        "id": "79foH2hcgZhu"
      }
    },
    {
      "cell_type": "code",
      "source": [
        "arr1 = np.array([10, 20, 30, 40, 50, 60])\n",
        "arr2 = np.array([3, 5, 10, 8, 2, 33])\n",
        "\n",
        "# Escriba aquí su solución\n",
        "arr1/arr2"
      ],
      "metadata": {
        "id": "7T9LcDGFgZhu",
        "colab": {
          "base_uri": "https://localhost:8080/"
        },
        "outputId": "ab447295-cb23-41a5-f2aa-81b704d268cf"
      },
      "execution_count": null,
      "outputs": [
        {
          "output_type": "execute_result",
          "data": {
            "text/plain": [
              "array([ 3.33333333,  4.        ,  3.        ,  5.        , 25.        ,\n",
              "        1.81818182])"
            ]
          },
          "metadata": {},
          "execution_count": 74
        }
      ]
    },
    {
      "cell_type": "markdown",
      "source": [
        "<h3 id=\"dot\">Producto Escalar</h3>\n"
      ],
      "metadata": {
        "id": "FacPh3iYgZhv"
      }
    },
    {
      "cell_type": "markdown",
      "source": [
        "El producto escalar de los dos array numpy <code>u</code> y <code>v</code> viene dado por:\n"
      ],
      "metadata": {
        "id": "F5eCyTLKgZhv"
      }
    },
    {
      "cell_type": "code",
      "source": [
        "X = np.array([1, 2])\n",
        "Y = np.array([3, 2])"
      ],
      "metadata": {
        "id": "5aMAGQCjgZhv"
      },
      "execution_count": null,
      "outputs": []
    },
    {
      "cell_type": "code",
      "source": [
        "# Calculamos el producto escalar\n",
        "\n",
        "np.dot(X, Y)"
      ],
      "metadata": {
        "id": "n2qOFGvfgZhv",
        "colab": {
          "base_uri": "https://localhost:8080/"
        },
        "outputId": "1bea383c-458c-4e4d-a65a-59fcab172b57"
      },
      "execution_count": null,
      "outputs": [
        {
          "output_type": "execute_result",
          "data": {
            "text/plain": [
              "7"
            ]
          },
          "metadata": {},
          "execution_count": 76
        }
      ]
    },
    {
      "cell_type": "code",
      "source": [
        "#Elementos de X\n",
        "print(X[0])\n",
        "print(X[1])"
      ],
      "metadata": {
        "id": "rBaugzCfgZhv",
        "colab": {
          "base_uri": "https://localhost:8080/"
        },
        "outputId": "0c3a9bdb-1a29-421a-9fc5-3442239f8ce7"
      },
      "execution_count": null,
      "outputs": [
        {
          "output_type": "stream",
          "name": "stdout",
          "text": [
            "1\n",
            "2\n"
          ]
        }
      ]
    },
    {
      "cell_type": "code",
      "source": [
        "#Elementos de Y\n",
        "print(Y[0])\n",
        "print(Y[1])"
      ],
      "metadata": {
        "id": "9DunLhOBgZhv",
        "colab": {
          "base_uri": "https://localhost:8080/"
        },
        "outputId": "8a7fc5df-e1cd-4bfe-979e-3f4a92612b53"
      },
      "execution_count": null,
      "outputs": [
        {
          "output_type": "stream",
          "name": "stdout",
          "text": [
            "3\n",
            "2\n"
          ]
        }
      ]
    },
    {
      "cell_type": "markdown",
      "source": [
        "Estamos realizando el producto escalar que se muestra a continuación\n"
      ],
      "metadata": {
        "id": "uCXW5E4ngZhv"
      }
    },
    {
      "cell_type": "markdown",
      "source": [
        "<img src =\"https://cf-courses-data.s3.us.cloud-object-storage.appdomain.cloud/IBMDeveloperSkillsNetwork-PY0101EN-SkillsNetwork/labs/Module%205/images/dot1.png\"/>\n"
      ],
      "metadata": {
        "id": "dK37q9FWgZhw"
      }
    },
    {
      "cell_type": "markdown",
      "source": [
        "### Inténtalo tú mismo\n",
        "\n",
        "Realiza el producto escalar de los array numpy dados ar1 y ar2:\n"
      ],
      "metadata": {
        "id": "zMazZ_6hgZhw"
      }
    },
    {
      "cell_type": "code",
      "source": [
        "arr1 = np.array([3, 5])\n",
        "arr2 = np.array([2, 4])\n",
        "\n",
        "# Escriba aquí su solución\n",
        "arr1@arr2"
      ],
      "metadata": {
        "id": "c9fcQFaLgZhw",
        "colab": {
          "base_uri": "https://localhost:8080/"
        },
        "outputId": "d771f949-7a74-4ce5-9ac2-7cddb8095982"
      },
      "execution_count": null,
      "outputs": [
        {
          "output_type": "execute_result",
          "data": {
            "text/plain": [
              "26"
            ]
          },
          "metadata": {},
          "execution_count": 79
        }
      ]
    },
    {
      "cell_type": "code",
      "source": [
        "arr1.dot(arr2)"
      ],
      "metadata": {
        "colab": {
          "base_uri": "https://localhost:8080/"
        },
        "id": "ph_VH6SLMMhU",
        "outputId": "25198388-8499-4f9c-d0f6-39d6306c0674"
      },
      "execution_count": null,
      "outputs": [
        {
          "output_type": "execute_result",
          "data": {
            "text/plain": [
              "26"
            ]
          },
          "metadata": {},
          "execution_count": 80
        }
      ]
    },
    {
      "cell_type": "markdown",
      "source": [
        "<h3 id=\"cons\">Añadir una Constante a un Array Numpy</h3>\n"
      ],
      "metadata": {
        "id": "1t5gzCwEgZhw"
      }
    },
    {
      "cell_type": "markdown",
      "source": [
        "Observamos el siguiente array:\n"
      ],
      "metadata": {
        "id": "QUVvkV_igZhw"
      }
    },
    {
      "cell_type": "code",
      "source": [
        "# Creamos una constante en un array numpy\n",
        "\n",
        "u = np.array([1, 2, 3, -1]) \n",
        "u"
      ],
      "metadata": {
        "id": "JqIdGisQgZhw",
        "colab": {
          "base_uri": "https://localhost:8080/"
        },
        "outputId": "1d96adc0-9275-4397-d1c2-6fb6f5aef347"
      },
      "execution_count": null,
      "outputs": [
        {
          "output_type": "execute_result",
          "data": {
            "text/plain": [
              "array([ 1,  2,  3, -1])"
            ]
          },
          "metadata": {},
          "execution_count": 81
        }
      ]
    },
    {
      "cell_type": "markdown",
      "source": [
        "Añadimos la constante 1 a cada elemento del array:\n"
      ],
      "metadata": {
        "id": "YWijFoZCgZhx"
      }
    },
    {
      "cell_type": "code",
      "source": [
        "# Añadimos la constante al array\n",
        "\n",
        "u + 1"
      ],
      "metadata": {
        "id": "62LiQbU2gZhx",
        "colab": {
          "base_uri": "https://localhost:8080/"
        },
        "outputId": "8568628c-2435-4c61-c226-7650860bbb75"
      },
      "execution_count": null,
      "outputs": [
        {
          "output_type": "execute_result",
          "data": {
            "text/plain": [
              "array([2, 3, 4, 0])"
            ]
          },
          "metadata": {},
          "execution_count": 82
        }
      ]
    },
    {
      "cell_type": "markdown",
      "source": [
        "El proceso está resumnido en la siguiente animación:\n"
      ],
      "metadata": {
        "id": "i6yfUn61gZhx"
      }
    },
    {
      "cell_type": "markdown",
      "source": [
        "<img src=\"https://cf-courses-data.s3.us.cloud-object-storage.appdomain.cloud/IBMDeveloperSkillsNetwork-PY0101EN-SkillsNetwork/labs/Module%205/images/NumOneAdd.gif\" width=\"500\" />\n"
      ],
      "metadata": {
        "id": "S4ib8_I1gZhx"
      }
    },
    {
      "cell_type": "markdown",
      "source": [
        "### Inténtalo tú mismo\n",
        "\n",
        "Añade la Constante 5 al array numpy dado ar:\n"
      ],
      "metadata": {
        "id": "f38YqrfVgZhx"
      }
    },
    {
      "cell_type": "code",
      "source": [
        "arr = np.array([1, 2, 3, -1]) \n",
        "\n",
        "# Escriba aquí su solución\n",
        "arr+5"
      ],
      "metadata": {
        "id": "ZWBswRTsgZhx",
        "colab": {
          "base_uri": "https://localhost:8080/"
        },
        "outputId": "638d33d4-98d9-4c53-fe31-2db050b04eac"
      },
      "execution_count": null,
      "outputs": [
        {
          "output_type": "execute_result",
          "data": {
            "text/plain": [
              "array([6, 7, 8, 4])"
            ]
          },
          "metadata": {},
          "execution_count": 83
        }
      ]
    },
    {
      "cell_type": "markdown",
      "source": [
        "<hr>\n"
      ],
      "metadata": {
        "id": "Kd3IpGcSgZhy"
      }
    },
    {
      "cell_type": "markdown",
      "source": [
        "<h2 id=\"math\">Funciones Matemáticas</h2>\n"
      ],
      "metadata": {
        "id": "1luBeVFngZhy"
      }
    },
    {
      "cell_type": "markdown",
      "source": [
        "Podemos acceder al valor de <code>pi</code> en numpy de la siguiente manera:\n"
      ],
      "metadata": {
        "id": "XlA9hBzdgZhy"
      }
    },
    {
      "cell_type": "code",
      "source": [
        "# El valor de pi\n",
        "\n",
        "np.pi"
      ],
      "metadata": {
        "id": "JO2HWIMDgZhy",
        "colab": {
          "base_uri": "https://localhost:8080/"
        },
        "outputId": "6f127196-378f-4e98-a49c-8c323b90c583"
      },
      "execution_count": null,
      "outputs": [
        {
          "output_type": "execute_result",
          "data": {
            "text/plain": [
              "3.141592653589793"
            ]
          },
          "metadata": {},
          "execution_count": 84
        }
      ]
    },
    {
      "cell_type": "markdown",
      "source": [
        "Podemos crear la siguiente matriz numpy en Radianes:\n"
      ],
      "metadata": {
        "id": "f_9K3FalgZhz"
      }
    },
    {
      "cell_type": "code",
      "source": [
        "# Creamos el array numpy en radianes\n",
        "\n",
        "x = np.array([0, np.pi/2 , np.pi])"
      ],
      "metadata": {
        "id": "p2-aPxXggZhz"
      },
      "execution_count": null,
      "outputs": []
    },
    {
      "cell_type": "markdown",
      "source": [
        "Podemos aplicar la función <code>sin</code> al array <code>x</code> y asignar los valores al array <code>y</code>; esto aplica la función seno a cada elemento del array:\n"
      ],
      "metadata": {
        "id": "Ps0wy4jAgZhz"
      }
    },
    {
      "cell_type": "code",
      "source": [
        "# Calculamos el seno de cada elemento\n",
        "\n",
        "y = np.sin(x)\n",
        "y"
      ],
      "metadata": {
        "id": "oOcZW4hLgZhz"
      },
      "execution_count": null,
      "outputs": []
    },
    {
      "cell_type": "code",
      "source": [
        "np.arange(4)"
      ],
      "metadata": {
        "colab": {
          "base_uri": "https://localhost:8080/"
        },
        "id": "Er2eN9qiMu8H",
        "outputId": "d5102e4e-298f-4acd-9c51-c6c7010ec93d"
      },
      "execution_count": null,
      "outputs": [
        {
          "output_type": "execute_result",
          "data": {
            "text/plain": [
              "array([0, 1, 2, 3])"
            ]
          },
          "metadata": {},
          "execution_count": 99
        }
      ]
    },
    {
      "cell_type": "code",
      "source": [
        "np.arange(4).shape"
      ],
      "metadata": {
        "colab": {
          "base_uri": "https://localhost:8080/"
        },
        "id": "_YiVP1acNrsG",
        "outputId": "d0fa18f7-eb13-4027-e275-8fade19258ef"
      },
      "execution_count": null,
      "outputs": [
        {
          "output_type": "execute_result",
          "data": {
            "text/plain": [
              "(4,)"
            ]
          },
          "metadata": {},
          "execution_count": 100
        }
      ]
    },
    {
      "cell_type": "code",
      "source": [
        "v=np.atleast_2d(np.arange(4))\n",
        "v"
      ],
      "metadata": {
        "colab": {
          "base_uri": "https://localhost:8080/"
        },
        "id": "AHmEFUeINKax",
        "outputId": "2a0bfc9b-86f8-4e7c-ca35-60efbafe58e6"
      },
      "execution_count": null,
      "outputs": [
        {
          "output_type": "execute_result",
          "data": {
            "text/plain": [
              "array([[0, 1, 2, 3]])"
            ]
          },
          "metadata": {},
          "execution_count": 94
        }
      ]
    },
    {
      "cell_type": "code",
      "source": [
        "v.shape"
      ],
      "metadata": {
        "colab": {
          "base_uri": "https://localhost:8080/"
        },
        "id": "5ucxp4_CNPiO",
        "outputId": "cac9f3bc-b869-4fec-fbd7-e9895b6c77ce"
      },
      "execution_count": null,
      "outputs": [
        {
          "output_type": "execute_result",
          "data": {
            "text/plain": [
              "(1, 4)"
            ]
          },
          "metadata": {},
          "execution_count": 95
        }
      ]
    },
    {
      "cell_type": "code",
      "source": [
        "w=v.T\n",
        "w"
      ],
      "metadata": {
        "colab": {
          "base_uri": "https://localhost:8080/"
        },
        "id": "M-RKP1fSNPlH",
        "outputId": "daaa5c21-bb44-4c95-b18b-79f27b408b71"
      },
      "execution_count": null,
      "outputs": [
        {
          "output_type": "execute_result",
          "data": {
            "text/plain": [
              "array([[0],\n",
              "       [1],\n",
              "       [2],\n",
              "       [3]])"
            ]
          },
          "metadata": {},
          "execution_count": 97
        }
      ]
    },
    {
      "cell_type": "code",
      "source": [
        "w.shape"
      ],
      "metadata": {
        "colab": {
          "base_uri": "https://localhost:8080/"
        },
        "id": "yjWkapYtNPnN",
        "outputId": "645c44ab-ce50-4098-aa03-aa6cf8cbb198"
      },
      "execution_count": null,
      "outputs": [
        {
          "output_type": "execute_result",
          "data": {
            "text/plain": [
              "(4, 1)"
            ]
          },
          "metadata": {},
          "execution_count": 98
        }
      ]
    },
    {
      "cell_type": "code",
      "source": [
        "m=np.arange(12).reshape((3,4))\n",
        "m"
      ],
      "metadata": {
        "colab": {
          "base_uri": "https://localhost:8080/"
        },
        "id": "bu7t-pBxNyVD",
        "outputId": "7e73cc05-986a-4319-a38b-74526a79d955"
      },
      "execution_count": null,
      "outputs": [
        {
          "output_type": "execute_result",
          "data": {
            "text/plain": [
              "array([[ 0,  1,  2,  3],\n",
              "       [ 4,  5,  6,  7],\n",
              "       [ 8,  9, 10, 11]])"
            ]
          },
          "metadata": {},
          "execution_count": 107
        }
      ]
    },
    {
      "cell_type": "code",
      "source": [
        "m@w"
      ],
      "metadata": {
        "colab": {
          "base_uri": "https://localhost:8080/"
        },
        "id": "Uw7QbY-pN4i8",
        "outputId": "b6363d38-1ea7-4fa0-b29d-a3011e9733e5"
      },
      "execution_count": null,
      "outputs": [
        {
          "output_type": "execute_result",
          "data": {
            "text/plain": [
              "array([[14],\n",
              "       [38],\n",
              "       [62]])"
            ]
          },
          "metadata": {},
          "execution_count": 111
        }
      ]
    },
    {
      "cell_type": "markdown",
      "source": [
        "<hr>\n"
      ],
      "metadata": {
        "id": "NgGltiY4gZh0"
      }
    },
    {
      "cell_type": "markdown",
      "source": [
        "<h2 id=\"lin\">Linspace</h2>\n"
      ],
      "metadata": {
        "id": "zuJB9640gZh0"
      }
    },
    {
      "cell_type": "markdown",
      "source": [
        "Una función útil para trazar funciones matemáticas es <code>linspace</code>. Linspace devuelve números espaciados uniformemente en un intervalo específico.\n",
        "\n",
        "**numpy.linspace(start, stop, num = valor entero)**\n",
        "\n",
        "start  :  principio del rango del intervalo\n",
        "\n",
        "stop   :  final del rango del intervalo\n",
        "\n",
        "num    :  Número de muestras a generar.\n"
      ],
      "metadata": {
        "id": "SMm6AK4WgZh0"
      }
    },
    {
      "cell_type": "code",
      "source": [
        "# Construimos un array numpy de [-2, 2] y 5 elementos\n",
        "\n",
        "np.linspace(-2, 2, num=5)"
      ],
      "metadata": {
        "id": "PqnTUvfSgZh0",
        "colab": {
          "base_uri": "https://localhost:8080/"
        },
        "outputId": "2a11dd08-0b85-41c2-c81e-e8f3bd658eec"
      },
      "execution_count": null,
      "outputs": [
        {
          "output_type": "execute_result",
          "data": {
            "text/plain": [
              "array([-2., -1.,  0.,  1.,  2.])"
            ]
          },
          "metadata": {},
          "execution_count": 112
        }
      ]
    },
    {
      "cell_type": "markdown",
      "source": [
        "Si cambiamos el parámetro <code>num</code> a 9, obtenemos 9 números espaciados uniformemente en el intervalo de -2 a 2:\n"
      ],
      "metadata": {
        "id": "mgfO7iKOgZh0"
      }
    },
    {
      "cell_type": "code",
      "source": [
        "# Construimos un array numpy de [-2, 2] y 9 elementos\n",
        "\n",
        "np.linspace(-2, 2, num=9)"
      ],
      "metadata": {
        "id": "V4vrwKEmgZh0",
        "colab": {
          "base_uri": "https://localhost:8080/"
        },
        "outputId": "023299c5-0218-412d-d55e-fe8b308f4617"
      },
      "execution_count": null,
      "outputs": [
        {
          "output_type": "execute_result",
          "data": {
            "text/plain": [
              "array([-2. , -1.5, -1. , -0.5,  0. ,  0.5,  1. ,  1.5,  2. ])"
            ]
          },
          "metadata": {},
          "execution_count": 113
        }
      ]
    },
    {
      "cell_type": "markdown",
      "source": [
        "Podemos usar la función <code>linspace</code> para generar 100 muestras espaciadas uniformemente desde el intervalo 0 a 2π:\n"
      ],
      "metadata": {
        "id": "TxOCMKS7gZh1"
      }
    },
    {
      "cell_type": "code",
      "source": [
        "# Construimos un array numpy de [0, 2π] y 100 elementos\n",
        "\n",
        "x = np.linspace(0, 2*np.pi, num=100)"
      ],
      "metadata": {
        "id": "3GSnFfktgZh1"
      },
      "execution_count": null,
      "outputs": []
    },
    {
      "cell_type": "markdown",
      "source": [
        "Podemos aplicar la función seno a cada elemento del array <code>x</code> y asignarla al array <code>y</code>:\n"
      ],
      "metadata": {
        "id": "MJk5MHBagZh1"
      }
    },
    {
      "cell_type": "code",
      "source": [
        "# Calculamos el seno de la lista x\n",
        "\n",
        "y = np.sin(x)"
      ],
      "metadata": {
        "id": "cfbbnntqgZh1"
      },
      "execution_count": null,
      "outputs": []
    },
    {
      "cell_type": "code",
      "source": [
        "# Trazamos el resultado\n",
        "\n",
        "plt.plot(x, y)"
      ],
      "metadata": {
        "id": "DjD_FDbFgZh1",
        "colab": {
          "base_uri": "https://localhost:8080/",
          "height": 282
        },
        "outputId": "0c995dee-cdb9-4bf2-9775-35866c5904d8"
      },
      "execution_count": null,
      "outputs": [
        {
          "output_type": "execute_result",
          "data": {
            "text/plain": [
              "[<matplotlib.lines.Line2D at 0x7fc9add0a110>]"
            ]
          },
          "metadata": {},
          "execution_count": 116
        },
        {
          "output_type": "display_data",
          "data": {
            "text/plain": [
              "<Figure size 432x288 with 1 Axes>"
            ],
            "image/png": "[encoded data removed]"
          },
          "metadata": {
            "needs_background": "light"
          }
        }
      ]
    },
    {
      "cell_type": "markdown",
      "source": [
        "### Inténtalo tú mismo\n",
        "\n",
        "Haz un array numpy de \\[5, 4] y 6 elementos\n"
      ],
      "metadata": {
        "id": "AY34UzFsgZh1"
      }
    },
    {
      "cell_type": "code",
      "source": [
        "# Escriba aquí su solución\n",
        "arr=np.linspace(5,4,6)\n",
        "arr"
      ],
      "metadata": {
        "id": "IbWKaLE-gZh2",
        "colab": {
          "base_uri": "https://localhost:8080/"
        },
        "outputId": "1a2d33a3-f615-45d7-deb9-eac42832657e"
      },
      "execution_count": null,
      "outputs": [
        {
          "output_type": "execute_result",
          "data": {
            "text/plain": [
              "array([5. , 4.8, 4.6, 4.4, 4.2, 4. ])"
            ]
          },
          "metadata": {},
          "execution_count": 117
        }
      ]
    },
    {
      "cell_type": "markdown",
      "source": [
        "<hr>\n"
      ],
      "metadata": {
        "id": "TUm8-uO1gZh2"
      }
    },
    {
      "cell_type": "markdown",
      "source": [
        "### Iterando Arrays 1-D\n",
        "\n",
        "Iterar significa pasar por los elementos uno por uno.\n",
        "\n",
        "Si iteramos en un array 1-D, pasará por cada elemento uno por uno.\n"
      ],
      "metadata": {
        "id": "17EqjGLTgZh8"
      }
    },
    {
      "cell_type": "markdown",
      "source": [
        "Si ejecutamos el array numpy, obtenemos el formato de un array\n"
      ],
      "metadata": {
        "id": "URDuiLQogZh8"
      }
    },
    {
      "cell_type": "code",
      "source": [
        "arr1 = np.array([1, 2, 3])\n",
        "print(arr1)"
      ],
      "metadata": {
        "id": "EwnsTgp9gZh8",
        "colab": {
          "base_uri": "https://localhost:8080/"
        },
        "outputId": "b63e29c8-b3ca-4cdc-a266-0c41de9e6379"
      },
      "execution_count": null,
      "outputs": [
        {
          "output_type": "stream",
          "name": "stdout",
          "text": [
            "[1 2 3]\n"
          ]
        }
      ]
    },
    {
      "cell_type": "markdown",
      "source": [
        "Pero si queremos obtener la forma de la lista, podemos usar un bucle for:\n"
      ],
      "metadata": {
        "id": "ty2ADuiUgZh8"
      }
    },
    {
      "cell_type": "code",
      "source": [
        "for x in arr1:\n",
        "  print(x)"
      ],
      "metadata": {
        "id": "6fVH66ZfgZh9",
        "colab": {
          "base_uri": "https://localhost:8080/"
        },
        "outputId": "2732df00-fa5c-4883-b96d-ed8326f58e44"
      },
      "execution_count": null,
      "outputs": [
        {
          "output_type": "stream",
          "name": "stdout",
          "text": [
            "1\n",
            "2\n",
            "3\n"
          ]
        }
      ]
    },
    {
      "cell_type": "markdown",
      "source": [
        "<h2 id=\"quiz\">Cuestionario sobre Array Numpy 1D</h2>\n"
      ],
      "metadata": {
        "id": "zAdbJ8AFgZh9"
      }
    },
    {
      "cell_type": "markdown",
      "source": [
        "Implementa la siguiente resta vectorial en numpy: u-v\n"
      ],
      "metadata": {
        "id": "ftADOdt1gZh9"
      }
    },
    {
      "cell_type": "code",
      "source": [
        "# Escribe tu código debajo y presiona Shift+Enter para ejecutar\n",
        "\n",
        "u = np.array([1, 0])\n",
        "v = np.array([0, 1])\n",
        "u-v"
      ],
      "metadata": {
        "id": "j5cO39WegZh9",
        "colab": {
          "base_uri": "https://localhost:8080/"
        },
        "outputId": "c66486b2-0b92-4272-9700-d0d93a51cbb4"
      },
      "execution_count": null,
      "outputs": [
        {
          "output_type": "execute_result",
          "data": {
            "text/plain": [
              "array([ 1, -1])"
            ]
          },
          "metadata": {},
          "execution_count": 121
        }
      ]
    },
    {
      "cell_type": "markdown",
      "source": [
        "<hr>\n"
      ],
      "metadata": {
        "id": "rlYEcq1QgZh9"
      }
    },
    {
      "cell_type": "markdown",
      "source": [
        "Multiplica el array numpy z por -2:\n"
      ],
      "metadata": {
        "id": "8xUfkEZVgZh9"
      }
    },
    {
      "cell_type": "code",
      "source": [
        "# Escribe tu código debajo y presiona Shift+Enter para ejecutar\n",
        "\n",
        "z = np.array([2, 4])\n",
        "z*-2"
      ],
      "metadata": {
        "id": "bRdpdoQWgZh-",
        "colab": {
          "base_uri": "https://localhost:8080/"
        },
        "outputId": "11bb8334-a6ba-4e83-e6cb-db53b5241268"
      },
      "execution_count": null,
      "outputs": [
        {
          "output_type": "execute_result",
          "data": {
            "text/plain": [
              "array([-4, -8])"
            ]
          },
          "metadata": {},
          "execution_count": 122
        }
      ]
    },
    {
      "cell_type": "markdown",
      "source": [
        "<hr>\n"
      ],
      "metadata": {
        "id": "ZWKLn6JegZh-"
      }
    },
    {
      "cell_type": "markdown",
      "source": [
        "Observa las listas <code>\\[1, 2, 3, 4, 5]</code> y <code>\\[1, 0, 1, 0, 1]</code>. Convierte ambas listas en arrays numpy y luego multiplícalas:\n"
      ],
      "metadata": {
        "id": "fNJkNAU_gZh-"
      }
    },
    {
      "cell_type": "code",
      "source": [
        "# Escribe tu código debajo y presiona Shift+Enter para ejecutar\n",
        "a=np.array([1, 2, 3, 4, 5])\n",
        "b=np.array([1, 0, 1, 0, 1])\n",
        "\n",
        "a*b"
      ],
      "metadata": {
        "id": "OKAKdEgZgZh-",
        "colab": {
          "base_uri": "https://localhost:8080/"
        },
        "outputId": "27749e3e-3d1f-4bba-dc47-f0a69e2c265b"
      },
      "execution_count": null,
      "outputs": [
        {
          "output_type": "execute_result",
          "data": {
            "text/plain": [
              "array([1, 0, 3, 0, 5])"
            ]
          },
          "metadata": {},
          "execution_count": 123
        }
      ]
    },
    {
      "cell_type": "markdown",
      "source": [
        "<hr>\n"
      ],
      "metadata": {
        "id": "ZNYx-yqlgZh-"
      }
    },
    {
      "cell_type": "code",
      "source": [
        "# Importamos las librerías\n",
        "\n",
        "import time \n",
        "import sys\n",
        "import numpy as np \n",
        "\n",
        "import matplotlib.pyplot as plt\n",
        "%matplotlib inline  \n",
        "\n",
        "def Plotvec2(a,b,c=None):\n",
        "    ax = plt.axes()# generamos los ejes de la ventana completa\n",
        "    ax.arrow(0, 0, *a, head_width=0.05, color ='r', head_length=0.1)#Añadimos una flecha a los ejes a con un ancho de punta de flecha de 0,05, color rojo y una longitud de punta de flecha de 0,1\n",
        "    plt.text(*(a + 0.1), 'a')\n",
        "    ax.arrow(0, 0, *b, head_width=0.05, color ='b', head_length=0.1)#Añadimos una flecha a los ejes b con un ancho de punta de flecha de 0,05, color azul y una longitud de punta de flecha de 0,1\n",
        "    plt.text(*(b + 0.1), 'b')\n",
        "    plt.ylim(-2, 2)#Establecemos el ylim en bottom(-2), top(2)\n",
        "    plt.xlim(-2, 2)#Establecemos el xlim en left(-2), right(2)\n",
        "    \n",
        "    if c is not None:\n",
        "      ax.arrow(0, 0, *c, head_width=0.05, color ='black', head_length=0.1)\n",
        "      plt.text(*(c + 0.1), 'c')\n",
        "\n"
      ],
      "metadata": {
        "id": "OSgHXO3rgZh-"
      },
      "execution_count": null,
      "outputs": []
    },
    {
      "cell_type": "markdown",
      "source": [
        "Convierte las listas <code>\\[-1, 1]</code> y <code>\\[1, 1]</code> en los arrays numpy <code>a</code> y <code>b</code>. Luego, traza los arrays como vectores usando la función <code>Plotvec2</code> y encuentra su producto escalar:\n"
      ],
      "metadata": {
        "id": "lWpRw-NpgZh_"
      }
    },
    {
      "cell_type": "code",
      "source": [
        "# Escribe tu código debajo y presiona Shift+Enter para ejecutar\n",
        "a = np.array([-1,1])\n",
        "b = np.array([1,1])\n",
        "c = a @ b\n",
        "\n",
        "Plotvec2(a,b)"
      ],
      "metadata": {
        "id": "TVNXN9lTgZh_",
        "colab": {
          "base_uri": "https://localhost:8080/",
          "height": 269
        },
        "outputId": "5151778c-44cd-4b81-ea00-dc988c49dc3a"
      },
      "execution_count": null,
      "outputs": [
        {
          "output_type": "display_data",
          "data": {
            "text/plain": [
              "<Figure size 432x288 with 1 Axes>"
            ],
            "image/png": "[encoded data removed]"
          },
          "metadata": {
            "needs_background": "light"
          }
        }
      ]
    },
    {
      "cell_type": "code",
      "source": [
        "c"
      ],
      "metadata": {
        "colab": {
          "base_uri": "https://localhost:8080/"
        },
        "id": "AoUWMb2kQ3qZ",
        "outputId": "25d51b36-c237-4bee-d9f6-184a820a8fde"
      },
      "execution_count": null,
      "outputs": [
        {
          "output_type": "execute_result",
          "data": {
            "text/plain": [
              "0"
            ]
          },
          "metadata": {},
          "execution_count": 131
        }
      ]
    },
    {
      "cell_type": "markdown",
      "source": [
        "<hr>\n"
      ],
      "metadata": {
        "id": "P2xisgfZgZh_"
      }
    },
    {
      "cell_type": "markdown",
      "source": [
        "Convierte las listas <code>\\[1, 0]</code> y <code>\\[0, 1]</code> en los arrays numpy <code>a</code> y <code>b</code>. Luego, traza los arrays como vectores usando la función <code>Plotvec2</code> y encuentra su producto escalar:\n"
      ],
      "metadata": {
        "id": "7aVl8bLzgZh_"
      }
    },
    {
      "cell_type": "code",
      "source": [
        "# Escribe tu código debajo y presiona Shift+Enter para ejecutar\n",
        "a=np.array([1,0])\n",
        "b=np.array([0,1])\n",
        "Plotvec2(a,b)"
      ],
      "metadata": {
        "id": "NCoAWa0BgZh_",
        "colab": {
          "base_uri": "https://localhost:8080/",
          "height": 269
        },
        "outputId": "6e66fe22-7b95-4ed2-adcb-4a4b29793bc9"
      },
      "execution_count": null,
      "outputs": [
        {
          "output_type": "display_data",
          "data": {
            "text/plain": [
              "<Figure size 432x288 with 1 Axes>"
            ],
            "image/png": "[encoded data removed]"
          },
          "metadata": {
            "needs_background": "light"
          }
        }
      ]
    },
    {
      "cell_type": "code",
      "source": [
        "a@b"
      ],
      "metadata": {
        "colab": {
          "base_uri": "https://localhost:8080/"
        },
        "id": "RxAFygN2ReHa",
        "outputId": "d7f35fcf-073a-4b2f-9d16-b32150f1ece6"
      },
      "execution_count": null,
      "outputs": [
        {
          "output_type": "execute_result",
          "data": {
            "text/plain": [
              "0"
            ]
          },
          "metadata": {},
          "execution_count": 133
        }
      ]
    },
    {
      "cell_type": "markdown",
      "source": [
        "<hr>\n"
      ],
      "metadata": {
        "id": "_yETfPqtgZiA"
      }
    },
    {
      "cell_type": "markdown",
      "source": [
        "Convierte las listas <code>\\[1, 1]</code> y <code>\\[0, 1]</code> en los arrays numpy <code>a</code> y <code>b</code>. Luego, traza los arrays como vectores usando la función <code>Plotvec2</code> y encuentra su producto escalar:\n"
      ],
      "metadata": {
        "id": "N484BBN_gZiA"
      }
    },
    {
      "cell_type": "code",
      "source": [
        "# Escribe tu código debajo y presiona Shift+Enter para ejecutar\n",
        "a=np.array([1,1])\n",
        "b=np.array([0,1])\n",
        "Plotvec2(a,b)"
      ],
      "metadata": {
        "id": "mz9QYS77gZiA",
        "colab": {
          "base_uri": "https://localhost:8080/",
          "height": 269
        },
        "outputId": "61a7d810-ce54-40a6-dbef-04f3512e0def"
      },
      "execution_count": null,
      "outputs": [
        {
          "output_type": "display_data",
          "data": {
            "text/plain": [
              "<Figure size 432x288 with 1 Axes>"
            ],
            "image/png": "[encoded data removed]"
          },
          "metadata": {
            "needs_background": "light"
          }
        }
      ]
    },
    {
      "cell_type": "code",
      "source": [
        "a@b"
      ],
      "metadata": {
        "colab": {
          "base_uri": "https://localhost:8080/"
        },
        "id": "wMHys7NNRlXH",
        "outputId": "3c677656-d37d-43be-e968-a8d83d385ab4"
      },
      "execution_count": null,
      "outputs": [
        {
          "output_type": "execute_result",
          "data": {
            "text/plain": [
              "1"
            ]
          },
          "metadata": {},
          "execution_count": 135
        }
      ]
    },
    {
      "cell_type": "code",
      "source": [],
      "metadata": {
        "id": "I9SBY74oUlbE"
      },
      "execution_count": null,
      "outputs": []
    },
    {
      "cell_type": "code",
      "source": [],
      "metadata": {
        "id": "9OYr93-AULQK"
      },
      "execution_count": null,
      "outputs": []
    },
    {
      "cell_type": "markdown",
      "source": [
        "<hr>\n"
      ],
      "metadata": {
        "id": "1Fz_KQ1XgZiA"
      }
    },
    {
      "cell_type": "markdown",
      "source": [
        "¿Por qué el resultado del producto escalar para <code>\\[-1, 1]</code> y <code>\\[1, 1]</code> y del producto escalar para <code>\\[1, 0]</code> y <code>\\[0, 1]</code> es cero, pero no es cero para el producto escalar de <code>\\[1, 1]</code> y <code>\\[0, 1]</code>? <p><i>Pista: Estudia las figuras correspondientes, presta atención a la dirección hacia la que apuntan las flechas.</i></p>\n"
      ],
      "metadata": {
        "id": "MSvAlYN7gZiA"
      }
    },
    {
      "cell_type": "code",
      "source": [
        "# Escribe tu código debajo y presiona Shift+Enter para ejecutar\n",
        "\n",
        "# Los dos primeros son perpendiculares, por eso su producto escalar es cero"
      ],
      "metadata": {
        "id": "uhpJkZBWgZiA"
      },
      "execution_count": null,
      "outputs": []
    },
    {
      "cell_type": "markdown",
      "source": [
        "Convierte las listas <code>\\[1, 2, 3]</code> y <code>\\[8, 9, 10]</code> en los arrays numpy <code>arr1</code> y <code>arr2</code>. Luego realiza las operaciones <code>Addition</code> , <code>Subtraction</code> , <code>Multiplication</code> , <code>Division</code> y <code>Dot Operation</code> en <code>arr1</code> y <code>arr2</code>.\n"
      ],
      "metadata": {
        "id": "jY4o_7VUgZiB"
      }
    },
    {
      "cell_type": "code",
      "source": [
        "# Escribe tu código debajo y presiona Shift+Enter para ejecutar\n",
        "arr1 = np.array([1,2,3])\n",
        "arr2 = np.array([8,9,10])\n"
      ],
      "metadata": {
        "id": "c_HGYcgJgZiB"
      },
      "execution_count": null,
      "outputs": []
    },
    {
      "cell_type": "code",
      "source": [
        "arr1+arr2"
      ],
      "metadata": {
        "colab": {
          "base_uri": "https://localhost:8080/"
        },
        "id": "gA-5zYFDSlpI",
        "outputId": "91e41415-66f3-4456-d00c-a64a6625391f"
      },
      "execution_count": null,
      "outputs": [
        {
          "output_type": "execute_result",
          "data": {
            "text/plain": [
              "array([ 9, 11, 13])"
            ]
          },
          "metadata": {},
          "execution_count": 140
        }
      ]
    },
    {
      "cell_type": "code",
      "source": [
        "arr1-arr2"
      ],
      "metadata": {
        "colab": {
          "base_uri": "https://localhost:8080/"
        },
        "id": "09PGphyzSlrg",
        "outputId": "8db8bba1-25f1-4dab-ff25-79124af2308e"
      },
      "execution_count": null,
      "outputs": [
        {
          "output_type": "execute_result",
          "data": {
            "text/plain": [
              "array([-7, -7, -7])"
            ]
          },
          "metadata": {},
          "execution_count": 141
        }
      ]
    },
    {
      "cell_type": "code",
      "source": [
        "arr1*arr2"
      ],
      "metadata": {
        "colab": {
          "base_uri": "https://localhost:8080/"
        },
        "id": "D_VWTNyQSlwb",
        "outputId": "22ff3d29-8708-47e8-95d1-b20ca5854316"
      },
      "execution_count": null,
      "outputs": [
        {
          "output_type": "execute_result",
          "data": {
            "text/plain": [
              "array([ 8, 18, 30])"
            ]
          },
          "metadata": {},
          "execution_count": 142
        }
      ]
    },
    {
      "cell_type": "code",
      "source": [
        "arr1/arr2"
      ],
      "metadata": {
        "colab": {
          "base_uri": "https://localhost:8080/"
        },
        "id": "Xrtln-TiSly5",
        "outputId": "754fb360-45fd-4713-883d-5856ab68309c"
      },
      "execution_count": null,
      "outputs": [
        {
          "output_type": "execute_result",
          "data": {
            "text/plain": [
              "array([0.125     , 0.22222222, 0.3       ])"
            ]
          },
          "metadata": {},
          "execution_count": 143
        }
      ]
    },
    {
      "cell_type": "code",
      "source": [
        "arr1@arr2"
      ],
      "metadata": {
        "colab": {
          "base_uri": "https://localhost:8080/"
        },
        "id": "-GbdVYY7SvDW",
        "outputId": "55506c10-80ee-4a02-b84a-203d1c777963"
      },
      "execution_count": null,
      "outputs": [
        {
          "output_type": "execute_result",
          "data": {
            "text/plain": [
              "56"
            ]
          },
          "metadata": {},
          "execution_count": 144
        }
      ]
    },
    {
      "cell_type": "markdown",
      "source": [
        "Convierte las listas <code>\\[1, 2, 3, 4, 5]</code> y <code>\\[6, 7, 8, 9, 10]</code> en los arrays numpy <code>arr1</code> y <code>arr2</code>. Después encuentra los números pares e impares de <code>arr1</code> y <code>arr2</code>.\n"
      ],
      "metadata": {
        "id": "XaT85FUngZiB"
      }
    },
    {
      "cell_type": "code",
      "source": [
        "# Escribe tu código debajo y presiona Shift+Enter para ejecutar\n",
        "arr1=np.array([1,2,3,4,5])\n",
        "arr2=np.array([6,7,8,9,10])\n"
      ],
      "metadata": {
        "id": "PPx5w6GrgZiB"
      },
      "execution_count": null,
      "outputs": []
    },
    {
      "cell_type": "markdown",
      "source": [
        "## Por posicion:"
      ],
      "metadata": {
        "id": "XsMg7a7PS5cu"
      }
    },
    {
      "cell_type": "markdown",
      "source": [
        "Pares"
      ],
      "metadata": {
        "id": "D3YYxvpTTRb_"
      }
    },
    {
      "cell_type": "code",
      "source": [
        "arr1[1::2]"
      ],
      "metadata": {
        "colab": {
          "base_uri": "https://localhost:8080/"
        },
        "id": "JwNAU5KYS3VU",
        "outputId": "2baba222-8f77-4b0d-8f1e-e419c43dd3c8"
      },
      "execution_count": null,
      "outputs": [
        {
          "output_type": "execute_result",
          "data": {
            "text/plain": [
              "array([2, 4])"
            ]
          },
          "metadata": {},
          "execution_count": 151
        }
      ]
    },
    {
      "cell_type": "code",
      "source": [
        "arr2[1::2]"
      ],
      "metadata": {
        "colab": {
          "base_uri": "https://localhost:8080/"
        },
        "id": "fAlTtjLOTCDL",
        "outputId": "74b26cea-768a-4ee8-95c2-9100f9697d96"
      },
      "execution_count": null,
      "outputs": [
        {
          "output_type": "execute_result",
          "data": {
            "text/plain": [
              "array([7, 9])"
            ]
          },
          "metadata": {},
          "execution_count": 152
        }
      ]
    },
    {
      "cell_type": "markdown",
      "source": [
        "Impares:"
      ],
      "metadata": {
        "id": "GzjLWyioTR9m"
      }
    },
    {
      "cell_type": "code",
      "source": [
        "arr1[::2]"
      ],
      "metadata": {
        "colab": {
          "base_uri": "https://localhost:8080/"
        },
        "id": "k2JZOtKgTTFG",
        "outputId": "295b435a-49b2-43be-9cb0-4b086fed635a"
      },
      "execution_count": null,
      "outputs": [
        {
          "output_type": "execute_result",
          "data": {
            "text/plain": [
              "array([1, 3, 5])"
            ]
          },
          "metadata": {},
          "execution_count": 153
        }
      ]
    },
    {
      "cell_type": "code",
      "source": [
        "arr2[::2]"
      ],
      "metadata": {
        "colab": {
          "base_uri": "https://localhost:8080/"
        },
        "id": "pGNyYvRSTSx2",
        "outputId": "e51d57dd-1906-4125-8c00-44c0216c8452"
      },
      "execution_count": null,
      "outputs": [
        {
          "output_type": "execute_result",
          "data": {
            "text/plain": [
              "array([ 6,  8, 10])"
            ]
          },
          "metadata": {},
          "execution_count": 154
        }
      ]
    },
    {
      "cell_type": "markdown",
      "source": [
        "## Por valor:"
      ],
      "metadata": {
        "id": "KqfhJpNZS7Dc"
      }
    },
    {
      "cell_type": "markdown",
      "source": [
        "Pares"
      ],
      "metadata": {
        "id": "Ffjg4kiFTHGZ"
      }
    },
    {
      "cell_type": "code",
      "source": [
        "arr1[arr1%2==0]"
      ],
      "metadata": {
        "colab": {
          "base_uri": "https://localhost:8080/"
        },
        "id": "ki0lBv_MS8Xb",
        "outputId": "c69a26cc-8d7d-40ef-eeb9-841e03022881"
      },
      "execution_count": null,
      "outputs": [
        {
          "output_type": "execute_result",
          "data": {
            "text/plain": [
              "array([2, 4])"
            ]
          },
          "metadata": {},
          "execution_count": 146
        }
      ]
    },
    {
      "cell_type": "code",
      "source": [
        "arr2[arr2%2==0]"
      ],
      "metadata": {
        "colab": {
          "base_uri": "https://localhost:8080/"
        },
        "id": "hxdfIPiIS_Ez",
        "outputId": "2ada330b-9333-4888-a124-f54e9651cf38"
      },
      "execution_count": null,
      "outputs": [
        {
          "output_type": "execute_result",
          "data": {
            "text/plain": [
              "array([ 6,  8, 10])"
            ]
          },
          "metadata": {},
          "execution_count": 147
        }
      ]
    },
    {
      "cell_type": "markdown",
      "source": [
        "Impares:"
      ],
      "metadata": {
        "id": "M35JdcaHTI5Z"
      }
    },
    {
      "cell_type": "code",
      "source": [
        "arr1[arr1%2==1]"
      ],
      "metadata": {
        "colab": {
          "base_uri": "https://localhost:8080/"
        },
        "id": "_bRb2H2gTBL5",
        "outputId": "d63bd575-c2e5-4545-d02a-92837e7f4bcc"
      },
      "execution_count": null,
      "outputs": [
        {
          "output_type": "execute_result",
          "data": {
            "text/plain": [
              "array([1, 3, 5])"
            ]
          },
          "metadata": {},
          "execution_count": 148
        }
      ]
    },
    {
      "cell_type": "code",
      "source": [
        "arr2[arr2%2==1]"
      ],
      "metadata": {
        "colab": {
          "base_uri": "https://localhost:8080/"
        },
        "id": "Pd0Wlx_2TMH_",
        "outputId": "5c9c89d6-ec59-45cc-d90e-524e513d796c"
      },
      "execution_count": null,
      "outputs": [
        {
          "output_type": "execute_result",
          "data": {
            "text/plain": [
              "array([7, 9])"
            ]
          },
          "metadata": {},
          "execution_count": 150
        }
      ]
    },
    {
      "cell_type": "markdown",
      "source": [
        "# Campo de pruebas"
      ],
      "metadata": {
        "id": "waRcgRW6TxjX"
      }
    },
    {
      "cell_type": "code",
      "source": [
        "x=np.linspace(-2,2,100)"
      ],
      "metadata": {
        "id": "F7NKiBIZTNKb"
      },
      "execution_count": null,
      "outputs": []
    },
    {
      "cell_type": "code",
      "source": [
        "y=np.exp(x)"
      ],
      "metadata": {
        "id": "dlgymKS2T4aK"
      },
      "execution_count": null,
      "outputs": []
    },
    {
      "cell_type": "code",
      "source": [
        "plt.plot(x,y)"
      ],
      "metadata": {
        "colab": {
          "base_uri": "https://localhost:8080/",
          "height": 282
        },
        "id": "oa4g2Xz-UDrZ",
        "outputId": "429f5cc8-5f27-46bd-9041-c14f861bcdfe"
      },
      "execution_count": null,
      "outputs": [
        {
          "output_type": "execute_result",
          "data": {
            "text/plain": [
              "[<matplotlib.lines.Line2D at 0x7fc9ad298c10>]"
            ]
          },
          "metadata": {},
          "execution_count": 158
        },
        {
          "output_type": "display_data",
          "data": {
            "text/plain": [
              "<Figure size 432x288 with 1 Axes>"
            ],
            "image/png": "[encoded data removed]"
          },
          "metadata": {
            "needs_background": "light"
          }
        }
      ]
    },
    {
      "cell_type": "code",
      "source": [
        "a=np.array([1,1,0])\n",
        "b=np.array([1,-1,0])\n",
        "\n"
      ],
      "metadata": {
        "id": "MxrIHnRPUFjr"
      },
      "execution_count": null,
      "outputs": []
    },
    {
      "cell_type": "code",
      "source": [],
      "metadata": {
        "id": "dENJOikOVblx"
      },
      "execution_count": null,
      "outputs": []
    },
    {
      "cell_type": "code",
      "source": [
        "def plotv3(vectors):\n",
        "  import matplotlib.pyplot as plt\n",
        "  from mpl_toolkits.mplot3d import Axes3D\n",
        "  import numpy as np\n",
        "\n",
        "  fig = plt.figure()\n",
        "  ax = fig.add_subplot(111, projection='3d')\n",
        "  for vector in vectors:\n",
        "      v = vector\n",
        "      ax.quiver(0,0,0,v[0],v[1],v[2])\n",
        "  ax.set_xlim([-2,2])\n",
        "  ax.set_ylim([-2,2])\n",
        "  ax.set_zlim([-2,2])\n",
        "  ax.set_xlabel('x')\n",
        "  ax.set_ylabel('y')\n",
        "  ax.set_zlabel('z')\n",
        "  plt.show()"
      ],
      "metadata": {
        "id": "Ie1ZnSJYVp82"
      },
      "execution_count": null,
      "outputs": []
    },
    {
      "cell_type": "code",
      "source": [
        "plotv3([a,-b,np.cross(a,-b)])"
      ],
      "metadata": {
        "colab": {
          "base_uri": "https://localhost:8080/",
          "height": 248
        },
        "id": "aJ3K7NAbVT0o",
        "outputId": "f367861b-798e-43d3-c5a7-caf188b81067"
      },
      "execution_count": null,
      "outputs": [
        {
          "output_type": "display_data",
          "data": {
            "text/plain": [
              "<Figure size 432x288 with 1 Axes>"
            ],
            "image/png": "[encoded data removed]"
          },
          "metadata": {
            "needs_background": "light"
          }
        }
      ]
    },
    {
      "cell_type": "code",
      "source": [
        "t=np.linspace(-2*np.pi,2*np.pi,1000)\n",
        "x=np.cos(2*np.pi*t)*t**2\n",
        "y=np.sin(2*np.pi*t)*t\n",
        "z=t"
      ],
      "metadata": {
        "id": "Q32bVde6WPKt"
      },
      "execution_count": null,
      "outputs": []
    },
    {
      "cell_type": "code",
      "source": [
        "\n"
      ],
      "metadata": {
        "id": "W5vmTnddY_7w"
      },
      "execution_count": null,
      "outputs": []
    },
    {
      "cell_type": "code",
      "source": [
        "fig = plt.figure()\n",
        "ax = plt.axes(projection='3d')\n",
        "\n",
        "ax.plot3D(x,y,z)\n",
        "plt.show()"
      ],
      "metadata": {
        "colab": {
          "base_uri": "https://localhost:8080/",
          "height": 248
        },
        "id": "qSIdasB5Y9Gz",
        "outputId": "0b09da23-c0d6-4ecc-9104-3347b5b7ab1d"
      },
      "execution_count": null,
      "outputs": [
        {
          "output_type": "display_data",
          "data": {
            "text/plain": [
              "<Figure size 432x288 with 1 Axes>"
            ],
            "image/png": "[encoded data removed]"
          },
          "metadata": {
            "needs_background": "light"
          }
        }
      ]
    },
    {
      "cell_type": "code",
      "source": [],
      "metadata": {
        "id": "P4A-RuYwbSU7"
      },
      "execution_count": null,
      "outputs": []
    }
  ]
}